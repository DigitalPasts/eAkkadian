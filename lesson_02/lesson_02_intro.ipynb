{
 "cells": [
  {
   "cell_type": "markdown",
   "metadata": {},
   "source": [
    "# L2.1: Stems\n",
    "\n",
    "- Stems\n",
    "- G-Stem\n",
    "    - Present\n",
    "    - Preterite\n",
    "    - Imperative\n",
    "    - nominal Forms\n",
    "- Adverbs\n",
    "- Conjunctions"
   ]
  }
 ],
 "metadata": {
  "kernelspec": {
   "display_name": "Python 3.10.0 64-bit",
   "language": "python",
   "name": "python3"
  },
  "language_info": {
   "name": "python",
   "version": "3.10.0"
  },
  "orig_nbformat": 4,
  "vscode": {
   "interpreter": {
    "hash": "5c26deda390e14352809ff5e3846854a2e41da099b7523d3f7fcda45a1663734"
   }
  }
 },
 "nbformat": 4,
 "nbformat_minor": 2
}
