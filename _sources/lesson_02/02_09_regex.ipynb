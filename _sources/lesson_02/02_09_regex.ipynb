{
 "cells": [
  {
   "cell_type": "markdown",
   "metadata": {},
   "source": [
    "# Regular Expressions\n",
    "\n",
    "Regex, short for regular expression, is a sequence of characters that forms a search pattern. It's a powerful tool used in computer science and programming for matching and manipulating text strings.\n",
    "\n",
    "Regex allows you to define a pattern using a combination of special characters and literals. These patterns can be used to search, match, and replace strings in a flexible and efficient manner.\n",
    "\n",
    "Here are a few common use cases of regex:\n",
    "\n",
    "   1. Pattern matching: Regex can be used to check if a string matches a specific pattern. For example, you can use regex to verify if an email address is valid or if a phone number is in the correct format.\n",
    "   2. Search and extraction: Regex enables you to search for specific patterns within a larger text and extract the matching portions. For instance, you can extract all URLs from a webpage or find all occurrences of a particular word in a document.\n",
    "   3. Validation and data cleaning: Regex is often employed to validate user input or to clean up data. It allows you to enforce specific rules on the format or structure of input data. For example, you can use regex to ensure that a password meets certain complexity requirements or remove unwanted characters from a text file.\n",
    "   4. Text manipulation: Regex provides powerful tools for modifying and transforming text. You can use it to find and replace specific patterns, add or remove certain elements, or reformat text according to your needs.\n",
    "\n",
    "Regex syntax may vary slightly depending on the programming language or tool you are using, but the basic concepts and most commonly used symbols are generally consistent. Regex can be a complex topic, but mastering it can greatly enhance your ability to work with text in various programming and data processing tasks.\n",
    "\n",
    "## Examples\n",
    "Here are some examples of how regular expressions (regex) can be used with a novel:\n",
    "\n",
    "Find All Occurrences of a Character:\n",
    "\n",
    "    [Aa]lice\n",
    "\n",
    "This regex pattern will match both \"Alice\" and \"alice\" in the text. You can use it to find all instances of the character name \"Alice\" regardless of the capitalization.\n",
    "\n",
    "Match Dialogue:\n",
    "\n",
    "    \"[^\"]+\"\n",
    "\n",
    "This regex pattern can be used to match dialogue within quotation marks. It will capture any text enclosed in double quotation marks, which is commonly used to represent spoken words in a novel.\n",
    "\n",
    "Replace All Instances of a Word:\n",
    "\n",
    "    \\bcat\\b\n",
    "\n",
    "This regex pattern will match the word \"cat\" as a whole word and not as part of another word. You can use it to replace all instances of the word \"cat\" with another word or phrase.\n",
    "\n",
    "Find Sentences Ending with an Exclamation Mark:\n",
    "\n",
    "    [^.!?]*!\n",
    "\n",
    "This regex pattern will match sentences that end with an exclamation mark. It captures all text before the exclamation mark, allowing you to identify and analyze instances of exclamation in the novel.\n",
    "\n",
    "Match Character Descriptions:\n",
    "\n",
    "    [A-Z][a-zA-Z]+\\s[A-Z][a-zA-Z]+\n",
    "\n",
    "This regex pattern can be used to match character names in title case. It assumes that character names consist of two words, with the first letter capitalized for each word. You can use it to identify character introductions and analyze their presence in the novel.\n",
    "\n",
    "These examples demonstrate how regex can be used to search for and manipulate text patterns within a novel. The specific patterns you use will depend on the context and requirements of your analysis.\n",
    "\n",
    "Mocktext created by ChatGPT"
   ]
  }
 ],
 "metadata": {
  "kernelspec": {
   "display_name": "Python 3.10.0 64-bit",
   "language": "python",
   "name": "python3"
  },
  "language_info": {
   "name": "python",
   "version": "3.10.0"
  },
  "orig_nbformat": 4,
  "vscode": {
   "interpreter": {
    "hash": "5c26deda390e14352809ff5e3846854a2e41da099b7523d3f7fcda45a1663734"
   }
  }
 },
 "nbformat": 4,
 "nbformat_minor": 2
}
