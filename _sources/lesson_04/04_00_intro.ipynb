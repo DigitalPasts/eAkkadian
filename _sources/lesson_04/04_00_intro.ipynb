{
 "cells": [
  {
   "attachments": {},
   "cell_type": "markdown",
   "metadata": {},
   "source": [
    "# L4.0: Introduction\n",
    "In this chapter we will study some peculiarities of the strong verbs, weak verbs and the subjunctive. First we explain what is a weak verb. After that we will learn about the verbs with a weak first radical and third weak radicals. At the end we will see the subjunctive and how to make sobordinate sentences.\n",
    "\n",
    "- L4.1: [Denominative Adjectives](04_01_denom_adjec.ipynb)\n",
    "- L4.2: [Demonsrtative Adjectives](04_02_demons_adjec.ipynb)\n",
    "- L4.3: [Demonstrative Pronouns](04_03_demons_pron.ipynb)\n",
    "- L4.4: [Word Alignment](04_04_word-alignment.ipynb)\n",
    "- L4.5: [Exercises](04_05_exercises)\n",
    "- L4.6: [Vocabulary & Signs](04_06_vocab-signs)\n",
    "- L4.7: [Assignment](04_07_assignment)"
   ]
  }
 ],
 "metadata": {
  "kernelspec": {
   "display_name": "Python 3.10.0 64-bit",
   "language": "python",
   "name": "python3"
  },
  "language_info": {
   "name": "python",
   "version": "3.10.0"
  },
  "orig_nbformat": 4,
  "vscode": {
   "interpreter": {
    "hash": "5c26deda390e14352809ff5e3846854a2e41da099b7523d3f7fcda45a1663734"
   }
  }
 },
 "nbformat": 4,
 "nbformat_minor": 2
}
