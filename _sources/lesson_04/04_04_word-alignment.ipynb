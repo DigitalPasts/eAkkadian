{
 "cells": [
  {
   "attachments": {},
   "cell_type": "markdown",
   "metadata": {},
   "source": [
    "# Word alginment\n",
    "\n",
    "Word alignment refers to the process of establishing correspondences or links between words in parallel texts or bilingual corpora. It is commonly used in natural language processing and machine translation tasks to align words in one language with their corresponding words in another language.\n",
    "\n",
    "In the context of machine translation, word alignment helps to identify which words in the source language correspond to which words in the target language. This alignment information is valuable for training statistical machine translation models and for understanding the relationships between words in different languages.\n",
    "\n",
    "Word alignment can be done at different granularities, such as word-to-word alignment or phrase-to-phrase alignment. The alignment process aims to find the most suitable alignment between words in two languages based on their co-occurrence patterns and linguistic similarities.\n",
    "\n",
    "There are different approaches to word alignment, including statistical methods and rule-based methods. Statistical methods often use alignment models that estimate the probability of a word alignment given a particular translation. These models may consider factors such as word frequencies, sentence lengths, and local context. Rule-based methods, on the other hand, rely on predefined alignment rules or linguistic knowledge to establish word correspondences.\n",
    "\n",
    "Word alignment is crucial in various applications apart from machine translation. It is used in tasks like bilingual dictionary construction, cross-lingual information retrieval, and corpus analysis. It helps in building resources and models that enable effective language processing and understanding across different languages.\n",
    "\n",
    "# How to align words in different languages\n",
    "→ Open the text files with we cerated for the assignment of semantic annotations.\n",
    "→ Go to [UGARIT](https://ugarit.ialigner.com/main.php) and follow there the instruction to cerate an account add there the Akkadian and English text files.\n",
    "\n",
    "```{Admonition} ugarit\n",
    "Ugarit is a platform a simple and user-friendly environment to facilitate the collection of aligned pairs, which could then be used as training data for the development of automatic translation, alignment models, translations studies, etc\n",
    "```\n",
    "\n",
    "→ Open a new alignment project and put the Akkadina and English texts respectively:\n",
    "\n",
    "```{figure} ../images/ugarit_new-alignment.png\n",
    "---\n",
    "name: ugarit_new-alignment \n",
    "---\n",
    "New Akkadian-English alignment project.\n",
    "```\n",
    "\n",
    "→ Align the Akkadian-English equivalences. \n",
    "→ Save and close\n",
    "\n",
    "```{figure} ../images/ugarit_saao5_001.png\n",
    "---\n",
    "name: ugarit_aligned_saao5_001 \n",
    "---\n",
    "Aligned Akkadian-English words.\n",
    "```\n",
    "\n",
    "This method gives the student a closer reading of the akkadian text as he or she has to know what is the equivalent of an Akkadian word in English. The generated data can be used for other NLP tasks.\n",
    "\n"
   ]
  }
 ],
 "metadata": {
  "kernelspec": {
   "display_name": "Python 3.10.0 64-bit",
   "language": "python",
   "name": "python3"
  },
  "language_info": {
   "name": "python",
   "version": "3.10.0"
  },
  "orig_nbformat": 4,
  "vscode": {
   "interpreter": {
    "hash": "5c26deda390e14352809ff5e3846854a2e41da099b7523d3f7fcda45a1663734"
   }
  }
 },
 "nbformat": 4,
 "nbformat_minor": 2
}
