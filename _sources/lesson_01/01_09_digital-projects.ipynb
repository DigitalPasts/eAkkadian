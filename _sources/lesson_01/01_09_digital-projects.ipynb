{
 "cells": [
  {
   "attachments": {},
   "cell_type": "markdown",
   "metadata": {},
   "source": [
    "```{margin}\n",
    "GoA 28.2\n",
    "```\n",
    "\n",
    "# L1.9: Terminative-Adverbiative *-iš*\n",
    "The ending *-iš* had originally a terminative, later locative, function. It corresponds semantically to the preposition *ana* plus genitive. It can occur on nouns and adjectives:\n",
    "\n",
    "```{admonition} Example\n",
    "- *qerbiš* \"in the midst\".\n",
    "``` \n",
    "\n",
    "- On nouns it is no loonger productive. Its use is very restricted.\n",
    "- On infinitve, it denotes purpose:\n",
    "  ```{admonition} Example\n",
    "  - *amariš* \"(in order) to see\".\n",
    "  ``` \n",
    "- When it is used with another noun, the second is in genitive:\n",
    "  ```{admonition} Example\n",
    "  - *dāriš ūmī* \"forever\" (lit. \"for perpetuity of days\").\n",
    "  ```  \n",
    "- It can also be used with suffixes.\n",
    "  ```{admonition} Example\n",
    "  - *šēpiššu* \"at his foot\".\n",
    "  - *qātiššu* \"at his foot\".\n",
    "  ``` \n",
    "- In later stages of the language it can be used with the meaning \"like\" equivalent to *kīma* + gen. \"like a\":\n",
    "  ```{admonition} Example\n",
    "  - *abūbiš* \"like a flood\" = *kīma abūbim*.\n",
    "  - *abūbāniš* \"like a flood\" (with the suffix *-an*)\n",
    "  ```\n",
    "\n",
    "- It can be used to form adverbs when it is added to an adjective:\n",
    "  ```{admonition} Example\n",
    "  - *mādiš* \"much greatly\".\n",
    "  - *damqiš* \"well\".\n",
    "  - *rabîš* \"greatly\n",
    "  - *hadîš* joyfully\n",
    "  ``` \n",
    "- The ending *-išam* is an adverbial suffix that has principally a distributive meaning:\n",
    "  ```{admonition} Example\n",
    "  - *umišam* \"daily\".\n",
    "  - *warhišam* \"monthly\".\n",
    "  ```"
   ]
  }
 ],
 "metadata": {
  "kernelspec": {
   "display_name": "Python 3.10.0 64-bit",
   "language": "python",
   "name": "python3"
  },
  "language_info": {
   "name": "python",
   "version": "3.10.0"
  },
  "orig_nbformat": 4,
  "vscode": {
   "interpreter": {
    "hash": "5c26deda390e14352809ff5e3846854a2e41da099b7523d3f7fcda45a1663734"
   }
  }
 },
 "nbformat": 4,
 "nbformat_minor": 2
}
