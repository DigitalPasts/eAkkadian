{
 "cells": [
  {
   "cell_type": "markdown",
   "metadata": {},
   "source": [
    "# Lesson 1: Grammatical case\n",
    "In Akkadian there are three cases: \n",
    "\n",
    "- The **nominative** has the ending *-um* and indicates the subject in verbal and nominal sentences. For more details see: ABG §153.\n",
    "- The **genitive** has the ending *-im* and indicates possession, accompanies the *status constructus* and after prespositions. For more details see: ABG §154.\n",
    "- The **accusative:** has the ending *-am* and indicates the direct object of the verbs. It is also used in several adverbial expressions. For more details see: ABG §155.\n",
    "\n",
    "| Number | Gender | Case | Substantive | Adjective |\n",
    "|------- | ------ | -----| ----------- | --------- |\n",
    "| sg.    |  masc. | nom. | šarrum      | dannum    |\n",
    "|        |        | gen. | šarrim      | dannim    |\n",
    "|        |        | acc. | šarram      | dannam    |\n",
    "||||||\n",
    "| sg.    |  fem   | nom. | šarratum      | dannatum |\n",
    "|        |        | gen. | šarratim      | dannatim |\n",
    "|        |        | acc. | šarratam      | dannatam |\n",
    "\n",
    "Besides there are two more cases that already in Old Babylonian are not productive anymore: \n",
    "\n",
    "- The **locative-adverbialis** has the ending *-um*. It is replaced by the preposition *ina* + genitiv. It is used mainly in frozen adverial phrases.\n",
    "- The **terminative-adverbialis** \n",
    "\n",
    "\n",
    "They can also be used with pronominal suffixes:\n",
    "\n",
    "|  casus    | Masculine | Femenine |\n",
    "| --------- | --------  | ------- |\n",
    "| loc.-adv. | qatum  | šarratum |  \n",
    "| ter.-adv. | \n",
    "\n",
    "They are used in fixed phrases.\n",
    "\n",
    "## Vowel Contractions \n",
    "\n",
    "Nouns and adjectives with a final vowel make a contraction with  \n",
    "\n",
    "examples excercises\n",
    "\n"
   ]
  }
 ],
 "metadata": {
  "kernelspec": {
   "display_name": "Python 3.10.0 64-bit",
   "language": "python",
   "name": "python3"
  },
  "language_info": {
   "name": "python",
   "version": "3.10.0"
  },
  "orig_nbformat": 4,
  "vscode": {
   "interpreter": {
    "hash": "5c26deda390e14352809ff5e3846854a2e41da099b7523d3f7fcda45a1663734"
   }
  }
 },
 "nbformat": 4,
 "nbformat_minor": 2
}
