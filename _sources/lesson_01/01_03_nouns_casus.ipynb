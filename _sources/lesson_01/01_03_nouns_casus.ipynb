{
 "cells": [
  {
   "cell_type": "markdown",
   "metadata": {},
   "source": [
    "(casus)=\n",
    "# L1.3: Grammatical Case\n",
    "In Akkadian there are three grammatical cases: \n",
    "\n",
    "- The **nominative** has the ending *-um* and indicates the subject in verbal and nominal sentences. For more details see: ABG §153.\n",
    "- The **genitive** has the ending *-im* and indicates possession, it is used after a prepostition and accompanies the *status constructus*. For more details see: ABG §154.\n",
    "- The **accusative:** has the ending *-am* and indicates the direct object of the verbs. It is also used in several adverbial expressions. For more details see: ABG §155.\n",
    "\n",
    "| Number | Gender | Case | Substantive | Adjective | translation |\n",
    "|------- | ------ | -----| ----------- | --------- | ----------- |\n",
    "| sg.    |  masc. | nom. | šarrum      | dannum    | mighty king |\n",
    "|        |        | gen. | šarrim      | dannim    | of the mighty king |\n",
    "|        |        | acc. | šarram      | dannam    | mighty king |\n",
    "||||||\n",
    "| sg.    |  fem   | nom. | šarratum    | dannatum | mighty queen |\n",
    "|        |        | gen. | šarratim    | dannatim | of the mighty queen |\n",
    "|        |        | acc. | šarratam    | dannatam | mighty queen |\n",
    "\n",
    "All other cases are expressed with prepositions. Besides there are two more cases that already in Old Babylonian are not productive anymore: \n",
    "\n",
    "- The **locative** has the ending *-um*. It is replaced by the preposition *ina* + genitiv. It is used mainly in frozen adverial phrases. It can be used with pronominal suffixes. \n",
    "- The **terminative** has the ending *-iš*. It is replaced by the preposition *ana* + genitive.\n",
    "\n",
    "|  Case     | Noun    | Femenine |\n",
    "| --------- | ------- | ------- |\n",
    "| loc.-adv. | *qat-um*  | into the hand |  \n",
    "| loc.-adv. | *rittūšša* (\\<*ritt-um-ša*) | into her hand |\n",
    "| ter.-adv. | *ašar-iš* | to the place |\n",
    "\n",
    "(vowel-conraction)=\n",
    "## Vowel Contractions \n",
    "When two vowels appear consecutively, they are usually contracted. Generally the second one dominates. This contraction length is shown by circumflex:\n",
    "\n",
    "| First vowel + second vowel | contracted long vowel |\n",
    "| -------------------------- | --------------------- |\n",
    "| *a* + *a*                  | *â*                   |\n",
    "| *a* + *i*                  | *ê*                   |\n",
    "| *a* + *u*                  | *û*                   |\n",
    "|||\n",
    "| *i* + *a*                  | *ia* (*â*)            |\n",
    "| *i* + *i*                  | *î*                   |\n",
    "| *i* + *u*                  | *û*                   |\n",
    "|||\n",
    "| *u* + *a*                  | *â*                   |\n",
    "| *u* + *i*                  | *î*                   |\n",
    "| *u* + *u*                  | *û*                   |\n",
    "\n",
    "\n",
    "\n"
   ]
  }
 ],
 "metadata": {
  "kernelspec": {
   "display_name": "Python 3.10.0 64-bit",
   "language": "python",
   "name": "python3"
  },
  "language_info": {
   "name": "python",
   "version": "3.10.0"
  },
  "orig_nbformat": 4,
  "vscode": {
   "interpreter": {
    "hash": "5c26deda390e14352809ff5e3846854a2e41da099b7523d3f7fcda45a1663734"
   }
  }
 },
 "nbformat": 4,
 "nbformat_minor": 2
}
