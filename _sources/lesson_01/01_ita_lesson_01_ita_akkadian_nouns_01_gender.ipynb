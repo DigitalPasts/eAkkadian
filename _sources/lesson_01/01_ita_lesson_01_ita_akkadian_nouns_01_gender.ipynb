{
 "cells": [
  {
   "cell_type": "markdown",
   "metadata": {},
   "source": [
    "# Akkadian Nouns - Gender\n",
    "Akkadian nouns can have two genders: masculine and feminine. The adjective has to be congruent with its substantive and is placed is placed after the substantive.\n",
    "\n",
    "|Gender | Noun     | Adjective | Translation |\n",
    "|------ | -------- | --------  | ----------- |\n",
    "|masc.  | šarrum   | dannun    | mighty king |\n",
    "|fem.   | šarratum | dannatum  | mighty queen |\n",
    "\n",
    "The ending contains the elemen *-m* and is called **mimation**. It begins to desappear already in the old Babylonian period, later on completely.\n",
    "\n",
    "Nouns with a final vowel "
   ]
  }
 ],
 "metadata": {
  "kernelspec": {
   "display_name": "Python 3.10.0 64-bit",
   "language": "python",
   "name": "python3"
  },
  "language_info": {
   "name": "python",
   "version": "3.10.0"
  },
  "orig_nbformat": 4,
  "vscode": {
   "interpreter": {
    "hash": "5c26deda390e14352809ff5e3846854a2e41da099b7523d3f7fcda45a1663734"
   }
  }
 },
 "nbformat": 4,
 "nbformat_minor": 2
}
