{
 "cells": [
  {
   "cell_type": "markdown",
   "metadata": {},
   "source": [
    "(state)=\n",
    "# L1.1: Status\n",
    "The status is the form the noun takes when it stands by itself or in relation to another noun. In Akkadian there are three status:\n",
    "\n",
    "(st-rt)=\n",
    "## Status Rectus\n",
    "This is the the inflected (nominative, genitive, accusative) form of the noun, when it is not before the a noun in genitive. \n",
    "\n",
    "| *Status rectus* | Translation |\n",
    "|---------------- | ----------- |\n",
    "| *šarrum* (nom.) | king        |\n",
    "| *ilam* (acc.)   | god         |\n",
    "| *ālim*  (gen.)  | city        |\n",
    "| *bēlum* (nom.)  | lord        |\n",
    "\n",
    "\n",
    "`````{admonition} To Show-off 🤓 \n",
    ":class: tip\n",
    "From now on this status won't be mentioned, but remember that if \n",
    "`````\n",
    "\n",
    "(st-ct)=\n",
    "## Status Constructus\n",
    "This is the form of a noun before another one in genitiv and before a possessive suffix. This is found in all semitic languages. For more details see \n",
    "\n",
    "| *Status rectus* | *Status constructus* | Genitiv | Translation       |     | Possessive suffix  | Translation |\n",
    "| ------------- | -------------------- | ------- | ----------------- | --- | ------------------ | ----------- |\n",
    "| *bēlum*       | *bēl*                | *ālim*  | lors of the city  |     | *bēl-ī*              | my lord     |\n",
    "\n",
    "\n",
    "(st-ab)=\n",
    "## Status Absolutus\n",
    "Thi is the form without ending. It occurs rarely and it is used for the vocative, numerals, measures of length, weight, etc. and in some frozen idiomatic expressions. This is found only in Akkadian and Aramaic.\n",
    "\n",
    "| *Status absolutus* | *Status rectus* | Translation |\n",
    "|----------------- | ------------- | ----------- |\n",
    "| zikar[^\\*]       | zikarum       | viril       |\n",
    "| šarrat           | šarratum      | queen       |\n",
    "| šinniš[^\\*]      | šinništum     | woman       |\n",
    "\n",
    "[^\\*]: they are often used in the idiomatic expressions *zikar u šinniš* \"male and female\".\n"
   ]
  }
 ],
 "metadata": {
  "kernelspec": {
   "display_name": "Python 3.10.0 64-bit",
   "language": "python",
   "name": "python3"
  },
  "language_info": {
   "name": "python",
   "version": "3.10.0"
  },
  "orig_nbformat": 4,
  "vscode": {
   "interpreter": {
    "hash": "5c26deda390e14352809ff5e3846854a2e41da099b7523d3f7fcda45a1663734"
   }
  }
 },
 "nbformat": 4,
 "nbformat_minor": 2
}
