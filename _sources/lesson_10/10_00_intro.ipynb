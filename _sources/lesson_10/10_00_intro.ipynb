{
 "cells": [
  {
   "attachments": {},
   "cell_type": "markdown",
   "metadata": {},
   "source": [
    "# L10.0: Introduction\n",
    "In this chapter we will conitnue to study weak verbs. First the II-weaks verbs, second verbs that have two weak radicals. Afterward we will learn about special verbs whose conjugations are irregular. Hereafter we will see how to make subordinate sentences. At then end we will analyse the letter formula from the Old babylonain time.\n",
    "\n",
    "- L10.1: [Verbs I-ʾ](10_01_1_aleph_verbs.ipynb)\n",
    "- L10.2: [Verbs I-y](10_02_1_y_verbs.ipynb)\n",
    "- L10.3: [Relative Sentences](10_03_relative-sentences.ipynb)\n",
    "- L10.4: [DH-Topic](10_04_dh-topic.ipynb)\n",
    "- L10.5: [Exercises](10_05_exercises.ipynb)\n",
    "- L10.6: [Vocabulary & Signs](10_06_vocab-signs.ipynb)\n",
    "- L10.7: [Assignment](10_07_assignment.ipynb)"
   ]
  }
 ],
 "metadata": {
  "kernelspec": {
   "display_name": "Python 3.10.0 64-bit",
   "language": "python",
   "name": "python3"
  },
  "language_info": {
   "name": "python",
   "version": "3.10.0"
  },
  "orig_nbformat": 4,
  "vscode": {
   "interpreter": {
    "hash": "5c26deda390e14352809ff5e3846854a2e41da099b7523d3f7fcda45a1663734"
   }
  }
 },
 "nbformat": 4,
 "nbformat_minor": 2
}
