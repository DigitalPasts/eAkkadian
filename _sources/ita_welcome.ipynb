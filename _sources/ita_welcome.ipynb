{
 "cells": [
  {
   "cell_type": "markdown",
   "metadata": {},
   "source": [
    "# Introduction to Akkadian\n",
    "**Design by the [Digital Pasts Lab](https://digitalpasts.github.io/)** // **Powered by [Jupiter Book](https://jupyterbook.org/en/stable/intro.html)**\n",
    "\n",
    "```{margin} Sennacherib's Campaign in the Levant\n",
    "There are three main sources for the Sennacherib's third military campaign: [Taylor Prism](https://cdli.ucla.edu/search/search_results.php?SearchMode=Text&ObjectID=P421809) in the British Museum. The [Chicago Prism](https://cdli.ucla.edu/search/search_results.php?SearchMode=Text&ObjectID=P313081) in the Oriental Institute, University of Chicago, and the [Jerusalem Prism](https://cdli.ucla.edu/search/search_results.php?SearchMode=Text&ObjectID=P430082) in the Israel Museum, Jerusalem.\n",
    "```\n",
    "\n",
    "On the year 701 BCE the Assyrian King Sennacherib led his troops against rebellious kingdoms in the Levant. This was his third military campaign. In his annals, written in Akkadian on clay prisms, the narration begins as follows:   \n",
    "\n",
    "```{figure} C:/Users/luiss/introduction_to_akkadian/images/taylor-prism-3-campaign_detail.png\n",
    "---\n",
    "name: detail-taylor-prism-3-campaign.png\n",
    "---\n",
    "Details from the [Taylor Prism](https://www.britishmuseum.org/collection/object/W_1855-1003-1) of the third campaign.\n",
    "```\n",
    "\n",
    "| Transliteration | Translation |\n",
    "| --------------- | ----------- | \n",
    "| (ii 37) *i-na šal-ši ger-ri-ia a-na* <sup>kur</sup>*ḫa-at-ti lu al-lik* (ii 37) <sup>m</sup>*lu-li-i* LUGAL <sup>uru</sup>*ṣi-du-un-ni pul-ḫi me-lam-me* (ii 39) *be-lu-ti-ia is-ḫu-pu-šu-ma a-na ru-uq-qí* (ii 40) *qa-bal tam-tim in-na-bit-ma šad-da-šú e-mid* (ii 41) <sup>uru</sup>*ṣi-du-un-nu* GAL*-ú* <sup>uru</sup>*ṣi-du-un-nu ṣe-eḫ-ru* (ii 42) <sup>uru</sup>É-*zi-it-te* <sup>uru</sup>*ṣa-ri-ip-tu* <sup>uru</sup>*ma-ḫal-li-ba* (ii 43) <sup>uru</sup>*ú-šu-ú* <sup>uru</sup>*ak-zi-ba* <sup>uru</sup>*ak-ku-ú* (ii 44) URU.MEŠ-*šú dan-nu-ti* É BÀD.MEŠ-*ni a-šar ri-i-ti* (ii 45) *ù maš-qí-ti* É *tuk-la-ti-šú ra-šub-bat* GIŠ.TUKUL <sup>d</sup>*aš-šur* (ii 46) EN-*ia is-ḫu-pu-šú-nu-ti-ma ik-nu-šú* (ii 47) *še-pu-ú-a* | On my third campaign, I marched to the land Ḫatti. Fear of my lordly brilliance overwhelmed Lulî, the king of the city Sidon, and he fled afar into the midst of the sea. The awesome terror of the weapon of the god Aššur, my lord, overwhelmed the cities Great Sidon, Lesser Sidon, Bīt-Zitti, Ṣarepta, Maḫalliba, Ušû, Akzibu, (and) Acco, his fortified cities (and) fortresses, an area of pasture(s) and water-place(s), resources upon which he relied, and they bowed down at my feet. |\n",
    "\n",
    "He goes all the way south until the gates of Jerusalem punishing those who rebeled and showing mercy to those who were loyal. Hezekiah, king of Juda, was among the rebellious kings. With all his military power Sennacherib conquers one judean city after another including the fortification of Lachish and siege Jerusalem. The annals continues:  \n",
    "\n",
    "| Transliteration | Translation |\n",
    "| --------------- | ----------- | \n",
    "| (iii 19) *ša la ik-nu-šú a-na ni-ri-ia* 46 URU.MEŠ-*šú* *dan-nu-ti* iii 20 É BÀD.MEŠ *ù* URU.MEŠ TUR.MEŠ *ša li-me-ti-šú-nu* (iii 21) *ša ni-ba la i-šu-ú i-na šuk-bu-us a-ram-me* (iii 22) *ù qit-ru-ub šu-pi-i mit-ḫu-uṣ zu-uk* GÌR.II (iii 23) *pil-ši nik-si ù kal-ban-na-te al-me* KUR-*ud* (iii 24) 2 ME LIM 1 ME 50 UN.MEŠ TUR GAL NITA ù MUNUS (iii 25) ANŠE.KUR.RA.MEŠ ANŠE.KUNGA.MEŠ ANŠE.MEŠ ANŠE.GAM.MAL.MEŠ (iii 26) GU₄.MEŠ *ù ṣe-e-ni ša la ni-bi ul-tu qer-bi-šú-un* (iii 27) *ú-še-ṣa-am-ma šal-la-tiš am-nu šá-a-šú* GIM MUŠEN *qu-up-pi* (iii 28) *qé-reb* URU.*ur-sa-li-im-mu* URU LUGAL-*ti-šú* (iii 29) *e-sír-šú* URU.ḪAL.ṢU.MEŠ UGU-*šú ú-rak-kis-ma* (iii 30) *a-ṣe-e* KÁ.GAL URU-*šú ú-ter-ra ik-ki-bu-uš* URU.MEŠ-*šú* (iii 31) *ša áš-lu-la ul-tu qé-reb* KUR-*šú ab-tuq-ma* (iii 32) *a-na mmi-ti-in-ti* LUGAL URU.*as-du-di* (iii 33) <sup>m</sup>*pa-di-i* LUGAL URU.*am-qar-ru-na ù* <sup>m</sup>GISSU-EN (iii 34) LUGAL URU.*ḫa-zi-ti ad-din-ma ú-ṣa-aḫ-ḫir* KUR-*su* (iii 35) *e-li* GUN *maḫ-ri-ti na-dan šat-ti-šú-un** (iii 36) *man-da-at-tu kàd-re-e be-lu-ti-ia ú-rad-di-ma* (iii 37) *ú-kin ṣe-ru-uš-šú šu-ú mḫa-za-qi-a-ú* | Moreover, (as for) Hezekiah of the land Judah, who had not submitted to my yoke, I surrounded (and) conquered forty-six of his fortified cities, (iii 20) fortresses, and small(er) settlements in their environs, which were without number, by having ramps trodden down and battering rams brought up, the assault of foot soldiers, sapping, breaching, and siege engines. I brought out of them 200,150 people, young (and) old, male and female, (iii 25) horses, mules, donkeys, camels, oxen, and sheep and goats, which were without number, and I counted (them) as booty. (iii 27b) As for him (Hezekiah), I confined him inside the city Jerusalem, his royal city, like a bird in a cage. I set up blockades against him and (iii 30) made him dread exiting his city gate. I detached from his land the cities of his that I had plundered and I gave (them) to Mitinti, the king of the city Ashdod, Padî, the king of the city Ekron, and Ṣilli-Bēl, the king of the city Gaza, and (thereby) made his land smaller. (iii 35) To the former tribute, their annual giving, I added the payment (of) gifts (in recognition) of my overlordship and imposed (it) upon them (text: “him”). (iii 37b) As for him, Hezekiah, fear of my lordly brilliance overwhelmed him and, after my (departure), he had the auxiliary forces and his elite troops whom (iii 40) he had brought inside to strengthen the city Jerusalem, his royal city, thereby gaining reinforcements, along with 30 talents of gold, 800 talents of silver, choice antimony, large blocks of ..., ivory beds, armchairs of ivory, elephant hide(s), elephant ivory, (iii 45) ebony, boxwood, every kind of valuable treasure, as well as his daughters, his palace women, male singers, (and) female singers brought into Nineveh, my capital city, and he sent a mounted messenger of his to me to deliver (this) payment and to do obeisance.|\n",
    "\n",
    "This is one example"
   ]
  },
  {
   "cell_type": "code",
   "execution_count": null,
   "metadata": {
    "tags": [
     "remove-input"
    ]
   },
   "outputs": [],
   "source": [
    "import IPython\n",
    "IPython.display.Audio(r\"C:\\Users\\luiss\\introduction_to_akkadian\\audio\\gilgamesch-XI_Hecker.mp3\")"
   ]
  },
  {
   "cell_type": "markdown",
   "metadata": {},
   "source": [
    "This website hosts an online course book, *Introduction to Akkadian*, which offers a short introduction to the \n",
    "\n",
    "**What is Akkadian?**\n",
    "Akkadian is due to his geographical and chronological distrbution one of most important languages in the Ancient Near East. Its written tradition is very long as well. \n",
    "\n",
    "- Mesopotamia - definition\n",
    "- Akkadian - where the names comes from\n",
    "- Assyrian Babylonians\n",
    "- Arameans, Hebrews, Greeks\n",
    "- Great epic: Gilgamesh, Enuma elish\n",
    "- Great monuments: Ninive \n",
    "- Old Babylonian with neoassyirian script\n",
    "\n",
    "**Why in Jupyter Notebooks?**\n",
    "This is the forst attempt to write an online course\n",
    "flexible\n",
    "interactiv"
   ]
  }
 ],
 "metadata": {
  "kernelspec": {
   "display_name": "Python 3.10.0 64-bit",
   "language": "python",
   "name": "python3"
  },
  "language_info": {
   "codemirror_mode": {
    "name": "ipython",
    "version": 3
   },
   "file_extension": ".py",
   "mimetype": "text/x-python",
   "name": "python",
   "nbconvert_exporter": "python",
   "pygments_lexer": "ipython3",
   "version": "3.10.0"
  },
  "orig_nbformat": 4,
  "vscode": {
   "interpreter": {
    "hash": "5c26deda390e14352809ff5e3846854a2e41da099b7523d3f7fcda45a1663734"
   }
  }
 },
 "nbformat": 4,
 "nbformat_minor": 2
}
