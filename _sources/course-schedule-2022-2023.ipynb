{
 "cells": [
  {
   "cell_type": "markdown",
   "metadata": {},
   "source": [
    "# Course Schedule 2022-2023\n",
    "\n",
    "| Week     | Date          | Topic                       | eAkkadian                                 | GoA          | Assignment      |\n",
    "| -------- | ------------- | --------------              | ----------------------------------------- | :----------: | ------------ | \n",
    "| Week 1   | Thur Oct 27   | Introduction Semitic family | [Akkadian as a Semitic language](akk-sem) | xxi-xxv      |               | \n",
    "|          |               | Writing system and cuneiform | [Cuneiform script](cuneif)               |              |               | \n",
    "|          |               | Nominal system: Nouns and Adjectives (fem./masc.; sg., dual, pl.) | [Status](state), [grammatical gender](gender), [grammatical case](casus), [grammatical number](numerus), [*status constructus*](st-ct)         |                       |\n",
    "|          |               | Independent personal pronouns | [Pronouns part 1](pron-1)  |                          |         \n",
    "|          |               | Vowel contractions, syncope rule, assimilation, vowel colorisation | [Vowel contraction](vowel-contraction) | |\n",
    "| Week 2   | Thur Nov 3    | Strong verbs G-stem (בניין קל), infinitive, preterite, durative, perfect |     |       |          \n",
    "|          |               | Verbal system generalities  |                        |                               |          \n",
    "|          |               | Nominal forms of the verb: verbal adjective, participle |     |                       |          \n",
    "| Week 3   | Thur Nov      | Pronominal suffixes (on nouns and prepositions) |             |                       |          \n",
    "|          |               | Bound forms                 |                         |                               |          \n",
    "|          |               | Denominative and demonstrative adjectives |           |                               |          \n",
    "|          |               | Adverbial noun endings (-um, -iš) |                   |                               |          \n",
    "|          |               | The quantifier *kalû*       |                         |                               |          \n",
    "| Week 4   | Thur Nov      | Subjunctive                 |                         |                               |          \n",
    "|          |               | Ventive                     |                                |                        |          \n",
    "|          |               | Accusative and dative suffixes on verbs |                    |                        |          \n",
    "| Week 5   | Thur Nov      | 3-weak verbs                |                         |                               |          \n",
    "|          |               | prima-N verbs               |                                |                        |          \n",
    "|          |               | 1-weak verbs                |                         |                               |          \n",
    "| Week 6   | Thur Dec      | Prima-W verbs               |                                |                        |          \n",
    "|          |               | 2-weak verbs                |                         |                               |          \n",
    "| Week 7   | Thur Dec      | Double weak verbs (*le’û*, *našû*, *nadû*, *šasû*, *šeʾû*) |           |              |          \n",
    "|          |               | Special verbs (*išû*, *idû*, *izuzzu*, *alāku*, *babālu*) |            |              |          \n",
    "| Week 8   | Thur Dec      | Imperative                  |                         |                               |          \n",
    "|          |               | Stative                     |                         |                               |          \n",
    "|          |               | Precative                   |                         |                               |          \n",
    "|          |               | Vetative                    |                         |                               |          \n",
    "|          |               | Prohibitive                 |                         |                               |          \n",
    "| Week 9   | Thur          | D-stem                      |                         |                               |          \n",
    "|          |               | Š-stem                      |                         |                               |          \n",
    "| Week 10  | Thur          | N-stem                      |                         |                               |          \n",
    "|          |               | Quadriradical verbs         |                         |                               |          \n",
    "| Week 11  | Thur          | G/D/Š/Nt-stems              |                         |                               |          \n",
    "|          |               | G/D/Š/Ntn-stems             |                         |                               |          \n",
    "| Week 12  | Thur          | Exercises                   |                         |                               |          \n",
    "| Week 13  | Thur          | Exercises                   |                         |                               |          "
   ]
  }
 ],
 "metadata": {
  "kernelspec": {
   "display_name": "Python 3.10.0 64-bit",
   "language": "python",
   "name": "python3"
  },
  "language_info": {
   "name": "python",
   "version": "3.10.0"
  },
  "orig_nbformat": 4,
  "vscode": {
   "interpreter": {
    "hash": "5c26deda390e14352809ff5e3846854a2e41da099b7523d3f7fcda45a1663734"
   }
  }
 },
 "nbformat": 4,
 "nbformat_minor": 2
}
