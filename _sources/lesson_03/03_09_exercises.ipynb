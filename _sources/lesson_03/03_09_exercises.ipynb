{
 "cells": [
  {
   "cell_type": "markdown",
   "metadata": {},
   "source": [
    "# L3.9: Exercises\n",
    "\n",
    "## Write in Cuneiform\n",
    "Use the signs in the section Vocabulary and Signs\n",
    "```{admonition} Example\n",
    ":class: tip\n",
    "- *mugur* = <font size=\"11\">𒈬𒄥</font>\n",
    "```\n",
    "- *saphum*\n",
    "- *zērum*\n",
    "- *sadrum*\n",
    "- *ṣerrētim*\n",
    "- šugitim*\n",
    "- *tallašu*\n",
    "- *hubtim*\n",
    "- *sekrum*\n",
    "- *abnam*\n",
    "- šuhurrum*\n",
    "- *šubtim*\n",
    "\n",
    "\n",
    "```{admonition} Solution\n",
    ":class: dropdown  \n",
    "*D-N-N*\n",
    "```"
   ]
  }
 ],
 "metadata": {
  "kernelspec": {
   "display_name": "Python 3.10.0 64-bit",
   "language": "python",
   "name": "python3"
  },
  "language_info": {
   "name": "python",
   "version": "3.10.0"
  },
  "orig_nbformat": 4,
  "vscode": {
   "interpreter": {
    "hash": "5c26deda390e14352809ff5e3846854a2e41da099b7523d3f7fcda45a1663734"
   }
  }
 },
 "nbformat": 4,
 "nbformat_minor": 2
}
