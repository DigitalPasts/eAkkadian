{
 "cells": [
  {
   "cell_type": "markdown",
   "metadata": {},
   "source": [
    "# L3.2: Pronominal Suffixes on Noun (*Status Constructus* Part 2)\n",
    "In [L1.4](/lesson_01/01_04_status-constructus.ipynb) we learnd how to bind two substatives. In such construction the first noun has to be in ***status consrtuctus***. It has many forms depending on the root, gender and number and even case, but the *status constructus* is also used with [pronominal suffixes](pron-suff_gen) to show possession.\n",
    "\n",
    "```{admonition} Example\n",
    "*bēlkīna* = your (fem. plu.) lord.\n",
    "*mārūki wardīya imhaṣū* = your (fem.sing.) sons hit my slaves.\n",
    "```\n",
    "\n",
    "As you can see from the example above the nound is status constructus and the suffix in genitive:\n",
    "\n",
    "```{admonition} Structure\n",
    "*bēl*              + *kīna* \n",
    "Status constructus + Pron. Siff in Genitive\n",
    "```\n",
    "The form of the *status constructus* can vary according to the case\n",
    "\n",
    "(st-ct_masc)=\n",
    "## Masculine Noun\n",
    "| *Status constructus* | Nom.         | Akk.   |\n",
    "| --------             | --------      | -----  |\n",
    "| *bēl*                | *bēlī*       | *bēlī* |\n",
    "|                      | *bēl(a)ka*   |\n",
    "|                      | *bēl(a)ki*   |\n",
    "|                      | *bēl(a)šu*   |           \n",
    "|                      | *bēl(a)ši*   | \n",
    "|                      | *bēl(a)ni*   | \n",
    "|                      | *bēl(a)kunu* | \n",
    "|                      | *bēl(a)kina* | \n",
    "|                      | *bēl(a)šunu* | \n",
    "|                      | *bēl(a)šina* | \n",
    "\n",
    "### Plural\n",
    "|               | Case      | *Status Rectus* | *Status constructus* | St. Const. with Suffix   |\n",
    "|--------       | ------:   | --------        | --------             | --------                 |\n",
    "| Masc.Plu.Noun | nom.      | *marū*          | *mārū*               | *mārūka*                   |\n",
    "| 2 sing. masc. | gen.acc   | *marī*          | *mārī*               | *mārīka*      \n",
    "\n",
    "\n",
    "\n",
    "The The pronominal suffixes used for this contruction are those in [genitive](pron-suff_gen) and \n"
   ]
  }
 ],
 "metadata": {
  "kernelspec": {
   "display_name": "Python 3.10.0 64-bit",
   "language": "python",
   "name": "python3"
  },
  "language_info": {
   "name": "python",
   "version": "3.10.0"
  },
  "orig_nbformat": 4,
  "vscode": {
   "interpreter": {
    "hash": "5c26deda390e14352809ff5e3846854a2e41da099b7523d3f7fcda45a1663734"
   }
  }
 },
 "nbformat": 4,
 "nbformat_minor": 2
}
