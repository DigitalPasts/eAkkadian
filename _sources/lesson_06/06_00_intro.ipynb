{
 "cells": [
  {
   "attachments": {},
   "cell_type": "markdown",
   "metadata": {},
   "source": [
    "# L6.0: Introduction\n",
    "\n",
    "- L6.1: [Negation](06_01_negation.ipynb)\n",
    "- L6.2: [Modals](06_02_modals.ipynb) \n",
    "- L6.3: [Imperative](06_03_imperative.ipynb)\n",
    "- L6.4: [Prohibitive](06_04_prohibitive.ipynb)\n",
    "- L6.5: [Precative](06_05_precative.ipynb)\n",
    "- L6.6: [Cohortative](06_06_cohortative.ipynb)\n",
    "- L6.7: [Vetitive](06_07_vetitive.ipynb)\n",
    "- L6.8: [Coordination of Words and Sentences](06_08_coordination-words-sentences.ipynb)\n",
    "- L6.9: [Exercises](06_09_exercises)\n",
    "- L6.10: [Vocabulary](06_10_vocabulary)\n",
    "- L6.11: [Assignment](06_11_assignment)"
   ]
  }
 ],
 "metadata": {
  "kernelspec": {
   "display_name": "Python 3.10.0 64-bit",
   "language": "python",
   "name": "python3"
  },
  "language_info": {
   "name": "python",
   "version": "3.10.0"
  },
  "orig_nbformat": 4,
  "vscode": {
   "interpreter": {
    "hash": "5c26deda390e14352809ff5e3846854a2e41da099b7523d3f7fcda45a1663734"
   }
  }
 },
 "nbformat": 4,
 "nbformat_minor": 2
}
