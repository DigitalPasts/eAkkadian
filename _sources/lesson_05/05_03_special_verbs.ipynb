{
 "cells": [
  {
   "attachments": {},
   "cell_type": "markdown",
   "metadata": {},
   "source": [
    "# L5.3: Special Verbs\n",
    "There are some frequently used verbs that show an irregular conjugation. They have to be learned each individually:\n",
    "\n",
    "## *alākum* \"to go\"\n",
    "|         | Durative      | Perfect    | Preterite  |\n",
    "| ------- | ------------- | --------   | ---------  |\n",
    "| 3s.c.   | *illak*       | *ittalak*  | *illik*    | \n",
    "| 2s.m.   | *tallak*      | *tattalak* | *tallik*   |\n",
    "| 2s.f.   | *tallakī*     | *tattalakī* | *tallikī*\n",
    "| 1s.c.   | *allak*       | *attalak*  | *allik*\n",
    "| 3pl.m.  | *illakū*      | *ittalkū*  | *illikū*\n",
    "| 3pl.f.  | *illakā*      | *ittalkā*  | *illakā*\n",
    "| 2pl.c.  | *tallakā*     | *tattalkā* | *tallikā*\n",
    "| 1pl.c.  | *nillak*      | *nittalak* | *nillik*\n",
    "\n",
    "## *izuzzum* \"to stand\"\n",
    "This is a biconsonantical root **ziz*\n",
    "\n",
    "|         | Durative   | Perfect     | Preterite  | \n",
    "| ------- | ---------  | --------    | ---------  | \n",
    "| 3s.c.   | *izzaz*    | *ittaziz*   | *izziz*    | \n",
    "| 3pl.m.  | *izzazzū*  | *ittazizzū* | *izzi(z)zū* |\n",
    "\n",
    "Participle    | Infinitve | Verbal Adjective |\n",
    "------------  | --------  | ---------------  | \n",
    "*muzzazum*    | *izuzzum*, *uzuzzum* | --    |\n",
    "\n",
    "## *i/utūlum* \"to lie\"\n",
    "This is a biconsonantical root **tīl*, **nīl*\n",
    "\n",
    "|         | Durative      | Perfect    | Preterite  \n",
    "| ------- | ------------- | --------   | ---------  \n",
    "| 3s.c.   | *inâl*, *ittâl* | *ittatīl* | *ittīl*, *inīl* | \n",
    "\n",
    "| Participle    | Infinitve | Verbal Adjective |\n",
    "| ------------  | --------  | ---------------  | \n",
    "| --            | *itūlum*, *utūlum* | --      |\n",
    "\n",
    "## *edûm* \"to know\"\n",
    "This verb is defective, therefore only the preterite attested (s. Greek *oida*, Latin *cognovi*, German *weiß*. It is III-*e*.\n",
    "\n",
    "|         | Durative      | Perfect    | Preterite  \n",
    "| ------- | ------------- | --------   | ---------  | \n",
    "| 3s.c.   | --            | --         | *īdē*      \n",
    "| 2s.m.   | --            | --         | *tīdē*     |\n",
    "| 2s.f.   | --            | --         | *tīdê*\n",
    "| 1s.c.   | --            | --         | *īdē*\n",
    "| 3pl.m.  | --            | --         | *idû*\n",
    "| 3pl.f.  | --            | --         | *idâ*\n",
    "| 2pl.c.  | --            | --         | *tīdâ*\n",
    "| 1pl.c.  | --            | --         | *nīdē*\n",
    "\n",
    "| Participle    | Infinitve | Verbal Adjective |\n",
    "| ------------  | --------  | ---------------  | \n",
    "| *mūdûm*       | *edûm*    | --  \n",
    "\n",
    "## *išûm* \"to have\"\n",
    "This verb is also defective, therefore only the preterite attested. It is III-*u*.\n",
    "\n",
    "|         | Durative      | Perfect    | Preterite  \n",
    "| ------- | ------------- | --------   | ---------  | \n",
    "| 3s.c.   | --            | --         | *īšū*      \n",
    "| 2s.m.   | --            | --         | *tīšū*     |\n",
    "| 2s.f.   | --            | --         | *tīšî*\n",
    "| 1s.c.   | --            | --         | *īšū*\n",
    "| 3pl.m.  | --            | --         | *išû*\n",
    "| 3pl.f.  | --            | --         | *išâ*\n",
    "| 2pl.c.  | --            | --         | *tīšâ*\n",
    "| 1pl.c.  | --            | --         | *nīšū*\n"
   ]
  }
 ],
 "metadata": {
  "kernelspec": {
   "display_name": "Python 3",
   "language": "python",
   "name": "python3"
  },
  "language_info": {
   "name": "python",
   "version": "3.10.0 (tags/v3.10.0:b494f59, Oct  4 2021, 19:00:18) [MSC v.1929 64 bit (AMD64)]"
  },
  "orig_nbformat": 4,
  "vscode": {
   "interpreter": {
    "hash": "5c26deda390e14352809ff5e3846854a2e41da099b7523d3f7fcda45a1663734"
   }
  }
 },
 "nbformat": 4,
 "nbformat_minor": 2
}
