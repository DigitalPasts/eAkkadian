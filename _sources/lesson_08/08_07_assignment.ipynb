{
 "cells": [
  {
   "attachments": {},
   "cell_type": "markdown",
   "metadata": {},
   "source": [
    "# L8.7: Assignment\n",
    "\n",
    "## ta-stems\n",
    "1. *nimtagar*\n",
    "2. *atlakā!*\n",
    "3. *imtahru*\n",
    "4. *taṣṣabbatā*\n",
    "5. *tiṣbutā*\n",
    "6. *ṣābum ūtebbeb*/*ūtabbab*\n",
    "7. *ubtallaṭu*\n",
    "8. *tuštaṣabbat*\n",
    "9. *uštamli*\n",
    "10. *uštēšer*\n",
    "\n",
    "## B. From the CH\n",
    "It continues the assignment L7.6 C.\n",
    "\n",
    "6. <font size=\"11\">𒊭𒄿𒅎</font> \n",
    "7. <font size=\"11\">𒅆𒈠𒀜𒌦</font>\n",
    "8. <font size=\"11\">𒀀𒈾𒀭𒀫𒌓</font>\n",
    "9. <font size=\"11\">𒌉𒊑𒌍𒋾𒅎</font>\n",
    "10. <font size=\"11\">𒊭𒀭𒂗𒆠</font>\n",
    "11. <font size=\"11\">𒀭𒂗𒆤𒌓</font>\n",
    "12. <font size=\"11\">𒆧𒉌𒅆</font>\n",
    "\n"
   ]
  }
 ],
 "metadata": {
  "kernelspec": {
   "display_name": "Python 3.10.0 64-bit",
   "language": "python",
   "name": "python3"
  },
  "language_info": {
   "name": "python",
   "version": "3.10.0 (tags/v3.10.0:b494f59, Oct  4 2021, 19:00:18) [MSC v.1929 64 bit (AMD64)]"
  },
  "orig_nbformat": 4,
  "vscode": {
   "interpreter": {
    "hash": "5c26deda390e14352809ff5e3846854a2e41da099b7523d3f7fcda45a1663734"
   }
  }
 },
 "nbformat": 4,
 "nbformat_minor": 2
}
