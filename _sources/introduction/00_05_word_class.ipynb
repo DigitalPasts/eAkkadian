{
 "cells": [
  {
   "cell_type": "markdown",
   "metadata": {},
   "source": [
    "# L0.5: Word Class (Parts of Speech) \n",
    "We will follow the classical classification according to [part of speech](https://en.wikipedia.org/wiki/Part_of_speech) (word classes) as modern scholars in Assyriology follow this classification as well. In Akkadian we classify the following word classes:\n",
    "\n",
    "- **Pronouns** \n",
    "  - Part 1: ↑[L1.6](C:\\Users\\luiss\\introduction_to_akkadian\\lesson_01\\01_06_pronouns_01.ipynb)\n",
    "- **Nouns** \n",
    "  - Status ↑[L1.1](noun-gender)\n",
    "  - Gender ↑[L1.2](C:\\Users\\luiss\\introduction_to_akkadian\\lesson_01\\01_02_nouns_gender.ipynb)\n",
    "  - Grammatical Case: ↑[L1.3](lesson_01\\01_03_nouns_casus.ipynb)\n",
    "  - Grammatical Number: ↑[L1.4](lesson_01\\01_04_gram_number.ipynb)\n",
    "  - Status Constructus: ↑[L1.5](lesson_01\\01_05_status_constructus.ipynb)\n",
    "- **Adjectives**\n",
    "  - Gender ↑[L1.2](lesson_01\\01_02_nouns_gender.ipynb)\n",
    "  - Grammatical Case: ↑[L1.3](lesson_01\\01_03_nouns_casus.ipynb)\n",
    "  - Grammatical Number: ↑[L1.4](lesson_01\\01_04_gram_number.ipynb)\n",
    "- **Numerals**\n",
    "- **Verbs** \n",
    "- **Adverbs** \n",
    "- **Prepositions**\n",
    "- **Conjunction**\n",
    "- **Subjunctions**\n",
    "- **Negation**\n",
    "- **Particles**\n",
    "- **Interjections**\n",
    "\n",
    "```{note}\n",
    "In Akkadian there is no definite article. The definiteness is determined according to the context.\n",
    " ``` "
   ]
  }
 ],
 "metadata": {
  "kernelspec": {
   "display_name": "Python 3.10.0 64-bit",
   "language": "python",
   "name": "python3"
  },
  "language_info": {
   "name": "python",
   "version": "3.10.0"
  },
  "orig_nbformat": 4,
  "vscode": {
   "interpreter": {
    "hash": "5c26deda390e14352809ff5e3846854a2e41da099b7523d3f7fcda45a1663734"
   }
  }
 },
 "nbformat": 4,
 "nbformat_minor": 2
}
