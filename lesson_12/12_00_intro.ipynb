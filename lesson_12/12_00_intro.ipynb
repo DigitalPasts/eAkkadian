{
 "cells": [
  {
   "attachments": {},
   "cell_type": "markdown",
   "metadata": {},
   "source": [
    "# L12.0: Introduction\n",
    "In this chapter we will conitnue to study weak verbs. First the II-weaks verbs, second verbs that have two weak radicals. Afterward we will learn about special verbs whose conjugations are irregular. Hereafter we will see how to make subordinate sentences. At then end we will analyse the letter formula from the Old babylonain time.\n",
    "\n",
    "- L12.1: [Double Weak Verbs](12_01_double_weak_verbs.ipynb)\n",
    "- L12.2: [Special Verbs](12_02_special_verbs.ipynb)\n",
    "- L12.3: [Subordination](12_03_subordination.ipynb)\n",
    "- L12.4: [DH-Topic](12_04_dh-topic.ipynb)\n",
    "- L12.5: [Exercises](12_05_exercises.ipynb)\n",
    "- L12.6: [Vocabulary & Signs](12_06_vocabulary.ipynb)\n",
    "- L12.7: [Assignment](12_07_assignment.ipynb)"
   ]
  }
 ],
 "metadata": {
  "kernelspec": {
   "display_name": "Python 3.10.0 64-bit",
   "language": "python",
   "name": "python3"
  },
  "language_info": {
   "name": "python",
   "version": "3.10.0 (tags/v3.10.0:b494f59, Oct  4 2021, 19:00:18) [MSC v.1929 64 bit (AMD64)]"
  },
  "orig_nbformat": 4,
  "vscode": {
   "interpreter": {
    "hash": "5c26deda390e14352809ff5e3846854a2e41da099b7523d3f7fcda45a1663734"
   }
  }
 },
 "nbformat": 4,
 "nbformat_minor": 2
}
