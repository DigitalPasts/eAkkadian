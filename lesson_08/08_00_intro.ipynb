{
 "cells": [
  {
   "attachments": {},
   "cell_type": "markdown",
   "metadata": {},
   "source": [
    "# L8.0: Introduction\n",
    "\n",
    "- L8.1: [Gt-Stem](08_01_gt-stem)\n",
    "- L8.2: [Dt-Stem](08_02_dt-stem) \n",
    "- L8.3: [Št-Stem](08_03_št-stem)\n",
    "- L8.4: [The *tan-*stems](08_04_tan-stems)\n",
    "- L8.5: [Exercises](08_05_exercises)\n",
    "- L8.6: [Vocabulary](08_06_vocabulary)\n",
    "- L8.7: [Assignment](08_07_assignment)"
   ]
  }
 ],
 "metadata": {
  "kernelspec": {
   "display_name": "Python 3.10.0 64-bit",
   "language": "python",
   "name": "python3"
  },
  "language_info": {
   "name": "python",
   "version": "3.10.0 (tags/v3.10.0:b494f59, Oct  4 2021, 19:00:18) [MSC v.1929 64 bit (AMD64)]"
  },
  "orig_nbformat": 4,
  "vscode": {
   "interpreter": {
    "hash": "5c26deda390e14352809ff5e3846854a2e41da099b7523d3f7fcda45a1663734"
   }
  }
 },
 "nbformat": 4,
 "nbformat_minor": 2
}
