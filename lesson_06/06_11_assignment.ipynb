{
 "cells": [
  {
   "attachments": {},
   "cell_type": "markdown",
   "metadata": {},
   "source": [
    "# L6.8: Assignment\n",
    "\n",
    "A. Analyse and translate\n",
    "   1. *wašbānu*\n",
    "   2. *damqūtum*\n",
    "   3. *damiq*\n",
    "   4. *šariq*\n",
    "   5. *ina šarāqim*\n",
    "   6. *šāriqum*\n",
    "   7. *kaspum šarqum*\n",
    "\n",
    "B. Translate the stative\n",
    "   1. *ālum und halṣum šalmū-ma šalmāku*\n",
    "   2. *balṭū*\n",
    "   3. *balṭa*\n",
    "   4. *kakkum māhiṣum*\n",
    "   5. *pālih ilim*\n",
    "\n",
    "C. Translate into Akkadian\n",
    "   1. Marduk and Anum are angry\n",
    "   2. The slave is fugitive.\n",
    "   3. The female slave is fugitive\n",
    "   4. I am fugitive.\n",
    "\n",
    "D. Translate the imperative\n",
    "1. *awīlam ana šarrim šupur*\n",
    "2. *ana ālim šuprīšunūti*\n",
    "3. *ištu mātim šēnam ṭurdā*\n",
    "4. *šamnam u kaspam šuprīm*\n",
    "5. *kaspam damqam šuqul*\n",
    "6. *ṭuppašu lā ikannak*\n",
    "7. *dīnšu i niprus*\n",
    "8. *ilī pilah*\n",
    "   \n",
    "E. CH § 200\n",
    "1. <font size=\"11\">𒋳𒈠𒀀𒉿𒈝</font>\n",
    "2. <font size=\"11\">𒅆𒅔𒉌𒀀𒉿𒅆</font>\n",
    "3. <font size=\"11\">𒈨𒄴𒊑𒋗</font>\n",
    "4. <font size=\"11\">𒀉𒋫𒁲</font>\n",
    "5. <font size=\"11\">𒅆𒅔𒈾𒋗𒄿𒈾𒀜𒁺𒌑</font>"
   ]
  }
 ],
 "metadata": {
  "kernelspec": {
   "display_name": "Python 3.10.0 64-bit",
   "language": "python",
   "name": "python3"
  },
  "language_info": {
   "name": "python",
   "version": "3.10.0"
  },
  "orig_nbformat": 4,
  "vscode": {
   "interpreter": {
    "hash": "5c26deda390e14352809ff5e3846854a2e41da099b7523d3f7fcda45a1663734"
   }
  }
 },
 "nbformat": 4,
 "nbformat_minor": 2
}
