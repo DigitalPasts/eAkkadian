{
 "cells": [
  {
   "cell_type": "markdown",
   "metadata": {},
   "source": [
    "# Welcome to your Jupyter Book\n",
    "\n",
    "This is a small sample book to give you a feel for how book content is\n",
    "structured.\n",
    "\n",
    ":::{note}\n",
    "Here is a note!\n",
    ":::\n",
    "\n",
    "And here is a code block:\n",
    "\n",
    "```\n",
    "e = mc^2\n",
    "```\n",
    "\n",
    "Check out the content pages bundled with this sample book to see more."
   ]
  }
 ],
 "metadata": {
  "kernelspec": {
   "display_name": "Python 3.8.8 ('base')",
   "language": "python",
   "name": "python3"
  },
  "language_info": {
   "codemirror_mode": {
    "name": "ipython",
    "version": 3
   },
   "file_extension": ".py",
   "mimetype": "text/x-python",
   "name": "python",
   "nbconvert_exporter": "python",
   "pygments_lexer": "ipython3",
   "version": "3.8.8"
  },
  "vscode": {
   "interpreter": {
    "hash": "2d10447999f2099ab06656ce4a46b38265d7fe2ef88043a45246f34e4097b491"
   }
  }
 },
 "nbformat": 4,
 "nbformat_minor": 2
}
