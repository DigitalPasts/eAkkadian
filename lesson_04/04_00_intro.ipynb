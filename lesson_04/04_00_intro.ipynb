{
 "cells": [
  {
   "attachments": {},
   "cell_type": "markdown",
   "metadata": {},
   "source": [
    "# L4.0: Introduction\n",
    "In this chapter we will study some peculiarities of the strong verbs, weak verbs and the subjunctive. First we explain what is a weak verb. After that we will learn about the verbs with a weak first radical and third weak radicals. At the end we will see the subjunctive and how to make sobordinate sentences.\n",
    "\n",
    "- L4.1: [Peculiarities Among Strong Verbs](04_01_peculiarities-strong-verb)\n",
    "- L4.2. [Verbs I-*ʾ*](04_02_1_aleph_verbs)\n",
    "- L4.3. [Weak Verbs](04_03_weak_verbs)\n",
    "- L4.4. [Geminated Verbs](04_04_geminated-verbs)\n",
    "- L4.5. [Verbs I-*n*](04_05_1_n_verbs)\n",
    "- L4.6. [Verbs I-*w*](04_06_1_w_verbs)\n",
    "- L4.7. [Verbs I-*y*](04_07_1_y_verbs)\n",
    "- L4.8. [Verbs III-weak](04_08_III_weak_verbs)\n",
    "- L4.9. [Exercises](04_09_exercises)\n",
    "- L4.10. [Vocabulary & Signs](04_10_vocab-signs)\n",
    "- L4.11. [Assignment](04_11_assignment)"
   ]
  }
 ],
 "metadata": {
  "kernelspec": {
   "display_name": "Python 3.10.0 64-bit",
   "language": "python",
   "name": "python3"
  },
  "language_info": {
   "name": "python",
   "version": "3.10.0"
  },
  "orig_nbformat": 4,
  "vscode": {
   "interpreter": {
    "hash": "5c26deda390e14352809ff5e3846854a2e41da099b7523d3f7fcda45a1663734"
   }
  }
 },
 "nbformat": 4,
 "nbformat_minor": 2
}
