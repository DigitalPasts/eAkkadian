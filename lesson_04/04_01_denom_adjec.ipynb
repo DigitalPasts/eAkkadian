{
 "cells": [
  {
   "cell_type": "markdown",
   "metadata": {},
   "source": [
    "```{margin}\n",
    "GoA 6.2\n",
    "```\n",
    "\n",
    "# L3.5: Denominative Adjectives\n",
    "To form the denominative adjectives  the endin ***-ī*** is added to the base of many nouns, including proper nouns, to denote a relation of belonging:\n",
    "\n",
    "```{admonition} Example\n",
    "- *mahru* \"front, front side\" → *mahrī* + *um* = *mahrûm* \"former, earlier, previous, first\"\n",
    "- *šaplu* \"underside, bottom\" → *šaplī* + *um* = *šaplûm \"lower\"\n",
    "```\n",
    "\n",
    "## Gentilic Adjectives\n",
    "When the ending of the denominative adjective ***-ī*** is added to a place name they are referred as gentilic adjectives\n",
    "\n",
    "```{admonition} Example\n",
    "- *Akkade* \"Akkad\" → *Akkadī* + *um* = *Akkadûm* \"Akkadian\"\n",
    "```\n",
    "\n",
    "## Declination of the Denominative Adjectives\n",
    "| Number | Case      | Masculine         | Feminine     |\n",
    "|------- | -----     | -----------       | ---------    |\n",
    "| sg.    | nom.      | *mahrûm*          | *mahrītum* |\n",
    "|        | gen.      | *mahrîm*          | *mahrītim* |         \n",
    "|        | acc.      | *mahriam*         | *mahrītam* |\n",
    "| pl.    | nom.      | *mahrûtum*        | *mahriātum* |\n",
    "|        | gen./acc. | *mahrûtim*        | *mahriātim* |\n"
   ]
  }
 ],
 "metadata": {
  "kernelspec": {
   "display_name": "Python 3.10.0 64-bit",
   "language": "python",
   "name": "python3"
  },
  "language_info": {
   "name": "python",
   "version": "3.10.0"
  },
  "orig_nbformat": 4,
  "vscode": {
   "interpreter": {
    "hash": "5c26deda390e14352809ff5e3846854a2e41da099b7523d3f7fcda45a1663734"
   }
  }
 },
 "nbformat": 4,
 "nbformat_minor": 2
}
