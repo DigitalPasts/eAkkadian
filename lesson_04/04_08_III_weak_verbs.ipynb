{
 "cells": [
  {
   "cell_type": "markdown",
   "metadata": {},
   "source": [
    "# L4.8: III-Weak Verbs\n",
    "There are two groups:\n",
    "\n",
    "1. Roots that consist of two consonants and have a long vowel *ī* or *ū*\n",
    "\n",
    "```{admonition} Example\n",
    "*banûm* \"to build\" with *ī*\n",
    "*manûm* \"to count\" with *ū*\n",
    "```\n",
    "2. Verbs III-*ʾ*"
   ]
  }
 ],
 "metadata": {
  "kernelspec": {
   "display_name": "Python 3.10.0 64-bit",
   "language": "python",
   "name": "python3"
  },
  "language_info": {
   "name": "python",
   "version": "3.10.0"
  },
  "orig_nbformat": 4,
  "vscode": {
   "interpreter": {
    "hash": "5c26deda390e14352809ff5e3846854a2e41da099b7523d3f7fcda45a1663734"
   }
  }
 },
 "nbformat": 4,
 "nbformat_minor": 2
}
