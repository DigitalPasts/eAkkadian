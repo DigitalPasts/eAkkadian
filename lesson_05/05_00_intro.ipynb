{
 "cells": [
  {
   "attachments": {},
   "cell_type": "markdown",
   "metadata": {},
   "source": [
    "# L5.0: Introduction\n",
    "\n",
    "\n",
    "- L5.1: [Nominal Verb Forms](05_01_nom-verb-forms.ipynb)\n",
    "- L5.2: [Infinitive](05_02_infinitive.ipynb)\n",
    "- L5.3: [Participle](05_03_participle.ipynb)\n",
    "- L5.4: [Verbal Adjective](05_04_verbaladjective.ipynb)\n",
    "- L5.5: [Stative](05_05_stative.ipynb)\n",
    "- L5.6: [Verbless Sentences](05_06_verbless-sentences.ipynb)\n",
    "- L5.7: [Exercises](05_07_exercises.ipynb)\n",
    "- L5.8: [Vocabulary & Signs](05_08_vocab-signs.ipynb)\n",
    "- L5.9: [Assignment](05_09_assignment.ipynb)"
   ]
  }
 ],
 "metadata": {
  "kernelspec": {
   "display_name": "Python 3",
   "language": "python",
   "name": "python3"
  },
  "language_info": {
   "name": "python",
   "version": "3.10.0"
  },
  "orig_nbformat": 4,
  "vscode": {
   "interpreter": {
    "hash": "5c26deda390e14352809ff5e3846854a2e41da099b7523d3f7fcda45a1663734"
   }
  }
 },
 "nbformat": 4,
 "nbformat_minor": 2
}
