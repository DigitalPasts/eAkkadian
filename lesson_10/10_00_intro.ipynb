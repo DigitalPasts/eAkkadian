{
 "cells": [
  {
   "attachments": {},
   "cell_type": "markdown",
   "metadata": {},
   "source": [
    "# L5.0: Introduction\n",
    "In this chapter we will conitnue to study weak verbs. First the II-weaks verbs, second verbs that have two weak radicals. Afterward we will learn about special verbs whose conjugations are irregular. Hereafter we will see how to make subordinate sentences. At then end we will analyse the letter formula from the Old babylonain time.\n",
    "\n",
    "- L5.1: [Verbs II-Weak](05_01_II_weak_verbs)\n",
    "- L5.2. [Double Weak Verbs](05_02_double_weak)\n",
    "- L5.3. [Special Verbs](05_03_special_verbs)\n",
    "- L5.4. [Subordinate Sentences](05_04_subordinator)\n",
    "- L5.5. [Old Babylonian Letters](05_05_ob_letters)\n",
    "- L5.6. [Exercises](05_06_exercises)\n",
    "- L5.7. [Vocabulary & Signs](05_07_vocab-signs)\n",
    "- L5.8. [Assignment](05_08_assignment)"
   ]
  }
 ],
 "metadata": {
  "kernelspec": {
   "display_name": "Python 3.10.0 64-bit",
   "language": "python",
   "name": "python3"
  },
  "language_info": {
   "name": "python",
   "version": "3.10.0"
  },
  "orig_nbformat": 4,
  "vscode": {
   "interpreter": {
    "hash": "5c26deda390e14352809ff5e3846854a2e41da099b7523d3f7fcda45a1663734"
   }
  }
 },
 "nbformat": 4,
 "nbformat_minor": 2
}
