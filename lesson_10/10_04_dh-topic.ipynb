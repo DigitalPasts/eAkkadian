{
 "cells": [
  {
   "cell_type": "markdown",
   "metadata": {},
   "source": [
    "# L4.7: I-*y* Verbs\n",
    "These verbs inflect like the I-*ʾ* *e*-class verbs. They have the vowel root *i*. The inflection of stative verbs I-*w* is similar, there are nevertheless some differences:\n",
    "\n",
    "1. In the durative and preterite the forms of the I-*y* and I-*w* are the same.\n",
    "2. In the perfect the infix keeps the vowel *a*:\n",
    "\n",
    "    ```{admonition} Example\n",
    "    - *ītasim* \"He has been suitable\"\n",
    "    ```  \n",
    "\n",
    "3. The infinitive keeps the vowel *a*:\n",
    "\n",
    "    ```{admonition} Example\n",
    "    - *wasāmum* \"\"to be(come) suitable\"\n",
    "    ```   \n",
    "\n",
    "## Conjugation of the verbs I-*y* and stative verbs I-*w*\n",
    "|         | Durative I-*y*  | Durative I-*w*  | Perfect I-*y*   | Perfect I-*w* | Preterite I-*y*   | Preterite I-*w* |\n",
    "| ------- | --------------  | --------        | ---------       | ---------     | ---------         | ---------       |  \n",
    "| 3s.c.   | *inniq*         | *issim*         | *īteniq*        | *ītasim*      | *īniq*            | *īsim*\n",
    "| 2s.m.   | *tenniq*        | *tessim*        | *tēteniq*       | [*tātasim*]   | *tēniq*           | *tēsim*   \n",
    "| 2s.f.   | *tenniqī*       | *tessimī*       | *tēteniqī*      | [*tātasimī*]  | *tēniqī*          | *tēsimī*\n",
    "| 1s.c.   | *enniq*         | *essim*         | *ēteniq*        | [*ātasim*]    | *ēniq*            | *ēsim*\n",
    "| 3pl.m.  | *inniqū*        | *issimū*        | *ītenqū*        | *ītasmū*      | *īniqū*           | *īsimū*\n",
    "| 3pl.f.  | *inniqā*        | *issimā*        | *ītenqā*        | [*ītasmā*]    | *īniqā*           | *īsimā*\n",
    "| 2pl.c.  | *tenniqā*       | *tessimā*       | *tētenqā*       | [*tātasmā*]   | *tēniqā*          | *tēsimā*\n",
    "| 1pl.c.  | *ninniq*        | *nissim*        | *nīteniq*       | [*nītasim*]   | *nīniq*           | *nisim*\n",
    "\n",
    "## Paradigm of the verbs I-*y* and stative verbs I-*w*\n",
    "|               | Durative        | Perfect    | Preterite    | Participle    | Infinitve | Verbal Adjective |\n",
    "| -------       | --------------  | --------   | ---------    | ------------  | --------  | ---------------  | \n",
    "| G I-*y*       | *inniq*         | *itēniq*   | *īniq*       | *ēniqu*       | *enēqu*   | [*enqu*]         |\n",
    "| G I-*w*       | *issim*         | *ītasim*   | *īsim*       | --            | *wasāmu*  | wasmu            |\n",
    "\n",
    "- *enēqum* \"to suckle\"\n",
    "- *wasāmum* \"to be(come) fitting, suitable; seasonable\""
   ]
  }
 ],
 "metadata": {
  "kernelspec": {
   "display_name": "Python 3.10.0 64-bit",
   "language": "python",
   "name": "python3"
  },
  "language_info": {
   "name": "python",
   "version": "3.10.0 (tags/v3.10.0:b494f59, Oct  4 2021, 19:00:18) [MSC v.1929 64 bit (AMD64)]"
  },
  "orig_nbformat": 4,
  "vscode": {
   "interpreter": {
    "hash": "5c26deda390e14352809ff5e3846854a2e41da099b7523d3f7fcda45a1663734"
   }
  }
 },
 "nbformat": 4,
 "nbformat_minor": 2
}
