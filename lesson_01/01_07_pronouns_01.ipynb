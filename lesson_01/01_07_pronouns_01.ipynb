{
 "cells": [
  {
   "cell_type": "markdown",
   "metadata": {},
   "source": [
    "(pron-1)=\n",
    "# L1.7: Pronouns Part 1: Independent personal pronouns\n",
    "There are six types of demostrantive pronouns\n",
    "\n",
    "- personal pronomens\n",
    "- Determinative \n",
    "- Demonstrative\n",
    "- Relative\n",
    "- Interrogative\n",
    "- Indefinite \n",
    "\n",
    "```{note}\n",
    "There is no reflexiv pronoun. \n",
    "```\n",
    "## Independent personal pronouns\n",
    "In this lesson we concentrate on the independet personal pronouns. These are:\n",
    "\n",
    "| Person + number + Gender | Nom.    | Gen./Akk.       | Dat. |\n",
    "|------------------------- | :-----: | :-------------: | :---------: |\n",
    "| 1. sg.c                  | *anāku* | *jâti*          | *jâšim*  |\n",
    "| 2. sing. masc.           | *attā*  | *kâti* (*kâta*) | *kašim*  |\n",
    "|"
   ]
  }
 ],
 "metadata": {
  "kernelspec": {
   "display_name": "Python 3.10.0 64-bit",
   "language": "python",
   "name": "python3"
  },
  "language_info": {
   "name": "python",
   "version": "3.10.0"
  },
  "orig_nbformat": 4,
  "vscode": {
   "interpreter": {
    "hash": "5c26deda390e14352809ff5e3846854a2e41da099b7523d3f7fcda45a1663734"
   }
  }
 },
 "nbformat": 4,
 "nbformat_minor": 2
}
