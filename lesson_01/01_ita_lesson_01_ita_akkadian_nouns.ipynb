{
 "cells": [
  {
   "cell_type": "markdown",
   "metadata": {},
   "source": [
    "# Akkadian Nouns\n",
    "Akkadian nouns can have two genders: masculine and feminine. \n",
    "\n",
    "| Masculine | Femenine |\n",
    "| -------- | -------- |\n",
    "| šarrum   | šarratum |\n",
    "\n",
    "There are Singular, dual and Plural\n",
    "\n",
    "|     | Masculine | Femenine |\n",
    "|---- | -------- | -------- |\n",
    "| sg. | šarrum   | šarratum |\n",
    "| dual| šarrān   | šarratān |\n",
    "| pl. | šarrū    | šarrātum |\n",
    "\n",
    "They can have three casus: nominative, genitive and accusative\n",
    "|     | casus |Masculine | Femenine |\n",
    "|---- | -------- | -------- | ------- |\n",
    "| sg. | nom. | šarrum  | šarratum |\n",
    "|     | gen.   | šarrim  | šarratim |\n",
    "|     | acc. | šarram  | šarratam |\n",
    "| dual| nom. | šarrān   | šarratān |\n",
    "|     | gen./acc. |šarrīn | šarratīn |        \n",
    "| pl. | nom. | šarrū    | šarrātum |\n",
    "|     | gen./acc. | šarrī | šarrātim |\n",
    "\n",
    "\n"
   ]
  }
 ],
 "metadata": {
  "kernelspec": {
   "display_name": "Python 3.10.0 64-bit",
   "language": "python",
   "name": "python3"
  },
  "language_info": {
   "name": "python",
   "version": "3.10.0"
  },
  "orig_nbformat": 4,
  "vscode": {
   "interpreter": {
    "hash": "5c26deda390e14352809ff5e3846854a2e41da099b7523d3f7fcda45a1663734"
   }
  }
 },
 "nbformat": 4,
 "nbformat_minor": 2
}
