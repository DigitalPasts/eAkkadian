{
 "cells": [
  {
   "cell_type": "markdown",
   "metadata": {},
   "source": [
    "(gender)=\n",
    "# L1.2: Grammatical Gender\n",
    "There are two grammatical genders: masculine and feminine.\n",
    "\n",
    "(noun-gender)=\n",
    "## Nouns\n",
    "Masculine nouns have no special ending, the femenines have *-t* or *-at*.\n",
    "\n",
    "| Masculine | Translation |   | Feminine   | Translation |\n",
    "|---------- | ----------- |---| ---------  | ----------- |\n",
    "| *šarrum*  | king        |   | *šarratum* | Queen       |\n",
    "| *ilum*    | god         |   | *iltum*    | goddess     |\n",
    "| *mārum*   | sohn        |   | *mārtum*   | daugther    |\n",
    "| *bēlum*   | lord        |   | *bēltum*   | lady        |\n",
    "\n",
    "````{margin}\n",
    "```{note}\n",
    "For more exception to this rules →GoA 2.1(e).\n",
    "```\n",
    "````\n",
    "\n",
    "Some formally masculine nouns are gramatically femenine : \n",
    "\n",
    "| Feminine | Translation |\n",
    "|--------- | ----------- |\n",
    "| *arhum*  | cow         |\n",
    "| *šēpum*  | foot        |\n",
    "| *ummun*  | mother      |\n",
    "| *enzum*  | she-goat    |\n",
    "| *nārum*  | river       |\n",
    "\n",
    "\n",
    "\n",
    "(adj-gender)=\n",
    "## Adjectives\n",
    "````{margin}\n",
    "```{note}\n",
    "For more details →AoG \n",
    "```\n",
    "````\n",
    "\n",
    "The adjective has to be congruent with its substantive and is placed normally after the substantive.\n",
    "\n",
    "|Gender | Noun + Adjective | Translation |\n",
    "|------ | ----------------  | ----------- |\n",
    "| masc. | *šarrum dannun*    | mighty king |\n",
    "| fem.  | *šarratum dannatum*  | mighty queen |\n",
    "| masc. | *ilum damqum*    | good god    |\n",
    "| fem.  | *iltum damiqtum*  | good goddess |\n",
    "\n",
    "\n"
   ]
  }
 ],
 "metadata": {
  "kernelspec": {
   "display_name": "Python 3.10.0 64-bit",
   "language": "python",
   "name": "python3"
  },
  "language_info": {
   "name": "python",
   "version": "3.10.0"
  },
  "orig_nbformat": 4,
  "vscode": {
   "interpreter": {
    "hash": "5c26deda390e14352809ff5e3846854a2e41da099b7523d3f7fcda45a1663734"
   }
  }
 },
 "nbformat": 4,
 "nbformat_minor": 2
}
