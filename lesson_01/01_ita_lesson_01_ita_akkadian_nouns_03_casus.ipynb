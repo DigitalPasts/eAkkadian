{
 "cells": [
  {
   "cell_type": "markdown",
   "metadata": {},
   "source": [
    "# Akkadian Nouns - Grammatical case\n",
    "There are three cases: nominative, genitive and accusative. \n",
    "\n",
    "| Number | Gender | Case | Substantive | Adjective |\n",
    "|------- | ------ | -----| ----------- | --------- |\n",
    "| sg.    |  masc. | nom. | šarrum      | dannum    |\n",
    "|        |        | gen. | šarrim      | dannim    |\n",
    "|        |        | acc. | šarram      | dannam    |\n",
    "| dual   |  masc. | nom. | šarrān      |           |\n",
    "|        |        | gen./acc. | šarrīn |           |        \n",
    "| pl.    | masc.  | nom. | šarrū       | dannūtum  |\n",
    "|        |        | gen./acc. | šarrī  | dannūtim  |\n",
    "||||||\n",
    "| sg.    |  fem   | nom. | šarratum      | dannatum |\n",
    "|        |        | gen. | šarratim      | dannatim |\n",
    "|        |        | acc. | šarratam      | dannatam |\n",
    "| dual   |  fem.  | nom. | šarratān      |  |\n",
    "|        |        | gen./acc. | šarratīn |  |        \n",
    "| pl.    |  fem.  | nom. | šarrātum      | dannātum |\n",
    "|        |        | gen./acc. | šarrātim | dannātum |\n",
    "\n",
    "Besides there are two more cases: locative-adverbialis and terminative-adverbialis. They can also be used with pronominal suffixes:\n",
    "\n",
    "|  casus    | Masculine | Femenine |\n",
    "| --------- | --------  | ------- |\n",
    "| loc.-adv. | qatum  | šarratum |  \n",
    "| ter.-adv. | \n",
    "\n",
    "Already in Old Babylonian they are not productive anymore. They are used in fixed phrases.\n",
    "\n",
    "\n",
    "\n"
   ]
  }
 ],
 "metadata": {
  "kernelspec": {
   "display_name": "Python 3.10.0 64-bit",
   "language": "python",
   "name": "python3"
  },
  "language_info": {
   "name": "python",
   "version": "3.10.0"
  },
  "orig_nbformat": 4,
  "vscode": {
   "interpreter": {
    "hash": "5c26deda390e14352809ff5e3846854a2e41da099b7523d3f7fcda45a1663734"
   }
  }
 },
 "nbformat": 4,
 "nbformat_minor": 2
}
