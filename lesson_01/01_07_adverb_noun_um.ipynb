{
 "cells": [
  {
   "attachments": {},
   "cell_type": "markdown",
   "metadata": {},
   "source": [
    "```{margin}\n",
    "GoA 28.3\n",
    "```\n",
    "\n",
    "# L1.7: The Locative-Adverbiative\n",
    "The adverbial *-um* as the adverbial *-iš* represents an old case form, which in Old Akkadian or Old Assyrian was still in use but in the Old Babylonian it is not productive anymore.\n",
    "\n",
    "- The ending *-um* has a locative function, thus it corresponds to the genitive preceded by the preposition *ana* or *ina*.\n",
    "- It can be used independently without a preposition:\n",
    "  ```{admonition} Example\n",
    "  *ištēn manaʾum* \"in/for one mina\".\n",
    "  ``` \n",
    "- Or with the preposition *ina* or *ana*\n",
    "  ```{admonition} Example\n",
    "  *ina bītum* \"In the house\".\n",
    "  ``` \n",
    "- When it is used with another noun, the second is in genitive:\n",
    "  ```{admonition} Example\n",
    "  - *qerbum Babili* \"In the middle of Babylon\".\n",
    "  - *ina libbu mātim* \"inside the land\". In this case *libbu* without the final *-m*.\n",
    "  ``` \n",
    "- It can also be used with suffixes. In this case the *-m* assimilates before the suffix.\n",
    "- When it is used with another noun the second is in genitive:\n",
    "  ```{admonition} Example\n",
    "  - *šaptukki* \"on your lip\" (= *ina šaptīki*).\n",
    "  - *qerbuššu* \"in its midst\" (= *ina qerbīšu*).\n",
    "  - *šepūʾa \"at my foot\".\n",
    "\n",
    "- Sometimes it is preceded by the morpheme *-ān*:\n",
    "  ```{admonition} Example\n",
    "  - *šaplānum* \"underneath\" (from *šaplum* \"underside\").\n",
    "  - *elēnum* \"above, beyond\" (from *ēlûm* \"uper\").\n",
    "  ``` \n",
    "- The use of the locative-adverbial ending is restricted to a few frozen adverbial forms, such as *libbum*."
   ]
  }
 ],
 "metadata": {
  "kernelspec": {
   "display_name": "Python 3.10.0 64-bit",
   "language": "python",
   "name": "python3"
  },
  "language_info": {
   "name": "python",
   "version": "3.10.0"
  },
  "orig_nbformat": 4,
  "vscode": {
   "interpreter": {
    "hash": "5c26deda390e14352809ff5e3846854a2e41da099b7523d3f7fcda45a1663734"
   }
  }
 },
 "nbformat": 4,
 "nbformat_minor": 2
}
