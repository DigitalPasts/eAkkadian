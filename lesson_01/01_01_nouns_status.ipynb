{
 "cells": [
  {
   "cell_type": "markdown",
   "metadata": {},
   "source": [
    "(state)=\n",
    "# L1.1: Status\n",
    "The status is the form the noun takes when it stands by itself or in relation to another noun. In Akkadian there are three status:\n",
    "\n",
    "(st-rt)=\n",
    "## Status Rectus\n",
    "This is the inflected (nominative, genitive, accusative, plural, gender, etc.) form of the noun, when it is not before the a noun in genitive. \n",
    "\n",
    "|Akkadian         | Translation | \n",
    "|---------------- | :---------: |\n",
    "| *šarrum* (nom.) | king       |\n",
    "| *ilam* (acc.)   | god        | \n",
    "| *ālim*  (gen.)  | city       | \n",
    "| *bēlum* (nom.)  | lord      | \n",
    "| *dannim* (gen.) | mighty      |\n",
    "\n",
    "`````{admonition} Remember! 🧠 \n",
    ":class: tip\n",
    "From now on the *status rectus* won't be mentioned, because this status is the most one. \n",
    "`````\n",
    "\n",
    "(st-ct)=\n",
    "## Status Constructus\n",
    "This is the form of a noun before another one in genitiv and before a possessive suffix. This is found in all semitic languages. For more details about the status constructus 👉[L1.6: Status Constructus](01_04_status-constructus.ipynb) \n",
    "\n",
    "| *Status rectus* | *Status constructus* + Genitiv/Pos.Suf. | Translation        | \n",
    "| --------------- | :---------------------------------------: | :----------------: |  \n",
    "| *bēlum*         | *bēl ālim* (gen.)                         | lord of the city   |\n",
    "|                 | *bēl-i* (1. sg.c)                         | my lord            |\n",
    "\n",
    "(st-ab)=\n",
    "## Status Absolutus\n",
    "Thi is the form without ending. It occurs rarely and it is used for the vocative, numerals, measures of length, weight, etc. and in some frozen idiomatic expressions. This is found only in Akkadian and Aramaic.\n",
    "\n",
    "| *Status absolutus* | *Status rectus* | Translation |\n",
    "|------------------- | --------------- | ----------- |\n",
    "| *zikar*            | *zikarum*       | virile, manly       |\n",
    "| *šarrat*           | *šarratum*      | queen       |\n",
    "| *sinniš*           | *sinništum*     | woman       |\n",
    "\n",
    "```{note}\n",
    "The word *zikar* und *sinniš* are often used in the idiomatic expressions like\n",
    "-  <font size=\"11\">𒍑𒌋𒊩</font> *zikar u sinniš* \"male and female\".\n",
    "```\n"
   ]
  }
 ],
 "metadata": {
  "kernelspec": {
   "display_name": "Python 3.10.0 64-bit",
   "language": "python",
   "name": "python3"
  },
  "language_info": {
   "name": "python",
   "version": "3.10.0 (tags/v3.10.0:b494f59, Oct  4 2021, 19:00:18) [MSC v.1929 64 bit (AMD64)]"
  },
  "orig_nbformat": 4,
  "vscode": {
   "interpreter": {
    "hash": "5c26deda390e14352809ff5e3846854a2e41da099b7523d3f7fcda45a1663734"
   }
  }
 },
 "nbformat": 4,
 "nbformat_minor": 2
}
