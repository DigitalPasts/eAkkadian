{
 "cells": [
  {
   "cell_type": "markdown",
   "metadata": {},
   "source": [
    "\n",
    "\n",
    "# L1.0: Nouns - Adjectives - Pronuns\n",
    "Nouns in Akkadian are inflected according to:\n",
    "\n",
    "- **States**: status rectus, status constructus and status absolutus. ↑[L1.1](01_01_nouns_status.ipynbpynb)\n",
    "- **Gender**: masculine and feminine. ↑[L1.2](01_02_nouns_gender.ipynb)\n",
    "- **Grammatical Case**: nominative, genitive, accusative and Locative and terminative. ↑[L1.3](01_03_nouns_casus.ipynb)\n",
    "- **Grammatical number**: singular, dual (already in Old Babylonian not productive any more) and plural. ↑[L1.4](01_04_gram_number.ipynb)\n",
    "\n",
    "## Adjectives\n",
    "Adjectives \n",
    "\n",
    "## Pronouns"
   ]
  }
 ],
 "metadata": {
  "kernelspec": {
   "display_name": "Python 3.10.0 64-bit",
   "language": "python",
   "name": "python3"
  },
  "language_info": {
   "name": "python",
   "version": "3.10.0"
  },
  "orig_nbformat": 4,
  "vscode": {
   "interpreter": {
    "hash": "5c26deda390e14352809ff5e3846854a2e41da099b7523d3f7fcda45a1663734"
   }
  }
 },
 "nbformat": 4,
 "nbformat_minor": 2
}
