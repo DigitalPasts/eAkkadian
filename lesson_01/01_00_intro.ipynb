{
 "cells": [
  {
   "cell_type": "markdown",
   "metadata": {},
   "source": [
    "\n",
    "(word-class)=\n",
    "# L1.1: Word Class (Parts of Speech) \n",
    "We will follow the classical classification according to [part of speech](https://en.wikipedia.org/wiki/Part_of_speech) (word classes) as modern scholars in Assyriology follow this classification as well. In Akkadian we classify the following word classes:\n",
    "\n",
    "- **Nouns** \n",
    "- **Adjectives**\n",
    "- **Pronouns** \n",
    "- **Verbs** \n",
    "- **Adverbs** \n",
    "- **Numerals**\n",
    "- **Prepositions**\n",
    "- **Conjunction**\n",
    "- **Subjunctions**\n",
    "- **Negation**\n",
    "- **Particles**\n",
    "- **Interjections**\n",
    "\n",
    "```{note} \n",
    "In Akkadian there is no definite article. The definiteness is determined according to the context.\n",
    "``` \n",
    "## Nouns - Adjectives - Pronouns\n",
    "In this chapter we will study the nouns, adjectives and pronouns. They all share the characteristic of being inflected.\n",
    "\n",
    "### Nouns\n",
    "[Nouns](01_02_nominal_inflection) in Akkadian are inflected according to:\n",
    "\n",
    "- [**State**](01_01_nouns_status): *status rectus*, *status constructus* and *status absolutus*. \n",
    "- **Grammatical Gender**: masculine and feminine. \n",
    "- **Grammatical Case**: nominative, genitive, accusative and locative and terminative. \n",
    "- **Grammatical number**: singular, dual and plural.\n",
    "\n",
    "### Adjectives\n",
    "[Adjectives](01_02_nominal_inflection) are inflected according to:\n",
    "- **Grammatical Gender**: masculine and feminine. \n",
    "- **Grammatical Case**: nominative, genitive, accusative and terminative. \n",
    "- **Grammatical number**: singular and plural. \n",
    "\n",
    "### Pronouns\n",
    "[Pronouns](01_06_pronouns_01) are inflected according to:\n",
    "- **Grammatical Gender**: masculine and feminine. \n",
    "- **Grammatical Case**: nominative, genitive, accusative.\n",
    "- **Grammatical number**: singular and plural.\n",
    "- **Grammatical persion**: 1st, 2nd and 3rd person."
   ]
  }
 ],
 "metadata": {
  "kernelspec": {
   "display_name": "Python 3.10.0 64-bit",
   "language": "python",
   "name": "python3"
  },
  "language_info": {
   "name": "python",
   "version": "3.10.0"
  },
  "orig_nbformat": 4,
  "vscode": {
   "interpreter": {
    "hash": "5c26deda390e14352809ff5e3846854a2e41da099b7523d3f7fcda45a1663734"
   }
  }
 },
 "nbformat": 4,
 "nbformat_minor": 2
}
