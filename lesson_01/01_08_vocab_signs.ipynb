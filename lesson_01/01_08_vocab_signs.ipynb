{
 "cells": [
  {
   "cell_type": "markdown",
   "metadata": {},
   "source": [
    "(l1-voc-sig)=\n",
    "# L1.10: Vocabulary & Signs\n",
    "Learn the folowing words and signs:\n",
    "\n",
    "(l1-vocab)=\n",
    "## A. Vocabulary\n",
    "\n",
    "| Akkadian word | Translation |\n",
    "| ------------  | :---------: |\n",
    "| *aššatum*     | wife        |\n",
    "| *emūqum* (du. *emūqān*, pl.masc. *emūqū* and fem. *emūqātum*) | stregth, power, force, abulity, armed forces |\n",
    "| *išdum* (du. *išdān*; pl. *išdātum*) | base, foundation        | \n",
    "| *kaspum*      | silver      |\n",
    "| *libbum*      | heart, mind, wish, inside, center, midst | \n",
    "| *nārum*       | river         |\n",
    "| *ṣābum*       | army, gang, troops |\n",
    "| *šīpātum*     | king        |\n",
    "| *ṭuppum * (masc. and fem.; pl. *ṭuppu* and *ṭuppātum*)     | (clay) tablet, document, letter |\n",
    "| *ummum* (fem.) | mother     | \n",
    "| *uznum*       | ear, wisdom |\n",
    "| *ana*        | to, toward, unto, for |\n",
    "| *ina*        | in, into, at, among, with (objects) | \n",
    "| *ištu*       | from, out of, away from |\n",
    "| *itti*       | with (persons, deities), in the company of |\n",
    "\n",
    "(l1-signs)=\n",
    "## B. Signs\n",
    "| Sign                      | Logographic value |\n",
    "| ------------------------- | :---------------: |\n",
    "| <font size=\"11\">𒉡</font>  | *nu*               |\n",
    "| <font size=\"11\">𒂊</font> | *e*                |\n",
    "| <font size=\"11\">𒎌</font>  | *meš*\n",
    "| <font size=\"11\">𒀊</font>  | *ab*\n",
    "| <font size=\"11\">𒋫</font> | *ta*\n",
    "| <font size=\"11\">𒄭</font>  | *hi*\n",
    "| <font size=\"11\">𒄴</font>  | *ah, uh*\n",
    "| <font size=\"11\">𒅇</font>  | *u₃*\n",
    "| <font size=\"11\">𒋢</font>  | *su*\n",
    "| <font size=\"11\">𒂖</font>  | *el*\n",
    "| <font size=\"11\">𒄩</font>  | *ha*\n",
    "| <font size=\"11\">𒊓</font>  | *sa*\n",
    "| <font size=\"11\">𒋗</font>  | *šu*\n",
    "| <font size=\"11\">𒈪</font>  | *mi*\n",
    "| <font size=\"11\">𒁲</font>  | *di*\n",
    "| <font size=\"11\">𒅅</font>  | *𒅅*\n",
    "| <font size=\"11\">𒀜</font>  | *ad, at*\n",
    "\n",
    "(l1-logo)=\n",
    "## C. Logograms\n",
    "| Sign                      | Logographic value | Determinativ | Akkadian     | Meaning      |\n",
    "| ------------------------- | :---------------: | :----------: | :----------: | :----------: |\n",
    "| <font size=\"11\">𒉡</font>  | NU                | -            | *ūl, lā*     | negation |\n",
    "| <font size=\"11\">𒎌</font> | MEŠ\t            | <sup>meš</sup> |            | Plural determinative after nouns |\n",
    "| <font size=\"11\">𒎌</font> | UDU\t            |              | *immerum*    | sheep |\n",
    " \n",
    "(l1-comp)=\n",
    "## D. Composites\n",
    "| Signs                             | Logographic value          | Meaning           |\n",
    "| -------------------------         | :------------------------: | :---------------: |\n",
    "| <font size=\"11\">𒂍𒃲</font>  | E₂.GAL                          | *ekallum* = palace |\n",
    "| <font size=\"11\">𒆳𒀸𒋩𒆠</font>  | <sup>kur</sup>*aš-šur*<sup>ki</sup> | (city of) Aššur |"
   ]
  }
 ],
 "metadata": {
  "kernelspec": {
   "display_name": "Python 3.10.0 64-bit",
   "language": "python",
   "name": "python3"
  },
  "language_info": {
   "name": "python",
   "version": "3.10.0"
  },
  "orig_nbformat": 4,
  "vscode": {
   "interpreter": {
    "hash": "5c26deda390e14352809ff5e3846854a2e41da099b7523d3f7fcda45a1663734"
   }
  }
 },
 "nbformat": 4,
 "nbformat_minor": 2
}
