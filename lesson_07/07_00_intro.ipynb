{
 "cells": [
  {
   "attachments": {},
   "cell_type": "markdown",
   "metadata": {},
   "source": [
    "# L7.0: Introduction\n",
    "In this chapter we will intrduce threee new stems. The D, Š and N-stems.\n",
    "\n",
    "- L7.1. [D-Stem](07_01_d-stem)\n",
    "- L7.2: [Š-Stem](07_02_š-stem) \n",
    "- L7.3. [N-Stem](07_03_n-stem)\n",
    "- L7.4. [Exercises](07_04_exercises)\n",
    "- L7.5. [Vocabulary](07_05_vocabulary)\n",
    "- L7.6. [Assignment](07_06_assignment)"
   ]
  }
 ],
 "metadata": {
  "kernelspec": {
   "display_name": "Python 3.10.0 64-bit",
   "language": "python",
   "name": "python3"
  },
  "language_info": {
   "name": "python",
   "version": "3.10.0 (tags/v3.10.0:b494f59, Oct  4 2021, 19:00:18) [MSC v.1929 64 bit (AMD64)]"
  },
  "orig_nbformat": 4,
  "vscode": {
   "interpreter": {
    "hash": "5c26deda390e14352809ff5e3846854a2e41da099b7523d3f7fcda45a1663734"
   }
  }
 },
 "nbformat": 4,
 "nbformat_minor": 2
}
