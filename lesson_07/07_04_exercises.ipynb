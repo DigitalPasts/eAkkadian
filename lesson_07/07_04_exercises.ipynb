{
 "cells": [
  {
   "attachments": {},
   "cell_type": "markdown",
   "metadata": {},
   "source": [
    "# L7.4: Exercises\n",
    "\n",
    "## D-Stem\n",
    "Analyse and translate the following forms:\n",
    "\n",
    "1. *ulammid*\n",
    "2. *uballiṭūka*\n",
    "3. *ugallabūki*\n",
    "4. *tuštebbir*\n",
    "5. *šipram udammiqū*\n",
    "\n",
    "Translate\n",
    "1. <sup>md</sup>*Anum-muballiṭ*\n",
    "2. *bēlum muballiṭ Uruk šākin mê ana nišīšu*\n",
    "3. *anāku šarrum lā mušallim mātīšu*\n",
    "\n",
    "Normalize and translate CH § 1\n",
    "- *šum-ma a-wi-lum a-wi-lam ú-ub-bi-ir-ma ne-er-tam e-li-šu id-di-ma la uk-ti-in-šu mu-ub-bi-ir-šu id-da-ak*\n",
    "\n",
    "## Š-Stem\n",
    "Analyse and translate the following forms:\n",
    "\n",
    "1. *ušašṭar*\n",
    "2. *tušakniš*\n",
    "3. *mušakniš nakrim*\n",
    "4. *mušalbir bālaṭ šarram*\n",
    "5. *ina libbi ālim tušaškanšunūti*\n",
    "\n",
    "Translate\n",
    "1. *ilū šarratam ālša ušakšidū*\n",
    "2. *ana šupluh mātim ṣabam upahhir*\n",
    "3. *Nintu šulput mātīšu ina pī Enlil ušaškin*\n",
    "4. *Adad mušaškin hegallim*\n",
    "\n",
    "Normalize and translate CH § 127\n",
    "*šum-ma a-wi-lum e-li NIN.DINGIR u₃ aš-ša-at a-wi-lim u₂-ba-nam u₂-ša-at-ri-iṣ-ma la uk-ti-in a-wi-lam šu-a-ti ma-har da-a-a-ni i-na-aṭ-ṭu₃-u₂-šu u₃ mu-ut-ta-su₂ u₂-gal-la-bu*\n",
    "\n",
    "C. Transliterate and translate\n",
    "Beginning of CH\n",
    "1. <font size=\"11\">𒉌𒉡𒀭𒍢𒊒𒌝</font>\n",
    "2. <font size=\"11\">𒈗𒀭𒀀𒉣𒈾𒆠</font>\n",
    "3. <font size=\"11\">𒀭𒂗𒆤</font>\n",
    "4. <font size=\"11\">𒁁𒂖𒊭𒈨𒂊</font>\n",
    "5. <font size=\"11\">𒅇𒅕𒍢𒁴</font>"
   ]
  }
 ],
 "metadata": {
  "kernelspec": {
   "display_name": "Python 3.10.0 64-bit",
   "language": "python",
   "name": "python3"
  },
  "language_info": {
   "name": "python",
   "version": "3.10.0 (tags/v3.10.0:b494f59, Oct  4 2021, 19:00:18) [MSC v.1929 64 bit (AMD64)]"
  },
  "orig_nbformat": 4,
  "vscode": {
   "interpreter": {
    "hash": "5c26deda390e14352809ff5e3846854a2e41da099b7523d3f7fcda45a1663734"
   }
  }
 },
 "nbformat": 4,
 "nbformat_minor": 2
}
