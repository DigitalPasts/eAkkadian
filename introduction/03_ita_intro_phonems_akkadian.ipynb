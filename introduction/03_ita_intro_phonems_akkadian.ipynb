{
 "cells": [
  {
   "cell_type": "markdown",
   "metadata": {},
   "source": [
    "# Phonems in Akkadian\n",
    "Akkadian is a reconstructed language, so it is impossible to determine how phonemes were pronounced exactly. In this sense, pronunciation is a scholar’s convention derived from other Semitic languages, cuneiform orthographie and transliteration of Akkaidan into other writig systems.\n",
    "\n",
    "## Vowels\n",
    "There are four vowels. Each one of them can be short or long:\n",
    "\n",
    "| Short Vowels| Long Vowels |\n",
    "| -------- | -------- |\n",
    "| a        | ā/â |\n",
    "| e        | ē/ê |\n",
    "| i        | ī/î |\n",
    "| u        | ū/û |\n",
    "\n",
    "The differencen between ā and â is the origin. While the long vowels with *macron* ā have many orignis, the long vowels with the cimcumplex â originate from the contraction of two vowels.\n",
    "\n",
    "> it is possible that the vowel \"o\" existed but in the script it was the same as \"u\".\n",
    "\n",
    "## Consonants\n",
    "There are 20 consonants\n",
    "\n",
    "| Phonem   | [[IPA]](https://en.wikipedia.org/wiki/IPA_number) reconstructed articulation | Hebrew equivalent |\n",
    "| -------- | ------------------------- | ------------- |\n",
    "| /*b*/    | [*b*] [Voiced bilabial plosive](https://en.wikipedia.org/wiki/Voiced_bilabial_plosive) | ב\n",
    "| /*p*/    | [*p*] [Voiceless bilabial plosive](https://en.wikipedia.org/wiki/Voiceless_bilabial_plosive) |פ  \n",
    "| /*m*/    | [*m*] [Voiced bilabial nasal](https://en.wikipedia.org/wiki/Voiced_bilabial_nasal) | מ   \n",
    "| /*w*/    | [*β̞ *] [Voiced bilabial fricative](https://en.wikipedia.org/wiki/Voiced_bilabial_fricative) | ו     \n",
    "| /*d*/    | [d] [Voiced dental plosive](https://en.wikipedia.org/wiki/Voiced_dental_and_alveolar_plosives) | ד\n",
    "| /*t*/    | [t] [Voiceless dental plosives](https://en.wikipedia.org/wiki/Voiceless_dental_and_alveolar_plosives) |ת\n",
    "| /*ṭ*/    | [tʼ] [dental ejective stops](https://en.wikipedia.org/wiki/Dental_and_alveolar_ejective_stops) | ט\n",
    "| /*n*/    | [*n*] [voiced dental nasal](https://en.wikipedia.org/wiki/Voiced_dental,_alveolar_and_postalveolar_nasals) |נ\n",
    "| /*z*/    | [θ] [Voiceless dental fricative](https://en.wikipedia.org/wiki/Voiceless_dental_fricative) | ז\n",
    "| /*s*/    | [s] [vvoiceless alveolar fricatives](https://en.wikipedia.org/wiki/Voiceless_alveolar_fricative) | ס\n",
    "| /*ṣ*/    | [θʼ] [Dental ejective fricative](https://en.wikipedia.org/wiki/Dental_ejective_fricative) | צ\n",
    "| /*r*/    | [r] [Voiced alveolar trill](https://en.wikipedia.org/wiki/Voiced_dental,_alveolar_and_postalveolar_trills) | ר\n",
    "| /*l*/    | [l] [voiced alveolar lateral](https://en.wikipedia.org/wiki/Voiced_dental,_alveolar_and_postalveolar_lateral_approximants) | ל\n",
    "| /*š*/    | [ʃ] [voiceless palato-alveolar fricative](https://en.wikipedia.org/wiki/Voiceless_postalveolar_fricative) |ש\n",
    "| /*j or /*y*/ | [j] [Voiced palatal approximant](https://en.wikipedia.org/wiki/Voiced_palatal_approximant) | י    \n",
    "| /*g*/    | [g] [Voiced velar plosive](https://en.wikipedia.org/wiki/Voiced_velar_plosive) | ג\n",
    "| /*k*/    | [k] [Voiceless velar plosive](https://en.wikipedia.org/wiki/Voiceless_velar_plosive) | כ\n",
    "| /*q*/    | [Velar ejective stop](https://en.wikipedia.org/wiki/Velar_ejective_stop) | ק\n",
    "| /*ḫ*/    | [x] [Voiceless velar fricative](https://en.wikipedia.org/wiki/Voiceless_velar_fricative) | ח\n",
    "| /*ʾ*/    | [ʔ] [Glottal stop](https://en.wikipedia.org/wiki/Glottal_stop) | א\n",
    "\n",
    "The length in consonants is written als double consonant."
   ]
  }
 ],
 "metadata": {
  "kernelspec": {
   "display_name": "Python 3.10.0 64-bit",
   "language": "python",
   "name": "python3"
  },
  "language_info": {
   "name": "python",
   "version": "3.10.0"
  },
  "orig_nbformat": 4,
  "vscode": {
   "interpreter": {
    "hash": "5c26deda390e14352809ff5e3846854a2e41da099b7523d3f7fcda45a1663734"
   }
  }
 },
 "nbformat": 4,
 "nbformat_minor": 2
}
