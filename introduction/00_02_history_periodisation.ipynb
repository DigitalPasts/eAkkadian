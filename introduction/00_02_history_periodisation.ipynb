{
 "cells": [
  {
   "cell_type": "markdown",
   "metadata": {},
   "source": [
    "# L0.2: History and Periodisation\n",
    "The earliest attestations consist of personal names in Sumerian documents from ca. 2600 BCE. The firsts documents written in Akkadian  dates from ca. 2350 BCE and the last from 75 CE. [^kouwenberg_2010] Probably around the middle of the first millenium it was already extinct as a spoken language.\n",
    "\n",
    "[^kouwenberg_2010]: Kouwenberg 2010, p. 10.\n",
    "\n",
    "Die native designation of the language was *akkadû* i.e. *akkadītu* “Akkadian”. It is also used to refer to its dialect like \"Babylonian\" or \"Assyrian\". The name derives from the city of the empire's capital Akkade (2400-2200 BCE), which is situated near to [Samarra](https://goo.gl/maps/6Acv17T7a1Mb2qF69).[^Sommerfeld_2021] \n",
    "\n",
    "> In the begining of the Assyriology it was assumed that the language was Assyrian. That is why this discipline is until today known as \"Assyriology\". \n",
    "\n",
    "[^Sommerfeld_2021]: Sommerfeld 2021, p. 514.\n",
    "\n",
    "The Akkadian language has three dialects: Old Akkadian, Babylonian, Assyrian and the so called [Standard Babylonian](/NHr2dsKbS8mPXkO6aK7mvQ). The conventional periodisation for the Akkadian dilaects is as follows:[^Hasselbach-Andee]\n",
    "\n",
    "\n",
    "[^Hasselbach-Andee]: See [Hasselbach-Andee (2021), p.137](htps://doi.org/10.1163/9789004445215_007)\n",
    "\n",
    "\n",
    "| Period              | Old Akkdian  | Babylonian        | Assyrian |\n",
    "| --------            | --------     | --------          |--------  |\n",
    "| ca. 2600-2112 BCE   | Old Akkadian |                   |          |\n",
    "|2112 – ca. 2000 BCE  |              | Early Babylonian  |\n",
    "| ca. 2000–1500 BCE   |              | Old Babylonian    | Old Assyrian |\n",
    "| ca. 1500–1000 BCE   |              | Middle Babylonian | Middle Assyrian |\n",
    "| ca. 1000–600 BCE    |              | Neo-Babylonian    | Neo-Assyrian |\n",
    "| ca. 600 BCE–100 BCE |              | Late Babylonian   |\n",
    "\n",
    "The **Old Akkadian** is the name for the cuneiform documents written in the East Semitic dialects from the time the cuneiform script was invented until the second millenium. These documents are more limited in comparison to the amount of documents written in the following millennia.\n",
    "\n",
    "The **Babylonian** dialect is named after the city of Babylon. It was spoken in the south of Mesopotamia, but attestations of its use are be found in northern Mesopotamia, Elam, Syria, Israel, etc. It is the best attested dialect regarding the number of texts. The Old Babylonian stage is normally used as reference language in introductory textbooks (the same in this online coursebook) and comparative semitic studies.\n",
    "\n",
    "The **Assyrian** dialect is named after the city of Assur. Is was spoken in the North of Mesopotamia and the western bank of the Tigris. This dialect is also well attested.\n",
    "\n",
    "The [Standard Babylonian](/NHr2dsKbS8mPXkO6aK7mvQ) is a scientific and literary variety that appears after the Old Babylonian period[^discussion_standard_babylonian] and tries to emulate it. It was widely used in and outside Mesopotamia.\n",
    "\n",
    "[^discussion_standard_babylonian]: AGA, p. 4.; Kouwenberg 2010, p. 16;  Godnick Westenholz 1997. \n",
    "\n",
    "> Although the name \"Standard Babylonian\" is stablished, it is still a matter of debate. In the German literature it is known as \"jungbabylonisch\". See Godnick Westenholz 1997.\n",
    "\n"
   ]
  }
 ],
 "metadata": {
  "kernelspec": {
   "display_name": "Python 3.10.0 64-bit",
   "language": "python",
   "name": "python3"
  },
  "language_info": {
   "name": "python",
   "version": "3.10.0"
  },
  "orig_nbformat": 4,
  "vscode": {
   "interpreter": {
    "hash": "5c26deda390e14352809ff5e3846854a2e41da099b7523d3f7fcda45a1663734"
   }
  }
 },
 "nbformat": 4,
 "nbformat_minor": 2
}
