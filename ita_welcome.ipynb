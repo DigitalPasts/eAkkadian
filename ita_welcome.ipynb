{
 "cells": [
  {
   "cell_type": "markdown",
   "metadata": {},
   "source": [
    "# Introduction to Akkadian\n",
    "**Design by the [Digital Pasts Lab](https://digitalpasts.github.io/)** // **Powered by [Jupiter Book](https://jupyterbook.org/en/stable/intro.html)**\n",
    "\n",
    "This website hosts an online course book, *Introduction to Akkadian*, which offers a short introduction to the \n",
    "\n",
    "**What is Akkadian?**\n",
    "\n",
    "**Why in Jupyter Notebooks?**\n",
    "\n",
    "**Acknowledgements**\n"
   ]
  }
 ],
 "metadata": {
  "kernelspec": {
   "display_name": "Python 3.10.0 64-bit",
   "language": "python",
   "name": "python3"
  },
  "language_info": {
   "name": "python",
   "version": "3.10.0"
  },
  "orig_nbformat": 4,
  "vscode": {
   "interpreter": {
    "hash": "5c26deda390e14352809ff5e3846854a2e41da099b7523d3f7fcda45a1663734"
   }
  }
 },
 "nbformat": 4,
 "nbformat_minor": 2
}
