{
 "cells": [
  {
   "attachments": {},
   "cell_type": "markdown",
   "metadata": {},
   "source": [
    "# L8.0: Introduction\n",
    "\n",
    "- L8.1: [Gt-Stem](08_01_gt-stem)\n",
    "- L8.2: [Dt-Stem](08_02_dt-stem) \n",
    "- L8.3: [Št-Stem](08_03_št-stem)\n",
    "- L8.4: [The *tan-*stems](08_04_tan-stems)\n",
    "- L8.5: [Exercises](08_05_exercises)\n",
    "- L8.6: [Vocabulary](08_06_vocabulary)\n",
    "- L8.7: [Assignment](08_07_assignment)"
   ]
  }
 ],
 "metadata": {
  "kernelspec": {
   "display_name": "Python 3.10.0 64-bit",
   "language": "python",
   "name": "python3"
  },
  "language_info": {
   "codemirror_mode": {
    "name": "ipython",
    "version": 3
   },
   "file_extension": ".py",
   "mimetype": "text/x-python",
   "name": "python",
   "nbconvert_exporter": "python",
   "pygments_lexer": "ipython3",
   "version": "3.8.8"
  },
  "vscode": {
   "interpreter": {
    "hash": "5c26deda390e14352809ff5e3846854a2e41da099b7523d3f7fcda45a1663734"
   }
  }
 },
 "nbformat": 4,
 "nbformat_minor": 2
}