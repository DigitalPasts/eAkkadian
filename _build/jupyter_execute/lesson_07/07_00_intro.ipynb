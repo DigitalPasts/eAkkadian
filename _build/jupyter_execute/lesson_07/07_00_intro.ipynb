{
 "cells": [
  {
   "attachments": {},
   "cell_type": "markdown",
   "metadata": {},
   "source": [
    "# L7.0: Introduction\n",
    "In this chapter we will intrduce threee new stems. The D, Š and N-stems.\n",
    "\n",
    "- L7.1: [D-Stem](07_01_d-stem)\n",
    "- L7.2: [Š-Stem](07_02_š-stem) \n",
    "- L7.3: [Subordination & Relative Sentences](07_03_subordination-relative-sentences.ipynb)\n",
    "- L7.4: [Exercises](07_04_exercises.ipynb)\n",
    "- L7.5: [Vocabulary](07_05_vocabulary.ipynb)\n",
    "- L7.6: [Assignment](07_06_assignment.ipynb)"
   ]
  }
 ],
 "metadata": {
  "kernelspec": {
   "display_name": "Python 3.10.0 64-bit",
   "language": "python",
   "name": "python3"
  },
  "language_info": {
   "codemirror_mode": {
    "name": "ipython",
    "version": 3
   },
   "file_extension": ".py",
   "mimetype": "text/x-python",
   "name": "python",
   "nbconvert_exporter": "python",
   "pygments_lexer": "ipython3",
   "version": "3.8.8"
  },
  "vscode": {
   "interpreter": {
    "hash": "5c26deda390e14352809ff5e3846854a2e41da099b7523d3f7fcda45a1663734"
   }
  }
 },
 "nbformat": 4,
 "nbformat_minor": 2
}