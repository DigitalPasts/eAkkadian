{
 "cells": [
  {
   "attachments": {},
   "cell_type": "markdown",
   "metadata": {},
   "source": [
    "# L7.4: Exercises\n",
    "\n",
    "## D-Stem\n",
    "Analyse and translate the following forms:\n",
    "\n",
    "1. *ulammid*\n",
    "2. *uballiṭūka*\n",
    "3. *ugallabūki*\n",
    "4. *tuštebbir*\n",
    "5. *šipram udammiqū*\n",
    "\n",
    "Translate\n",
    "1. <sup>md</sup>*Anum-muballiṭ*\n",
    "2. *bēlum muballiṭ Uruk šākin mê ana nišīšu*\n",
    "3. *anāku šarrum lā mušallim mātīšu*\n",
    "\n",
    "## Š-Stem\n",
    "Analyse and translate the following forms:\n",
    "\n",
    "1. *ušašṭar*\n",
    "2. *tušakniš*\n",
    "3. *mušakniš nakrim*\n",
    "4. *mušalbir bālaṭ šarram*\n",
    "5. *ina libbi ālim tušaškanšunūti*\n",
    "\n",
    "Translate\n",
    "1. *ilū šarratam ālša ušakšidū*\n",
    "2. *ana šupluh mātim ṣabam upahhir*\n",
    "3. *Nintu šulput mātīšu ina pī Enlil ušaškin*\n",
    "4. *Adad mušaškin hegallim*\n",
    "\n",
    "## N-Stem\n",
    "\n",
    "Analyse and translate the following forms:\n",
    "1. *iṣṣabbat*\n",
    "2. *ittaškanū*\n",
    "3. *ṭuppum iššebir*\n",
    "4. *narûm šaṭer*\n",
    "5. *narûm iššater*\n",
    "\n",
    "Translate\n",
    "1. *kaspum iššaqil*\n",
    "2. *marāt šarrim tallapit*\n",
    "3. *ina Bābili ninnamer*\n",
    "4. *awīlū lemnūtum innamrū-ma iṣṣabtū*\n",
    "5. *iṣṣūrum mupparšum*\n",
    "\n",
    "## From the CH §6\n",
    "1. <font size=\"11\">𒋳𒈠𒀀𒉿𒈝</font> \n",
    "2. <font size=\"11\">𒃻𒆥𒀭</font>\n",
    "3. <font size=\"11\">𒅇𒂍𒃲</font>\n",
    "4. <font size=\"11\">𒅖𒊑𒅅</font>\n",
    "5. <font size=\"11\">𒀀𒉿𒈝𒋗𒌑</font>\n",
    "6. <font size=\"11\">𒀉𒁕𒀝</font>\n",
    "7. <font size=\"11\">𒅇𒊭𒋗𒌫𒂵𒄠</font>\n",
    "8. <font size=\"11\">𒄿𒈾𒂵𒋾𒋗</font>\n",
    "9. <font size=\"11\">𒅎𒄷𒊒</font>\n",
    "10. <font size=\"11\">𒀉𒁕𒀝</font>"
   ]
  }
 ],
 "metadata": {
  "kernelspec": {
   "display_name": "Python 3.10.0 64-bit",
   "language": "python",
   "name": "python3"
  },
  "language_info": {
   "codemirror_mode": {
    "name": "ipython",
    "version": 3
   },
   "file_extension": ".py",
   "mimetype": "text/x-python",
   "name": "python",
   "nbconvert_exporter": "python",
   "pygments_lexer": "ipython3",
   "version": "3.8.8"
  },
  "vscode": {
   "interpreter": {
    "hash": "5c26deda390e14352809ff5e3846854a2e41da099b7523d3f7fcda45a1663734"
   }
  }
 },
 "nbformat": 4,
 "nbformat_minor": 2
}