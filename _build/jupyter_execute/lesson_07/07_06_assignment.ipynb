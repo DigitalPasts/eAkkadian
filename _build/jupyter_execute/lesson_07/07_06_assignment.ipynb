{
 "cells": [
  {
   "attachments": {},
   "cell_type": "markdown",
   "metadata": {},
   "source": [
    "# L7.6: Assignment\n",
    "\n",
    "A. Translate and Analyse the verbal form:\n",
    "\n",
    "````{admonition} Example\n",
    "*ulammid* = **lmd*: 1s.c. Prt. \"I have learned\" oder 3s.c. Prt. \"He/She has learned\"\n",
    "````\n",
    "\n",
    "1. *nullammid*\n",
    "2. *uballassu*\n",
    "3. *kakkūšunu šubburū*\n",
    "4. *tunaššā*\n",
    "5. *tuṣṣi*\n",
    "6. *šušṭir*\n",
    "7. *mušakniš nakrim*\n",
    "8. *šumqit*\n",
    "9. *ušēṣi*\n",
    "10. *ana bābim ul ušēbribšu*\n",
    "\n",
    "B. From the CH\n",
    "1. CH § 1\n",
    "- *šum-ma a-wi-lum a-wi-lam ú-ub-bi-ir-ma ne-er-tam e-li-šu id-di-ma la uk-ti-in-šu mu-ub-bi-ir-šu id-da-ak*\n",
    "\n",
    "2. CH § 127\n",
    "- *šum-ma a-wi-lum e-li NIN.DINGIR u₃ aš-ša-at a-wi-lim u₂-ba-nam u₂-ša-at-ri-iṣ-ma la uk-ti-in a-wi-lam šu-a-ti ma-har da-a-a-ni i-na-aṭ-ṭu₃-u₂-šu u₃ mu-ut-ta-su₂ u₂-gal-la-bu*\n",
    "\n",
    "C. Transliterate and translate\n",
    "Beginning of CH\n",
    "1. <font size=\"11\">𒉌𒉡𒀭𒍢𒊒𒌝</font>\n",
    "2. <font size=\"11\">𒈗𒀭𒀀𒉣𒈾𒆠</font>\n",
    "3. <font size=\"11\">𒀭𒂗𒆤</font>\n",
    "4. <font size=\"11\">𒁁𒂖𒊭𒈨𒂊</font>\n",
    "5. <font size=\"11\">𒅇𒅕𒍢𒁴</font>\n",
    "\n",
    "D. N-stem\n",
    "Analyse and translate\n",
    "\n",
    "1. *nagmurum*\n",
    "2. *naddi* / *nandi*\n",
    "3. *išdum ippa︎ṭṭar*\n",
    "4. *bābum muppetûm*\n",
    "5. *aplum innassah*"
   ]
  }
 ],
 "metadata": {
  "kernelspec": {
   "display_name": "Python 3.10.0 64-bit",
   "language": "python",
   "name": "python3"
  },
  "language_info": {
   "codemirror_mode": {
    "name": "ipython",
    "version": 3
   },
   "file_extension": ".py",
   "mimetype": "text/x-python",
   "name": "python",
   "nbconvert_exporter": "python",
   "pygments_lexer": "ipython3",
   "version": "3.8.8"
  },
  "vscode": {
   "interpreter": {
    "hash": "5c26deda390e14352809ff5e3846854a2e41da099b7523d3f7fcda45a1663734"
   }
  }
 },
 "nbformat": 4,
 "nbformat_minor": 2
}