{
 "cells": [
  {
   "cell_type": "markdown",
   "metadata": {},
   "source": [
    "# L4.4. I-*y* Verbs\n",
    "All these verbs have the vowel root *i*. They inflect like the *e*-class of the I-ʾ verbs. They show the following weak forms:\n",
    "\n",
    "1. Initial *ja* and *ji* becomes usually *e*\n",
    "\n",
    "    ```{admonition} Example\n",
    "    - *ūšib* \"I sat down* < \\**awšib*\n",
    "    - *ūbil* \"he brought* < \\**iwbil*\n",
    "    ```"
   ]
  }
 ],
 "metadata": {
  "kernelspec": {
   "display_name": "Python 3.10.0 64-bit",
   "language": "python",
   "name": "python3"
  },
  "language_info": {
   "codemirror_mode": {
    "name": "ipython",
    "version": 3
   },
   "file_extension": ".py",
   "mimetype": "text/x-python",
   "name": "python",
   "nbconvert_exporter": "python",
   "pygments_lexer": "ipython3",
   "version": "3.8.8"
  },
  "vscode": {
   "interpreter": {
    "hash": "5c26deda390e14352809ff5e3846854a2e41da099b7523d3f7fcda45a1663734"
   }
  }
 },
 "nbformat": 4,
 "nbformat_minor": 2
}