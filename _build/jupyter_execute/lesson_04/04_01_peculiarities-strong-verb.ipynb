{
 "cells": [
  {
   "cell_type": "markdown",
   "metadata": {},
   "source": [
    "# L4.1: Peculiarities Among Strong Verbs\n",
    "\n",
    "## Peculiarites of the Strong Verbal Roots\n",
    "Because of phonetic factors some verbs exhibit forms that deviate from the model.\n",
    "\n",
    "### Changes in Vowels\n",
    "The *a* can shift to *e* before or after *r*. The *a* in the neighboring syllable is also affected.\n",
    "\n",
    "```{admonition} Example \n",
    "*qerēbum* \"to approach\"\n",
    "*šebērum* \"to smash\"\n",
    "```\n",
    "\n",
    "### Changes in Consonants"
   ]
  }
 ],
 "metadata": {
  "kernelspec": {
   "display_name": "Python 3.10.0 64-bit",
   "language": "python",
   "name": "python3"
  },
  "language_info": {
   "codemirror_mode": {
    "name": "ipython",
    "version": 3
   },
   "file_extension": ".py",
   "mimetype": "text/x-python",
   "name": "python",
   "nbconvert_exporter": "python",
   "pygments_lexer": "ipython3",
   "version": "3.8.8"
  },
  "vscode": {
   "interpreter": {
    "hash": "5c26deda390e14352809ff5e3846854a2e41da099b7523d3f7fcda45a1663734"
   }
  }
 },
 "nbformat": 4,
 "nbformat_minor": 2
}