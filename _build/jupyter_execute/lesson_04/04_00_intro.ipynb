{
 "cells": [
  {
   "cell_type": "markdown",
   "metadata": {},
   "source": [
    "# L2.0: Introduction\n",
    "In this chapter we will study the weak verbs. First we explain what is a weak verb. After that we study the verbs with weak fisrt radical and third weak radicals. At the end\n",
    "\n",
    "- L4.1: [Weak Verbs](04_01_weak_verbs)\n",
    "- L4.2. [Verbs I-*n*](04_02_1_n_verbs)\n",
    "- L4.3. [Verbs I-*w*](04_03_1_w_verbs)\n",
    "- L4.4. [Verbs I-*א*](04_04_1_א_verbs)\n",
    "- L4.5. [Verbs III-weak](04_05_3_weak_verbs)\n",
    "- L4.6. [Subjunctive](04_06_subjunctive)\n",
    "- L4.7. [Exercises](04_07_exercises)\n",
    "- L4.8. [Vocabulary & Signs](04_08_vocab-signs)\n",
    "- L4.9. [Assignment](04_09_assignment)"
   ]
  }
 ],
 "metadata": {
  "kernelspec": {
   "display_name": "Python 3.10.0 64-bit",
   "language": "python",
   "name": "python3"
  },
  "language_info": {
   "codemirror_mode": {
    "name": "ipython",
    "version": 3
   },
   "file_extension": ".py",
   "mimetype": "text/x-python",
   "name": "python",
   "nbconvert_exporter": "python",
   "pygments_lexer": "ipython3",
   "version": "3.8.8"
  },
  "vscode": {
   "interpreter": {
    "hash": "5c26deda390e14352809ff5e3846854a2e41da099b7523d3f7fcda45a1663734"
   }
  }
 },
 "nbformat": 4,
 "nbformat_minor": 2
}