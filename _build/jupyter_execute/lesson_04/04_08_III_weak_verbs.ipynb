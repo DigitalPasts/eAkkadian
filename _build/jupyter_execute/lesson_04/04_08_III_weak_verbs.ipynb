{
 "cells": [
  {
   "attachments": {},
   "cell_type": "markdown",
   "metadata": {},
   "source": [
    "# L4.8: III-Weak Verbs\n",
    "There are two groups of III-weaks verbs:\n",
    "\n",
    "1. Roots that consist of two consonants and have a long vowel *ī* or *ū*\n",
    "\n",
    "    ```{admonition} Example\n",
    "    *banûm* \"to build\" with *ī*\n",
    "    *manûm* \"to count\" with *ū*\n",
    "    ```\n",
    "2. Verbs III-*ʾ that can also be divided into two subgroups:\n",
    "   - Verbs III-*ʾ* of *ʾ*₁: **without** coloring *a* > *e*.\n",
    "   - Verbs III-*ʾ* of *ʾ*₃, *ʾ*₄, *ʾ*₅: **with** coloring *a* > *e*.\n",
    "\n",
    "In all Verbs III-weak the originally long vowel shortens in final position:\n",
    "\n",
    "```{admonition} Example\n",
    "- With *ī*: *ibni* < \\**ibnī* \"he built\"\n",
    "- With *ū*: *imnu* < \\**imnū* \"hecounted\"\n",
    "- With *ā*: *ikla* < \\**iklā* \"he restrained\"\n",
    "- With *ē*: *ešme* < \\**ešmē* \"he heard\" \n",
    "```\n",
    "\n",
    "The transfer from one group to the other is frequent:\n",
    "\n",
    "```{admonition} Example\n",
    "- *imnu* and *imni* \"he counted\"\n",
    "```\n"
   ]
  }
 ],
 "metadata": {
  "kernelspec": {
   "display_name": "Python 3.10.0 64-bit",
   "language": "python",
   "name": "python3"
  },
  "language_info": {
   "codemirror_mode": {
    "name": "ipython",
    "version": 3
   },
   "file_extension": ".py",
   "mimetype": "text/x-python",
   "name": "python",
   "nbconvert_exporter": "python",
   "pygments_lexer": "ipython3",
   "version": "3.8.8"
  },
  "vscode": {
   "interpreter": {
    "hash": "5c26deda390e14352809ff5e3846854a2e41da099b7523d3f7fcda45a1663734"
   }
  }
 },
 "nbformat": 4,
 "nbformat_minor": 2
}