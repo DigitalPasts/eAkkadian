{
 "cells": [
  {
   "attachments": {},
   "cell_type": "markdown",
   "metadata": {},
   "source": [
    "# L4.12. Assignment\n",
    "\n",
    "# Tranliterate and Translate\n",
    "```{admonition} Example\n",
    "<font size=\"11\">𒄿𒋫𒄩𒊍</font> = *i-ta-ha-az* = he has taken\n",
    "```\n",
    "\n",
    "1. <font size=\"11\">𒄿𒄴𒄩𒊍</font>\n",
    "2. <font size=\"11\">𒄿𒆪𒌌</font>\n",
    "3. <font size=\"11\">𒄿𒅋𒆷𒀝</font>\n",
    "4. <font size=\"11\">𒄿𒋫𒈥</font>\n",
    "5. <font size=\"11\">𒄿𒁲𒅖</font>\n",
    "6. <font size=\"11\">𒄿𒁍𒍑</font>\n",
    "7. <font size=\"11\">𒅅𒆪𒌨</font>\n",
    "8. <font size=\"11\">𒌒𒁀𒀠</font>\n",
    "9. <font size=\"11\">𒌑𒇷𒀉</font>\n",
    "10. <font size=\"11\">𒍑𒁍</font>"
   ]
  }
 ],
 "metadata": {
  "kernelspec": {
   "display_name": "Python 3.10.0 64-bit",
   "language": "python",
   "name": "python3"
  },
  "language_info": {
   "codemirror_mode": {
    "name": "ipython",
    "version": 3
   },
   "file_extension": ".py",
   "mimetype": "text/x-python",
   "name": "python",
   "nbconvert_exporter": "python",
   "pygments_lexer": "ipython3",
   "version": "3.8.8"
  },
  "vscode": {
   "interpreter": {
    "hash": "5c26deda390e14352809ff5e3846854a2e41da099b7523d3f7fcda45a1663734"
   }
  }
 },
 "nbformat": 4,
 "nbformat_minor": 2
}