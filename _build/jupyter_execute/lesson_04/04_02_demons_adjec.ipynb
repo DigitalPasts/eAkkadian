{
 "cells": [
  {
   "cell_type": "markdown",
   "metadata": {},
   "source": [
    "```{margin}\n",
    "GoA 6.3\n",
    "```\n",
    "\n",
    "# L3.6: Demonstrative Adjectives & Pronouns\n",
    "\n",
    "## Demonstrative Adjective\n",
    "The most common adjective in Old Babylonian is *annûm*, wich can be tranlstated with 'this, these'.\n",
    "\n",
    "```{admonition} Example\n",
    "- *kaspam **anniam** ina qātim ša maruštim amhur* \"I received this silver from the sick woman\".\n",
    "```\n",
    "\n",
    "It always follows the substantive and its adjectives\n",
    "\n",
    "```{admonition} Example\n",
    "- *šamnam ṭābam **anniam** aṣṣur* \"I protected this fine oil\".\n",
    "```\n",
    "\n",
    "```{note}\n",
    "The fem. sing. ***annītum*** may also be used as aneuter demostrative pronoun, \"this (thing, matter, etc)\".\n",
    "```\n",
    "\n",
    "## Declination of the Demonstrative Adjective\n",
    "| Number | Case      | Masculine        | Feminine     |\n",
    "|------- | -----     | -----------      | ---------    |\n",
    "| sg.    | nom.      | *annûm*          | *annītum* |\n",
    "|        | gen.      | *annîm*          | *annītim* |         \n",
    "|        | acc.      | *anniam*         | *annītam* |\n",
    "| pl.    | nom.      | *annûtum*        | *anniātum* |\n",
    "|        | gen./acc. | *annûtim*        | *anniātim* |\n",
    "\n",
    "## Demonstrative Pronouns\n",
    "The most common form 'that, those' are the 3 masc. sing. of the independent personal pronouns. It is called **anaphoric pronoun**, since it refers to something already mentioned or known. Therefore it can be sometimes translated as 'the aforementioned', 'said' or even 'this, these'.\n",
    "\n",
    "When it is used attributely, the forms follow and agree with the noun they modify\n",
    "```{admonition} Example\n",
    "- *amtum šī aššatum ša wardim* \"That womanservant is t the wife of the manservant\".\n",
    "``` \n",
    "\n",
    "## Declination of the Demonstrative Pronoun\n",
    "| Number | Case      | Masculine        | Feminine     |\n",
    "|------- | -----     | -----------      | ---------    |\n",
    "| sg.    | nom.      | *šū*             | *šī* |\n",
    "|        | gen.      | *šuāti, šuātu, šâti, šatû*  | *šuāti, šâti, šiāti* |         \n",
    "|        | acc.      | *šuāšim, šâšim, šâšum*      | *šuāšim, šâšim, šiāšim* |\n",
    "| pl.    | nom.      | *šunu*           | *šina* |\n",
    "|        | gen./acc. | *šunūti*         | *šināti* |\n",
    "|        | dat.      | *šunūšim*        | [*šināšim*] |\n",
    "\n",
    "```{note}\n",
    "- There is a special dative case that is used after *ana*.\n",
    "- The variants in the list reflect dialectal variation within Old Babylonian.\n"
   ]
  }
 ],
 "metadata": {
  "kernelspec": {
   "display_name": "Python 3.10.0 64-bit",
   "language": "python",
   "name": "python3"
  },
  "language_info": {
   "codemirror_mode": {
    "name": "ipython",
    "version": 3
   },
   "file_extension": ".py",
   "mimetype": "text/x-python",
   "name": "python",
   "nbconvert_exporter": "python",
   "pygments_lexer": "ipython3",
   "version": "3.8.8"
  },
  "vscode": {
   "interpreter": {
    "hash": "5c26deda390e14352809ff5e3846854a2e41da099b7523d3f7fcda45a1663734"
   }
  }
 },
 "nbformat": 4,
 "nbformat_minor": 2
}