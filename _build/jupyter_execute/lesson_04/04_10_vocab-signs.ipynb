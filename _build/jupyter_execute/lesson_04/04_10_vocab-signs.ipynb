{
 "cells": [
  {
   "attachments": {},
   "cell_type": "markdown",
   "metadata": {},
   "source": [
    "# L4.11. Vocabulary & Signs\n",
    "\n",
    "## Verbs\n",
    "| Verbs          | Dur., Pret. Root |  Translation |\n",
    "| ------------   | ---------------- | ------------ |\n",
    "| *ahāzum* (a-u) | *ihhaz*, *īhuz*, \\**ʾhz* | to seize, hold, take; to take (a wife), marry, to learn |\n",
    "| *akālum* (a-u) | *ikkal*, *īkul*, \\**ʾkl* | to do a favour; to be kind to, spare |\n",
    "| *alākum*       | *illak*, *illik*, \\**ʾlk* | to go |\n",
    "| *amārum* (a-u) | *immar*, *īmur*, \\**ʾmr* | to see |\n",
    "| *apālum* (a-u) | *ippal*, *īpul*, \\**ʾpl* | to pay, answer  |\n",
    "| *banûm* (i)    | *ibanni*, *ibni*, \\**bni* | to create, build  |\n",
    "| *bašûm* (i)    | *ibašši*, *ibši*, \\**bši* | to be (at hand, available); exist  |\n",
    "| *ebēbum* (i)   | *ibbib*, *ībub*, \\**ʾbb* | to be(come) bright, pure |\n",
    "| *edēšum* (i)   | *iddiš*, *īdiš*, \\**ʾdš* | to be(come) new |\n",
    "| *epēšum* (a-u,u) | *ippeš*, *īpuš*, \\**ʾpš* | to make, do |\n",
    "| *erēbum* (u)   | *irrub*, *īrub*, \\**ʾrb* | to cross over |\n",
    "| *ešērum* (i)   | *iššir*, *īšir*, \\**ʾšr* | to be/go well; be straight, fair |\n",
    "| *hadûm* (u)    | *ihaddu*, *ihdu*, \\**hdu* | to be joyful, rejoice |\n",
    "| *kalûm* (a)    | *ikalla*, *ikla*, \\**klʾ* | to hold (back), detain |\n",
    "| *leqûm* (e)    | *ileqqe*, *ilqe*, \\**lqʾ* | to take, take over |\n",
    "| *manûm* (u)    | *imannu*, *imnu*, \\**mnu* | to count, calculate, recite |\n",
    "| *nadānum* (i)  | *iddin*, *iddin*, \\**ndn* | to give |\n",
    "| *nakārum* (i)  | *inakkir*, *īkkir*, \\**nkr* | to be(come) different, (e)strange(d), hostile |\n",
    "| *naqārum* (u)  | *inaqqar*, *iqqur*, \\**nqr* | to demolish, scratch |\n",
    "| *naṣārum* (a-u) | *inaqqar*, *iqqur*, \\**nṣr* | einreißen, zerstören |\n",
    "| *naṭālum* (a-u) | *ina︎ṭṭar*, *iṭṭur*, \\**nṭr* | to look |\n",
    "| *nawārum* (i)  | *ina︎wwar*, *iwwur*, \\**nwr* | to be(come) bright, shine |\n",
    "| *petûm* (e)    | *ipette*, *ipte*, \\**ptʾ* | to open |\n",
    "| *rabûm* (i)    | *irabbi*, *irbi*, \\**rbi* | to be big, to grow |\n",
    "| *rašûm* (i)    | *irašši*, *irši*, \\**rši* | to acquire, get |\n",
    "| *redûm* (e/i)  | *ireddi*, *irdi*, \\**rdi* | to accompany, lead, drive, proceed |\n",
    "| *šemûm* (e)    | *išmme*, *išme*, \\**šmʾ* | to hear |\n",
    "| *tebûm* (i<sup>?</sup>) | *itebbe*, *itbe*, \\**tbi/ʾ* | to get up, arise, set out | \n",
    "| *wabālum*      | *ubbal*, *ūbil*, \\**wbl* | to carry, bring |\n",
    "| *walādum*      | *ullad*, *ūlid*, \\**wld* | to give birth (to) |\n",
    "| *wašābum*      | *uššab*, *ūšib*, \\**wšb* | to sit, live |\n",
    "| *watārum*      | *ittir*, *ītir*, \\**wtr* | to be(come) outsize, surplus |\n",
    "\n",
    "## Nouns\n",
    "| Nouns          | Plural             | Status Constructus | Translation |\n",
    "| ------------   | ------------------ | ------------------ | ----------- |\n",
    "| *dannatum* fem.  | *dannātum*       | *dannat*           | fortress    |\n",
    "| *dajjānūtum* fem. |                 | *dajjanūt*         | judicature, judgeship    |\n",
    "| *ellilūtum* fem. |                  | *ellilūt*          | power of Enlil, divine supremacy    |\n",
    "| *qarrādum* masc. | *qarrādū, qarrādūtu* | *qarrād* *qarrassu* | hero, warrior |\n",
    "| *šattum* fem.  | *šanātum*          | *šatti, šattašu*   | year        |\n",
    "| *šuttum* oder *šunatum* fem. | *šunātum* | *šutti, šuttašu* | dream    |\n",
    "| *zērum*        |                    | *zēr*              | seed(s), offspring, descendant(s)  |"
   ]
  }
 ],
 "metadata": {
  "kernelspec": {
   "display_name": "Python 3.10.0 64-bit",
   "language": "python",
   "name": "python3"
  },
  "language_info": {
   "codemirror_mode": {
    "name": "ipython",
    "version": 3
   },
   "file_extension": ".py",
   "mimetype": "text/x-python",
   "name": "python",
   "nbconvert_exporter": "python",
   "pygments_lexer": "ipython3",
   "version": "3.8.8"
  },
  "vscode": {
   "interpreter": {
    "hash": "5c26deda390e14352809ff5e3846854a2e41da099b7523d3f7fcda45a1663734"
   }
  }
 },
 "nbformat": 4,
 "nbformat_minor": 2
}