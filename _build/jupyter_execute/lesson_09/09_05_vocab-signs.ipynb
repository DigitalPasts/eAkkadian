{
 "cells": [
  {
   "attachments": {},
   "cell_type": "markdown",
   "metadata": {},
   "source": [
    "# L5.7: Vocabulary\n",
    "\n",
    "## Verbs\n",
    "| Verbs          | Dur., Pret. Root         |  Translation |\n",
    "| ------------   | ----------------         | ------------ |\n",
    "| *dâkum*        | *idâk*, *idūk*, \\**dūk*  | to kill, beat |\n",
    "| *kânum*        | *ikân*, *ikūn*, \\**kūn*  | to be(come) permanent, firm, true |\n",
    "| *mâtum*        | *imât*, *imūt*, \\**mūt*  | to die |\n",
    "| *qiāšum*       | *iqīaš*, *iqīš*, \\**qīš* | to give, present |\n",
    "| *riābum*       | *irīab*, *irīb*, \\**rīb* | to replace, requite  |\n",
    "| *riāšum*       | *irīaš*, *irīš*, \\**rīš* | to rejoice  |\n",
    "| *šâmum*        | *išâm*, *išām*, \\**šām*  | to buy, purchase  |\n",
    "| *šiāmum*       | *išīam*, *īšīm*, \\**šīm* | to fix, decree |\n",
    "| *târum*        | *itâr*, *itūr*, \\**tūr*  | to turn, return, become (again) |\n",
    "| *ṭiabum*       | *iṭīab*, *itūr*, \\**ṭīb* | to be(come) good, be good, sweet, in good condition |\n",
    "| *waʾārum*, *wârum* | *iwâr*, *iwir*, \\**wʾr* | to go (up to) |\n",
    "| *zâzum*        | *izâz*, *izūz*, \\**zūz*  | to divide; get a share |\n",
    "| *zêrum*        | *izêr*, *izēr*, \\**zēr*  | to dislike, hate, reject |\n",
    "\n",
    "\n",
    "## Nouns\n",
    "| Nouns          | Status Constructus | Translation |\n",
    "| ------------   | ------------------ | ----------- |\n",
    "| *abūbum* fem.  | *abūb*             | flood, deluge    |\n",
    "| *kiššatum* fem. | *kiššat*, *kiššassu* | totality, world   |\n",
    "| *mūtum*        | *mut*, *mussa*     | husband     |\n",
    "| *šīmtum* fem.  | *šīmat*, *šimassu/šimtšu* | what is fixed, will, testament, fate, destiny |\n",
    "| *šīrum*        | *šir*              | flesh, body, entrails (omen) |\n",
    "| *tillum*, *tillānū* Pl. | *tilli* *tillašu* | tell, (ruin) mound   |\n",
    "| *zērum*        |                    | *zēr*              | seed(s), offspring, descendant(s)  |"
   ]
  }
 ],
 "metadata": {
  "kernelspec": {
   "display_name": "Python 3.10.0 64-bit",
   "language": "python",
   "name": "python3"
  },
  "language_info": {
   "codemirror_mode": {
    "name": "ipython",
    "version": 3
   },
   "file_extension": ".py",
   "mimetype": "text/x-python",
   "name": "python",
   "nbconvert_exporter": "python",
   "pygments_lexer": "ipython3",
   "version": "3.8.8"
  },
  "vscode": {
   "interpreter": {
    "hash": "5c26deda390e14352809ff5e3846854a2e41da099b7523d3f7fcda45a1663734"
   }
  }
 },
 "nbformat": 4,
 "nbformat_minor": 2
}