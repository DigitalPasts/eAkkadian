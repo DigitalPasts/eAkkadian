{
 "cells": [
  {
   "cell_type": "markdown",
   "metadata": {},
   "source": [
    "# L4.3: Weak Verbs \n",
    "A weak verb is a verb whose root consists of only two consonants and one vowel, it is also called a biconsonantical base. We can find the following types:\n",
    "\n",
    "1. They can have a long vowel between the two consonants, so called **hollow roots** or **Verbs II-weak**, or after the second radical, so called **final weak verbs** or **Verbs III-weak**:\n",
    "\n",
    "     ```{admonition} Example\n",
    "     - **Verbs II weak**: *dâkum* \"to kill\", *dârum* \"to turn around\"\n",
    "     - **Verbs III weak**: **banûm* \"to build\", *qabû* \"to say\n",
    "     ```\n",
    "\n",
    "2. If the vowel is short the biconsonantical base is expanded either through **gemination** of the second radical or by making a triconsonantical by adding a prefix to the root, called **root augment**, such as *w(a)* or *n(a)*:\n",
    "\n",
    "     ```{admonition} Example\n",
    "     - **Gemination**: *šakāku* \"to line up\"; *šadādu* \"to drag\".\n",
    "     - **Root Augment**: *našāqu* \"to kiss\"; *wabālum* \"to carry\".\n",
    "     ```\n",
    "\n",
    "The verbs with gemination have been almost completely assimilated to the triconsonantical roots, meaning that they behave like strong verbs. The others types of weak verbs exhibit many daviations from the paradigms of the strong verbs."
   ]
  }
 ],
 "metadata": {
  "kernelspec": {
   "display_name": "Python 3.10.0 64-bit",
   "language": "python",
   "name": "python3"
  },
  "language_info": {
   "codemirror_mode": {
    "name": "ipython",
    "version": 3
   },
   "file_extension": ".py",
   "mimetype": "text/x-python",
   "name": "python",
   "nbconvert_exporter": "python",
   "pygments_lexer": "ipython3",
   "version": "3.8.8"
  },
  "vscode": {
   "interpreter": {
    "hash": "5c26deda390e14352809ff5e3846854a2e41da099b7523d3f7fcda45a1663734"
   }
  }
 },
 "nbformat": 4,
 "nbformat_minor": 2
}