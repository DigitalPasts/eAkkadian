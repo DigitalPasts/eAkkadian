{
 "cells": [
  {
   "attachments": {},
   "cell_type": "markdown",
   "metadata": {},
   "source": [
    "# L5.1: Verbs II-Weak\n",
    "These verbs are also known as \"hollow roots\" or \"middle weak\" because they have a long vowel in place of middle radical. Any of the four vowels can appear as a theme vowel.\n",
    "\n",
    "## Theme vowel *ā*\n",
    "There are only few verbs with this theme vowel:\n",
    "\n",
    "```{admonition} Example\n",
    "*ibāš* (< *bâšum*) \"he became ashamed\".\n",
    "```\n",
    "\n",
    "## Theme vowel *ē*\n",
    "Also medial *aleph* are counted with the verbs of theme vowel *ē*\n",
    "\n",
    "```{admonition} Example\n",
    "*ibêl* (< *bêlum*) \"he is ruling\".\n",
    "```\n",
    "\n",
    "## Theme vowel *ū*\n",
    "Hollow verbs with the htme vowel *ū* are the most common.\n",
    "\n",
    "```{admonition} Example\n",
    "- *dâkum* \"to kill\".\n",
    "- *târum* \"to turn\"\n",
    "```\n",
    "\n",
    "## Theme vowel *ī*\n",
    "```{admonition} Example\n",
    "- *diānum* \"to pronounce a verdict\".\n",
    "- *qiāšum* \"to bestow\"\n",
    "- *šiānum* \"to urinate\"\n",
    "```\n",
    "\n",
    "## Conjugation of the verbs II-Weak\n",
    "\n",
    "- When the personal suffix is a vowel the third radical is doubled (geminated):\n",
    "    ```{admonition} Example\n",
    "    *ikâ**n***, *iku**nn**ū*\n",
    "    ``` \n",
    "\n",
    "- In G Durative the root vowel appears:\n",
    "    ```{admonition} Example\n",
    "    *ik**â**n*, *ik**u**nnū*\n",
    "    ``` \n",
    "That is the reason for presenting the plural form in the following conjugation table.\n",
    "\n",
    "|               | Durative         | Perfect           | Preterite    | Participle    | Infinitve | Verbal Adjective |\n",
    "| -------       | --------------   | --------          | ---------    | ------------  | --------  | ---------------  | \n",
    "| G II-*ū*      | *ikân*, *ikunnū* | *iktūn*, *iktūnū* | *ikūn*, *ikūnū* | *dāʾikum*  | *kânum*   | *kīnum*          |\n",
    "| G II-*ī*      | *iqīaš*, *iqiššū* | *iqtīš*, *iqtīšū* | *iqīš*, *iqīšū* | *qaʾišum* | *qâšum*   | *qīšum*          |\n",
    "| G II-*ā*      | *ibâš*, *ibaššū* | *ibtaš*, *ibtašū* | *ibāš*, *ibāšū* | *baʾišum*  | *bâšum**  | --               |\n",
    "| G II-*ē*      | *ibêl*, *ibellū* | *ibtēl*, *ibtēlū* | *ibēl*, *ibēlū* | **beʾilum* | *bêlum*   | --               |\n"
   ]
  }
 ],
 "metadata": {
  "kernelspec": {
   "display_name": "Python 3",
   "language": "python",
   "name": "python3"
  },
  "language_info": {
   "codemirror_mode": {
    "name": "ipython",
    "version": 3
   },
   "file_extension": ".py",
   "mimetype": "text/x-python",
   "name": "python",
   "nbconvert_exporter": "python",
   "pygments_lexer": "ipython3",
   "version": "3.8.8"
  },
  "vscode": {
   "interpreter": {
    "hash": "5c26deda390e14352809ff5e3846854a2e41da099b7523d3f7fcda45a1663734"
   }
  }
 },
 "nbformat": 4,
 "nbformat_minor": 2
}