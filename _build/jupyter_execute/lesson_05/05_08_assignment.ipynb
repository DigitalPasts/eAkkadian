{
 "cells": [
  {
   "attachments": {},
   "cell_type": "markdown",
   "metadata": {},
   "source": [
    "# L5.8: Assignment\n",
    "\n",
    "## A. Transliterate and translate\n",
    "\n",
    "1. 𒀀𒁍𒁍𒌝\n",
    "2. 𒄿𒁕𒀝 𒄿𒁺𒊌𒆪 𒄿𒁺𒊌\n",
    "3. 𒄿𒅗𒀭 𒄿𒆪𒌦𒉡 𒄿𒆪𒌦\n",
    "4. 𒆠𒅖𒊭𒌈 𒆠𒅖𒊭𒍪\n",
    "5. 𒄿𒈠𒀜 𒄿𒈬𒌓𒌅 𒄿𒈬𒌓\n",
    "6. 𒄿𒆠𒀀𒀸 𒄿𒆠𒅖 𒄿𒆥𒊭𒄠\n",
    "7. 𒄿𒊑𒀀𒀊 𒄿𒊑𒅁 𒄿𒊑𒁀𒄠\n",
    "8. 𒄿𒊭𒄠 𒄿𒊭𒄠𒈬 𒄿𒊭𒈬\n",
    "9. 𒄿𒅆𒀀𒄠 𒄿𒅆𒅎𒈬 𒄿𒅆𒈬\n",
    "10. 𒅆𒅎𒌈 𒅆𒅎𒋫𒋗\n",
    "11. 𒄿𒍝𒊍 𒄿𒍪𒊻𒍪 𒄿𒍪𒍪\n",
    "12. 𒄿𒁲𒀀𒀊 𒄿𒁲𒅁\n",
    "\n",
    "## B. Translate the following excerpt from the bilingual royal inscription of Samsu-Iluna (1685-1648 BCE). The first section is about Enlil's command to Šamaš to build several temples:\n",
    "\n",
    "1. *i₃-nu* ᵈEN.LIL₂\n",
    "2. LUGAL *ša i₃-li₂*\n",
    "3. *be-lum ra-bi-um*\n",
    "4. *ša ma-ta₂-tim*\n",
    "5. *a-na* ᵈUTU *in bu-ni-šu*\n",
    "6. *dam-qu₂-tim*\n",
    "7. *ip-pa-al-su₂-ma*\n",
    "8. ZIMBIR<sup>ki</sup>\n",
    "9. URU *ṣi-a-tim ma-ha-su₂*\n",
    "10. BAD₃-*šu e-pe₂-ša-am*\n",
    "11. E₂.BABBAR *a-na aš-ri-šu*\n",
    "12. *tu-ur-ra-am* \n",
    "...\n",
    "24. *iq-bi-u₃*\n",
    "\n",
    "```{admonition} Tip\n",
    ":class: tip\n",
    "- *in* = *ina*\n",
    "- *ippalsu* = (< **palāsum*) \"to look, gaze at\"\n",
    "- ZIMBIR<sup>ki</sup> = Sippar (a city)\n",
    "- BAD₃ = *dūru* \"wall\"\n",
    "- E₂.BABBAR = temple name\n",
    "```\n",
    "\n",
    "Several lines later Samsu-Iluna tells about his military deeds:\n",
    "\n",
    "39.  *i₃-nu-šu na-ap-ḫa-ar*\n",
    "40.  *ma-at šu-me-rim*\n",
    "41.  *u₃ ak-ka-di-im*\n",
    "42.  *ša i-ze₂-ru-ni-in-ni*\n",
    "43.  *in li-ib-bu*\n",
    "44.  *ša-at-tim iš-ti-a-at\n",
    "45.  *a-di 8-šu*\n",
    "46.  *in* <sup>giš</sup>TUKUL *lu a-du-uk*\n",
    "\n",
    "```{admonition} Tip\n",
    ":class: tip\n",
    "- *inūšu* = *at that time, then*\n",
    "- *iš-ti-a-at* = \"one\"\"\n",
    "- *lū* \"verily\" \n",
    "```\n",
    "\n",
    "C. Translate the following lines from the the beginning of Atra-hasīs\n",
    "\n",
    "1. 𒄿𒉡𒈠𒄿𒇻𒀀𒉿𒈝\n",
    "2. [...] 𒄑𒁉𒇻𒋗𒌒𒅆𒅅𒅗\n",
    "3. 𒋗𒌒𒅆𒅅𒄿𒇷𒊏𒁉𒈠\n",
    "\n",
    "```{admonition} Tip\n",
    ":class: tip\n",
    "- *rabīma* = \"(it) was big\"\n",
    "```\n"
   ]
  }
 ],
 "metadata": {
  "kernelspec": {
   "display_name": "Python 3.10.0 64-bit",
   "language": "python",
   "name": "python3"
  },
  "language_info": {
   "codemirror_mode": {
    "name": "ipython",
    "version": 3
   },
   "file_extension": ".py",
   "mimetype": "text/x-python",
   "name": "python",
   "nbconvert_exporter": "python",
   "pygments_lexer": "ipython3",
   "version": "3.8.8"
  },
  "vscode": {
   "interpreter": {
    "hash": "5c26deda390e14352809ff5e3846854a2e41da099b7523d3f7fcda45a1663734"
   }
  }
 },
 "nbformat": 4,
 "nbformat_minor": 2
}