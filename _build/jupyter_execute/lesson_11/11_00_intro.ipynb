{
 "cells": [
  {
   "attachments": {},
   "cell_type": "markdown",
   "metadata": {},
   "source": [
    "# L11.0: Introduction\n",
    "In this chapter we will conitnue to study weak verbs. First the II-weaks verbs, second verbs that have two weak radicals. Afterward we will learn about special verbs whose conjugations are irregular. Hereafter we will see how to make subordinate sentences. At then end we will analyse the letter formula from the Old babylonain time.\n",
    "\n",
    "- L11.1: [Verbs I-Weak](11_01_III_weak_verbs.ipynb)\n",
    "- L11.2: [Four Radical Verbs](11_02_four-radical-verbs.ipynb)\n",
    "- L11.3: [DH-Topic](11_03_dh-topic.ipynb)\n",
    "- L11.4: [Exercises](11_04_exercises.ipynb)\n",
    "- L11.5: [Vocabulary & Signs](11_05_vocabulary.ipynb)\n",
    "- L11.6: [Assignment](11_06_assignment.ipynb)"
   ]
  }
 ],
 "metadata": {
  "kernelspec": {
   "display_name": "Python 3.10.0 64-bit",
   "language": "python",
   "name": "python3"
  },
  "language_info": {
   "codemirror_mode": {
    "name": "ipython",
    "version": 3
   },
   "file_extension": ".py",
   "mimetype": "text/x-python",
   "name": "python",
   "nbconvert_exporter": "python",
   "pygments_lexer": "ipython3",
   "version": "3.8.8"
  },
  "vscode": {
   "interpreter": {
    "hash": "5c26deda390e14352809ff5e3846854a2e41da099b7523d3f7fcda45a1663734"
   }
  }
 },
 "nbformat": 4,
 "nbformat_minor": 2
}