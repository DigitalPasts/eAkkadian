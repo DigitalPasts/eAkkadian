{
 "cells": [
  {
   "cell_type": "markdown",
   "metadata": {},
   "source": [
    "# Lesson 1: Introduction\n",
    "We will follow the classical classification according to [part of speech](https://en.wikipedia.org/wiki/Part_of_speech) (word classes). In Akkadian we classify the following word classes:\n",
    "\n",
    "- Pronouns\n",
    "- Nouns\n",
    "- Adjectives\n",
    "- Numerals \n",
    "- Verbs \n",
    "- Adverbs \n",
    "- Prepositions\n",
    "- Conjunction\n",
    "- Subjunctions\n",
    "- Negation\n",
    "- Particles \n",
    "- Interjectios\n",
    "\n",
    "Note that in Akkadian there is no definit article. The definiteness is determined according to the context.\n",
    "\n",
    "In the first lesson we will explain the nouns and adjectives: Status, Gender, Case, Number"
   ]
  }
 ],
 "metadata": {
  "kernelspec": {
   "display_name": "Python 3.10.0 64-bit",
   "language": "python",
   "name": "python3"
  },
  "language_info": {
   "codemirror_mode": {
    "name": "ipython",
    "version": 3
   },
   "file_extension": ".py",
   "mimetype": "text/x-python",
   "name": "python",
   "nbconvert_exporter": "python",
   "pygments_lexer": "ipython3",
   "version": "3.8.8"
  },
  "vscode": {
   "interpreter": {
    "hash": "5c26deda390e14352809ff5e3846854a2e41da099b7523d3f7fcda45a1663734"
   }
  }
 },
 "nbformat": 4,
 "nbformat_minor": 2
}