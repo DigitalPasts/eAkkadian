{
 "cells": [
  {
   "cell_type": "markdown",
   "metadata": {},
   "source": [
    "\n",
    "(word-class)=\n",
    "# L1.1: Word Class (Parts of Speech) \n",
    "We will follow the classical classification according to [part of speech](https://en.wikipedia.org/wiki/Part_of_speech) (word classes) as modern scholars in Assyriology follow this classification as well. In Akkadian we classify the following word classes:\n",
    "\n",
    "- **Nouns** \n",
    "- **Adjectives**\n",
    "- **Pronouns** \n",
    "- **Verbs** \n",
    "- **Adverbs** \n",
    "- **Numerals**\n",
    "- **Prepositions**\n",
    "- **Conjunction**\n",
    "- **Subjunctions**\n",
    "- **Negation**\n",
    "- **Particles**\n",
    "- **Interjections**\n",
    "\n",
    "```{note} \n",
    "In Akkadian there is no definite article. The definiteness is determined according to the context.\n",
    "``` \n",
    "## Nouns - Adjectives - Pronouns\n",
    "In this chapter we will study the nouns, adjectives and pronouns. They all share the characteristic of being inflected.\n",
    "\n",
    "### Nouns\n",
    "Nouns in Akkadian are inflected according to:\n",
    "\n",
    "- **State**: *status rectus*, *status constructus* and *status absolutus*. ↑[L1.1](state)\n",
    "- **Grammatical Gender**: masculine and feminine. ↑[L1.2](noun-gender)\n",
    "- **Grammatical Case**: nominative, genitive, accusative and locative and terminative. ↑[L1.3](casus)\n",
    "- **Grammatical number**: singular, dual and plural. ↑[L1.4](numerus)\n",
    "\n",
    "### Adjectives\n",
    "Adjectives are inflected according to:\n",
    "- **Grammatical Gender**: masculine and feminine. ↑[L1.2](adj-gender)\n",
    "- **Grammatical Case**: nominative, genitive, accusative and terminative. ↑[L1.3](casus)\n",
    "- **Grammatical number**: singular and plural. ↑[L1.4](numerus)\n",
    "\n",
    "### Pronouns\n",
    "Pronouns are inflected according to:\n",
    "- **Grammatical Gender**: masculine and feminine. ↑L1.6\n",
    "- **Grammatical Case**: nominative, genitive, accusative. ↑L1.6\n",
    "- **Grammatical number**: singular and plural. ↑L1.6"
   ]
  }
 ],
 "metadata": {
  "kernelspec": {
   "display_name": "Python 3.10.0 64-bit",
   "language": "python",
   "name": "python3"
  },
  "language_info": {
   "codemirror_mode": {
    "name": "ipython",
    "version": 3
   },
   "file_extension": ".py",
   "mimetype": "text/x-python",
   "name": "python",
   "nbconvert_exporter": "python",
   "pygments_lexer": "ipython3",
   "version": "3.8.8"
  },
  "vscode": {
   "interpreter": {
    "hash": "5c26deda390e14352809ff5e3846854a2e41da099b7523d3f7fcda45a1663734"
   }
  }
 },
 "nbformat": 4,
 "nbformat_minor": 2
}