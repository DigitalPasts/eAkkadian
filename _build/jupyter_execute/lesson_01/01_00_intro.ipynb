{
 "cells": [
  {
   "cell_type": "markdown",
   "metadata": {},
   "source": [
    "\n",
    "# L1.0: Nouns - Adjectives - Pronouns\n",
    "This chapter s group of word classes have in common that they are inflected.\n",
    "\n",
    "## Nouns\n",
    "Nouns in Akkadian are inflected according to:\n",
    "\n",
    "- **State**: *status rectus*, *status constructus* and *status absolutus*. ↑[L1.1](state)\n",
    "- **Grammatical Gender**: masculine and feminine. ↑[L1.2](noun-gender)\n",
    "- **Grammatical Case**: nominative, genitive, accusative and locative and terminative. ↑[L1.3](casus)\n",
    "- **Grammatical number**: singular, dual and plural. ↑[L1.4](numerus)\n",
    "\n",
    "## Adjectives\n",
    "Adjectives are inflected according to:\n",
    "- **Grammatical Gender**: masculine and feminine. ↑[L1.2](adj-gender)\n",
    "- **Grammatical Case**: nominative, genitive, accusative and terminative. ↑[L1.3](casus)\n",
    "- **Grammatical number**: singular, dual and plural. ↑[L1.4](numerus)\n",
    "\n",
    "## Pronouns\n",
    "Pronouns are inflected according to:\n",
    "- **Grammatical Gender**: masculine and feminine. ↑L1.6\n",
    "- **Grammatical Case**: nominative, genitive, accusative. ↑L1.6\n",
    "- **Grammatical number**: singular, dual and plural. ↑L1.6"
   ]
  }
 ],
 "metadata": {
  "kernelspec": {
   "display_name": "Python 3.10.0 64-bit",
   "language": "python",
   "name": "python3"
  },
  "language_info": {
   "codemirror_mode": {
    "name": "ipython",
    "version": 3
   },
   "file_extension": ".py",
   "mimetype": "text/x-python",
   "name": "python",
   "nbconvert_exporter": "python",
   "pygments_lexer": "ipython3",
   "version": "3.8.8"
  },
  "vscode": {
   "interpreter": {
    "hash": "5c26deda390e14352809ff5e3846854a2e41da099b7523d3f7fcda45a1663734"
   }
  }
 },
 "nbformat": 4,
 "nbformat_minor": 2
}