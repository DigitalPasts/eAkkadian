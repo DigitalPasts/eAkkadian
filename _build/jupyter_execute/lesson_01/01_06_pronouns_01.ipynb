{
 "cells": [
  {
   "cell_type": "markdown",
   "metadata": {},
   "source": [
    "(pron-1)=\n",
    "# L1.6: Pronouns Part 1\n",
    "There are six types of demostrantive pronouns\n",
    "\n",
    "- Personal\n",
    "  - Independent\n",
    "  - Pronominal Suffixes\n",
    "- Determinative \n",
    "- Demonstrative\n",
    "- Relative\n",
    "- Interrogative\n",
    "- Indefinite \n",
    "\n",
    "```{note}\n",
    "There is no reflexiv pronoun. \n",
    "```\n",
    "## Independent Personal Pronouns\n",
    "In this lesson we concentrate on the independet personal pronouns. They are inlfected according to:\n",
    "\n",
    "- Grammatical Case: **nominative**, genitive**, **dative**, **accusative**.\n",
    "- Grammatical Gender: **masculine** and **feminine**. \n",
    "- Grammatical Person: **1st**, **2nd** and **3rd** person.\n",
    "- Grammatical number: **singular** and **plural**.\n",
    "\n",
    "These are the independent pronouns in nominative case:\n",
    "\n",
    "| Singular | Nom.    | Translation    | Plural | Nom.     | Translation    | \n",
    "|-------- | :-----: | -------------: |------- | :------: | -------------: |  \n",
    "| 1c      | *anāku* | I              | 1c     | *nīnu*   | we             | \n",
    "| 2m      | *attā*  | you            | 2m     | *attunu* | you            |\n",
    "| 2f      | *atti*  | you            | 2f     | *attina* | you            |\n",
    "| 3m      | *šū*    | He             | 3m     | *šunu*   | they           | \n",
    "| 3f      | *šī*    | She            | 3f     | *šina*   | they           | \n",
    "\n",
    "They are placed at the end of the sentence\n",
    "\n",
    "\n"
   ]
  }
 ],
 "metadata": {
  "kernelspec": {
   "display_name": "Python 3.10.0 64-bit",
   "language": "python",
   "name": "python3"
  },
  "language_info": {
   "codemirror_mode": {
    "name": "ipython",
    "version": 3
   },
   "file_extension": ".py",
   "mimetype": "text/x-python",
   "name": "python",
   "nbconvert_exporter": "python",
   "pygments_lexer": "ipython3",
   "version": "3.8.8"
  },
  "vscode": {
   "interpreter": {
    "hash": "5c26deda390e14352809ff5e3846854a2e41da099b7523d3f7fcda45a1663734"
   }
  }
 },
 "nbformat": 4,
 "nbformat_minor": 2
}