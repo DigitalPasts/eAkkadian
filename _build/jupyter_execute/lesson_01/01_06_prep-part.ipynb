{
 "cells": [
  {
   "attachments": {},
   "cell_type": "markdown",
   "metadata": {},
   "source": [
    "````{margin} Grammar references\n",
    "GoA 2.3\n",
    "````\n",
    "\n",
    "# L1.6: The Determinative Pronoun *ša*\n",
    "The Determinative pronoun *ša* means 'the one of' and has three functions:\n",
    "\n",
    "## Without a Reference Word\n",
    "It can be used without a reference word. In this case it means 'the one of', 'something of'.\n",
    "\n",
    "````{admonition} Example\n",
    "- *ša ekallim* = (something) of the palace \n",
    "- *ša bābilim* = the one of Babylon.\n",
    "````\n",
    "\n",
    "```{warning}\n",
    "Nouns after *ša* are in **genitive**.\n",
    "```\n",
    "\n",
    "(sha-ref)=\n",
    "## With a Reference Word\n",
    "It can refere to a word that is placed before the determinative. It is used instead of a [status constructus](01_04_status-constructus).\n",
    "````{admonition} Example\n",
    "- *šarrum ša bābilim* = '(The) king of Babylon' (lit. The King, the one of Babylon) \n",
    "- *bēlum ša ālim* = '(The) lord of the city' (lit. 'The Lord, the one of the city')\n",
    "````\n",
    "\n",
    "## For Relative Clauses\n",
    "For this function 👉GoA 19.3\n"
   ]
  }
 ],
 "metadata": {
  "kernelspec": {
   "display_name": "Python 3.10.0 64-bit",
   "language": "python",
   "name": "python3"
  },
  "language_info": {
   "codemirror_mode": {
    "name": "ipython",
    "version": 3
   },
   "file_extension": ".py",
   "mimetype": "text/x-python",
   "name": "python",
   "nbconvert_exporter": "python",
   "pygments_lexer": "ipython3",
   "version": "3.8.8"
  },
  "vscode": {
   "interpreter": {
    "hash": "5c26deda390e14352809ff5e3846854a2e41da099b7523d3f7fcda45a1663734"
   }
  }
 },
 "nbformat": 4,
 "nbformat_minor": 2
}