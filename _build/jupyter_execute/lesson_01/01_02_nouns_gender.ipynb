{
 "cells": [
  {
   "cell_type": "markdown",
   "metadata": {},
   "source": [
    "# Lesson 1: Gender\n",
    "\n",
    "## Substantives\n",
    "There are two genders: masculine and feminine. Masculine nouns have no special ending, the femenines have -t or -at.\n",
    "\n",
    "| Masculine | Translation |   | Feminine | Translation |\n",
    "|---------- | ----------- |---| -------  | ----------- |\n",
    "| *šarrum*    | king        |   | *šarratum* | Queen       |\n",
    "| *ilum*      | god         |   | *iltum*    | goddess     |\n",
    "| *mārum*     | sohn        |   | *mārtum*   | daugther    |\n",
    "| *bēlum*     | lord        |   | *bēltum*   | lady        |\n",
    "\n",
    "Some formally masculine nouns are gramatically femenine : \n",
    "\n",
    "| Feminine | Translation |\n",
    "|--------- | ----------- |\n",
    "| *arhum*    | cow         |\n",
    "| *šēpum*    | foot        |\n",
    "| *ummun*    | mother      |\n",
    "| *enzum*    | she-goat    |\n",
    "| *nārum*    | river       |\n",
    "\n",
    "For more exception to this rules see: ABG §146, AG 2.1(e).\n",
    "\n",
    "## Adjectives - Gender\n",
    "The adjective has to be congruent with its substantive and is placed normally after the substantive.\n",
    "\n",
    "|Gender | Noun     | Adjective | Translation |\n",
    "|------ | -------- | --------  | ----------- |\n",
    "| masc. | *šarrum*   | *dannun*    | mighty king |\n",
    "| fem.  | *šarratum* | *dannatum*  | mighty queen |\n",
    "| masc. | *ilum*     | *damqum*    | good god    |\n",
    "| fem.  | *iltum*    | *damiqtum*  | good goddess |\n",
    "\n"
   ]
  }
 ],
 "metadata": {
  "kernelspec": {
   "display_name": "Python 3.10.0 64-bit",
   "language": "python",
   "name": "python3"
  },
  "language_info": {
   "codemirror_mode": {
    "name": "ipython",
    "version": 3
   },
   "file_extension": ".py",
   "mimetype": "text/x-python",
   "name": "python",
   "nbconvert_exporter": "python",
   "pygments_lexer": "ipython3",
   "version": "3.8.8"
  },
  "vscode": {
   "interpreter": {
    "hash": "5c26deda390e14352809ff5e3846854a2e41da099b7523d3f7fcda45a1663734"
   }
  }
 },
 "nbformat": 4,
 "nbformat_minor": 2
}