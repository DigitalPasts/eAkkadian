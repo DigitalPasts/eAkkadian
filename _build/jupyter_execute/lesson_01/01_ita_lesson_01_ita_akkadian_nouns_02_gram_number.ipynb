{
 "cells": [
  {
   "cell_type": "markdown",
   "metadata": {},
   "source": [
    "# Akkadian Nouns - Grammatical Number\n",
    "\n",
    "There are thre numbers: singular, dual and plural\n",
    "\n",
    "| Number | Gender | Substantive | Adjective |   \n",
    "| -----  | ------ | ----------- | --------- |     \n",
    "| sg.    | masc.  | šarrum      | dannum    |    \n",
    "| dual   | masc.  | šarrān      |  -        |\n",
    "| pl.    | masc.  | šarrū       | dannūtum  |\n",
    "| | | |  \n",
    "| sg.    | fem.   | šarratum    | dannatum  |\n",
    "| dual   | fem.   | šarratān    | -         |\n",
    "| pl.    | fem.   | šarrātum    | dannātum  |\n",
    "\n",
    "The adjectives have no dual forms.\n",
    "\n"
   ]
  }
 ],
 "metadata": {
  "kernelspec": {
   "display_name": "Python 3.10.0 64-bit",
   "language": "python",
   "name": "python3"
  },
  "language_info": {
   "codemirror_mode": {
    "name": "ipython",
    "version": 3
   },
   "file_extension": ".py",
   "mimetype": "text/x-python",
   "name": "python",
   "nbconvert_exporter": "python",
   "pygments_lexer": "ipython3",
   "version": "3.8.8"
  },
  "vscode": {
   "interpreter": {
    "hash": "5c26deda390e14352809ff5e3846854a2e41da099b7523d3f7fcda45a1663734"
   }
  }
 },
 "nbformat": 4,
 "nbformat_minor": 2
}