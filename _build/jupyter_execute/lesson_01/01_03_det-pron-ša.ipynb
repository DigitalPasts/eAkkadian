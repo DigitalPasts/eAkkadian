{
 "cells": [
  {
   "cell_type": "markdown",
   "metadata": {},
   "source": [
    "````{margin} Grammar references\n",
    "GoA 2.3\n",
    "````\n",
    "\n",
    "# L1.3 The Determinative Pronoun *ša*\n",
    "The Determinative pronoun *ša* means 'the one of', 'something of' and can be used without a reference word\n",
    "\n",
    "````{admonition} Example\n",
    "*ša ekallim* = (something) of the palace \n",
    "*ša bābilim* = the one of Babylon.\n",
    "````\n",
    "\n",
    "It kann also be used intead of a [status constructus](01_04_status-constructus) "
   ]
  }
 ],
 "metadata": {
  "kernelspec": {
   "display_name": "Python 3.10.0 64-bit",
   "language": "python",
   "name": "python3"
  },
  "language_info": {
   "codemirror_mode": {
    "name": "ipython",
    "version": 3
   },
   "file_extension": ".py",
   "mimetype": "text/x-python",
   "name": "python",
   "nbconvert_exporter": "python",
   "pygments_lexer": "ipython3",
   "version": "3.8.8"
  },
  "vscode": {
   "interpreter": {
    "hash": "5c26deda390e14352809ff5e3846854a2e41da099b7523d3f7fcda45a1663734"
   }
  }
 },
 "nbformat": 4,
 "nbformat_minor": 2
}