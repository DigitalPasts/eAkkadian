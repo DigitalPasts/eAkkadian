{
 "cells": [
  {
   "cell_type": "markdown",
   "metadata": {},
   "source": [
    "(vowel-contraction)=\n",
    "# L1.4: Vowel Contractions \n",
    "When two vowels appear consecutively, they are usually contracted. Generally the second one dominates. This contraction length is shown by circumflex:\n",
    "\n",
    "| First vowel + second vowel | contracted long vowel | Example                  | Translations |\n",
    "| -------------------------- | :-------------------: | :-----:                  | -----------: |\n",
    "| *a* + *u*                  | *û*                   | *rubûm* (<*ruba*-*um*) | prince\n",
    "| *a* + *i*                  | *ê*                   | *rubêm* (<*ruba*-*im*) |\n",
    "| *a* + *a*                  | *â*                   | *rubâm* (<*ruba*-*am*) |\n",
    "\n",
    "| First vowel + second vowel | contracted long vowel | Example                  | Translations |\n",
    "| -------------------------- | :-------------------: | :-----:                  | -----------: |\n",
    "| *i* + *u*                  | *û*                   | *šanûm* (<*šani*-*um*) | second\n",
    "| *i* + *i*                  | *î*                   | *šanîm* (<*šani*-*im*) |\n",
    "| *i* + *a*                  | *ia* (*â*)            | *šanûm* (<*šani*-*um*) |\n",
    "\n",
    "\n",
    "| First vowel + second vowel | contracted long vowel | Example              | Translations |\n",
    "| -------------------------- | :-------------------: | :-----:              | -----------: |\n",
    "| *u* + *u*                  | *û*                   | *šadûm* (<*šadu-um*) | mountains\n",
    "| *u* + *i*                  | *î*                   | *šadîm* (<*šadu-im*) |\n",
    "| *u* + *a*                  | *â*                   | *šadâm* (<*šadu-am*) | "
   ]
  },
  {
   "cell_type": "code",
   "execution_count": null,
   "metadata": {},
   "outputs": [],
   "source": []
  }
 ],
 "metadata": {
  "kernelspec": {
   "display_name": "Python 3.10.0 64-bit",
   "language": "python",
   "name": "python3"
  },
  "language_info": {
   "codemirror_mode": {
    "name": "ipython",
    "version": 3
   },
   "file_extension": ".py",
   "mimetype": "text/x-python",
   "name": "python",
   "nbconvert_exporter": "python",
   "pygments_lexer": "ipython3",
   "version": "3.8.8"
  },
  "vscode": {
   "interpreter": {
    "hash": "5c26deda390e14352809ff5e3846854a2e41da099b7523d3f7fcda45a1663734"
   }
  }
 },
 "nbformat": 4,
 "nbformat_minor": 2
}