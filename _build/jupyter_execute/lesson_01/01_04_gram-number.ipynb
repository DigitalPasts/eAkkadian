{
 "cells": [
  {
   "cell_type": "markdown",
   "metadata": {},
   "source": [
    "(numerus)=\n",
    "# L1.4: Grammatical Number\n",
    "There are thre numbers: \n",
    "\n",
    "- **Singular**: It has no special ending.\n",
    "- **dual**: It is marked by the ending *-ān* in nominative (*īn* in acc.-gen.). Already in Old Babylonian the dual is not being used anymore. Its use is restricted to parts of the body that are pairs, numbers and some other nouns. \n",
    " \n",
    "    ```{warning}\n",
    "    Adjectives have no dual forms. For more details see ABG §144 and AG 2.1(f).\n",
    "    ```\n",
    "\n",
    "- **plural**: For the masculine it is marked by the endings: *-ū* (nominative) and *-ī* in acc.-gen.; for the feminine nouns and adjectives *-āt*. The masculine adjective is marked by *-ūt*\n",
    "  \n",
    "\n",
    "| Number | Gender | Case | Substantive | Adjective |\n",
    "|------- | ------ | -----| ----------- | --------- |\n",
    "| sg.    |  masc. | nom. | *šarrum*    | *dannum*  |\n",
    "|        |        | gen. | *šarrim*    | *dannim*  |\n",
    "|        |        | acc. | *šarram*    | *dannam*  |\n",
    "| dual   |  masc. | nom. | *šarrān*      | -         |\n",
    "|        |        | gen./acc. | *šarrīn* | -         |        \n",
    "| pl.    | masc.  | nom. | *šarrū*       | *dannūtum*  |\n",
    "|        |        | gen./acc. | *šarrī*  | *dannūtim*  |\n",
    "||||||\n",
    "| sg.    |  fem   | nom. | *šarratum*      | *dannatum* |\n",
    "|        |        | gen. | *šarratim*      | *dannatim* |\n",
    "|        |        | acc. | *šarratam*      | *dannatam* |\n",
    "| dual   |  fem.  | nom. | *šarratān*      |  |\n",
    "|        |        | gen./acc. | *šarratīn* |  |        \n",
    "| pl.    |  fem.  | nom. | *šarrātum*      | *dannātum* |\n",
    "|        |        | gen./acc. | *šarrātim* | *dannātum* |\n",
    "\n",
    "(mim-nun)=\n",
    "`````{admonition} Mimmation vs. Nunnation 🧑‍🏫\n",
    ":class: tip\n",
    "The endings for the singular in the *status rectus* contains the element *-m* and is called [*mimation*](https://en.wikipedia.org/wiki/Mimation). It begins to desappear already in the old Babylonian period, later on completely. For more details see ABG §46; GoA 24.4.There is also the ending *-n* for the dual called [*nunation*](https://en.wikipedia.org/wiki/Nunation). \n",
    "`````\n",
    "\n",
    "\n",
    "\n"
   ]
  }
 ],
 "metadata": {
  "kernelspec": {
   "display_name": "Python 3.10.0 64-bit",
   "language": "python",
   "name": "python3"
  },
  "language_info": {
   "codemirror_mode": {
    "name": "ipython",
    "version": 3
   },
   "file_extension": ".py",
   "mimetype": "text/x-python",
   "name": "python",
   "nbconvert_exporter": "python",
   "pygments_lexer": "ipython3",
   "version": "3.8.8"
  },
  "vscode": {
   "interpreter": {
    "hash": "5c26deda390e14352809ff5e3846854a2e41da099b7523d3f7fcda45a1663734"
   }
  }
 },
 "nbformat": 4,
 "nbformat_minor": 2
}