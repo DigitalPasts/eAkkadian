{
 "cells": [
  {
   "cell_type": "markdown",
   "metadata": {},
   "source": [
    "# Akkadian Nouns - Grammatical case\n",
    "The most common are: nominative, genitive and accusative.\n",
    "\n",
    "|     | casus |Masculine | Femenine |\n",
    "|---- | -------- | -------- | ------- |\n",
    "| sg. | nom. | šarrum  | šarratum |\n",
    "|     | gen.   | šarrim  | šarratim |\n",
    "|     | acc. | šarram  | šarratam |\n",
    "| dual| nom. | šarrān   | šarratān |\n",
    "|     | gen./acc. |šarrīn | šarratīn |        \n",
    "| pl. | nom. | šarrū    | šarrātum |\n",
    "|     | gen./acc. | šarrī | šarrātim |\n",
    "\n",
    "Besides there are two more cases: locative-adverbialis and terminative-adverbialis\n",
    "\n",
    "|  casus |Masculine | Femenine |\n",
    "| -------- | -------- | ------- |\n",
    "| loc.-adv. | qatum  | šarratum |  \n",
    "| ter.-adv. | \n",
    "\n",
    "Already in Old Babylonian they are not productive anymore. They are used in fixed phrases.\n",
    "\n",
    "\n",
    "\n"
   ]
  }
 ],
 "metadata": {
  "kernelspec": {
   "display_name": "Python 3.10.0 64-bit",
   "language": "python",
   "name": "python3"
  },
  "language_info": {
   "codemirror_mode": {
    "name": "ipython",
    "version": 3
   },
   "file_extension": ".py",
   "mimetype": "text/x-python",
   "name": "python",
   "nbconvert_exporter": "python",
   "pygments_lexer": "ipython3",
   "version": "3.8.8"
  },
  "vscode": {
   "interpreter": {
    "hash": "5c26deda390e14352809ff5e3846854a2e41da099b7523d3f7fcda45a1663734"
   }
  }
 },
 "nbformat": 4,
 "nbformat_minor": 2
}