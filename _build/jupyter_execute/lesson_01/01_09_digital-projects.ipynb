{
 "cells": [
  {
   "attachments": {},
   "cell_type": "markdown",
   "metadata": {},
   "source": [
    "# L1.9: Digital Projects in the Assyriology\n",
    "There are many digital projects. Each one with its own focus:\n",
    "\n",
    "## The Cuneiform Digital Library Initiative ([CDLI](https://cdli.mpiwg-berlin.mpg.de/))\n",
    "The CDLI is mainly a repository for cuneiform tablets and objects with cuneiform inscriptions from all times. You can find here metatextual information for each object and sometimes a transliteration and translation. The project is meanwhile old, so it is being updated. The search is not intuitiv, you need to know how to search.\n",
    "\n",
    "## The Open Richly Annotated Cuneiform Corpus ([ORACC](http://oracc.museum.upenn.edu/projectlist.html))\n",
    "This is a repository for many projects that use the infrastructure of ORACC. They focus on transliteration and translation of cuneiforms texts. Once a text is uploaded, you can use them in a proxy project. It is currently the most consistent corpus with annotations and groupped according to genres, language, topic, archaeological sites, etc. At the moment, it is not possible to make seach in all corpora. You have to go inside a project and browse there. \n",
    "\n",
    "There are many important projects in this repository:\n",
    "\n",
    "- **electronic Pennsylvania Sumerian Dictionary Project** ([ePSD2](http://oracc.museum.upenn.edu/epsd2/))\n",
    "Sumerian glossary, corpora, catalogue, signlist, and index to the secondary literature. Directed by Steve Tinney at the University of Pennsylvania; with the assistance of Philip Jones (Penn Museum) and Niek Veldhuis (University of California, Berkeley) and many contributions from others. Supported by the National Endowment for the Humanities from 1976-2006.\n",
    "\n",
    "- **Ancient Records of Middle Eastern Polities** ([ARMEP](http://oracc.museum.upenn.edu/armep/))\n",
    "With its multi-project search engine, enables users to simultaneously search the translations, transliterations, and catalogues of multiple Oracc projects on which ancient records of Middle Eastern polities (especially those of the first millennium BC) are edited. The project is funded by LMU Munich and the Alexander von Humboldt Foundation. ARMEP is managed by Jamie Novotny and Karen Radner.\n",
    "\n",
    "- **Cuneiform Commentaries Project** ([CCPo](http://oracc.museum.upenn.edu/ccpo/pager))\n",
    "Provides fully searchable, annotated editions of text commentaries written by Assyrian and Babylonian scholars between the eighth and second centuries BCE. The texts commented on include literary, magical, divinatory, medical, legal, and lexical works. Project Director: Eckart Frahm; Co-Director: Enrique Jiménez; Senior Editor: Mary Frazer.\n",
    "\n",
    "## Database of Neo-Sumerian Texts ([BDTNS](http://bdtns.filol.csic.es/index.php?p=home))\n",
    "This is a corpus of Neo-Sumerian texts. It is extensive and it has almost everything from the Neo-Sumerian period. You can search for sigs, word and sequences of words. Nevertheless, it is not annotated, they offer only transliteration and sometimes you will find a photo. \n",
    "\n",
    "## The “electronic Babylonian Library” ([eBL](https://www.ebl.lmu.de/)) Project \n",
    "This is becoming one of the most important projects. They have one of the biggest databases for literary texts. The core of this project are the transliterated text in the Fragmentarium. You can transliterate texts, but also annotate, translate and comment. You will find also a photo of the cueniform object, on which you can also annotate cuneiform signs. The search is very intuitive and has many functions. Very important also is the corpus. Here you will find detailed philological editions of Mesopotamian literary works. With many layer for translation, variants, notes, etc.\n",
    "\n",
    "## Sources of Early Akkadian Literature ([SEAL](https://seal.huji.ac.il/))\n",
    "This is an ongoing project which started in 2007. It aims to compile an exhaustive catalogue of Akkadian literary texts from the 3rd and 2nd millennia BCE, to present this corpus in such a way as to enable the efficient study of the entire early Akkadian corpus in all its philological, literary, and historical dimensions. Many of the editions in SEAL rely on new collations and photographs.\n",
    "\n",
    "## Archives Babyloniennes (XXᵉ-XVIIᵉ siècles av.J.-C.) - [ARCHIBAB](https://www.archibab.fr/)\n",
    "ARCHIBAB is one of the pioneers of digital Assyriology. This project has three goals: 1) the publication of a guide of the Old Babylonian archives in the form of a book, supplemented by a bibliography on line; 2) the creation of a data base having in the long term vocation to contain all the archives documents dated in the Old Babylonian period. In the next three years, one can consider in a realistic way the creation of a complete catalogue of the documents  and the edition of approximately 2.000 texts; 3) the publication of three monographs devoted to particular archives (partially or completely unpublished). It has an outdated design and it is not very intuitive. \n"
   ]
  }
 ],
 "metadata": {
  "kernelspec": {
   "display_name": "Python 3.10.0 64-bit",
   "language": "python",
   "name": "python3"
  },
  "language_info": {
   "codemirror_mode": {
    "name": "ipython",
    "version": 3
   },
   "file_extension": ".py",
   "mimetype": "text/x-python",
   "name": "python",
   "nbconvert_exporter": "python",
   "pygments_lexer": "ipython3",
   "version": "3.8.8"
  },
  "vscode": {
   "interpreter": {
    "hash": "5c26deda390e14352809ff5e3846854a2e41da099b7523d3f7fcda45a1663734"
   }
  }
 },
 "nbformat": 4,
 "nbformat_minor": 2
}