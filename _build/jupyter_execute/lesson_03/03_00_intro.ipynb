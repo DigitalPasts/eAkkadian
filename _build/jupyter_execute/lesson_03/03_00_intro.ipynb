{
 "cells": [
  {
   "cell_type": "markdown",
   "metadata": {},
   "source": [
    "# L3.0: Introduction\n",
    "In this chapter we will study the pronominal suffixes when they are attached to nouns (*status constructus* part 2), verbs and prepositions. After that the denominative and demonstrative adjectives to end on the locativ and adverbiativ:\n",
    "\n",
    "- L3.1: [Pronominal Suffixes](03_01_pron-suff)\n",
    "- L3.2: [Pronominal suffixes on nouns](03_02_pron-suff_noun)\n",
    "- L3.3: [Pronominal suffixes on prepositions](03_03_pron-suff_prep)\n",
    "- L3.4: [Pronominal suffixes on verbs](03_04_pron-suff_verb)\n",
    "- L3.5. [Denominative Adjectives](03_05_demons_adjec)\n",
    "- L3.6. [Demonstrative Adjectives](03_06_denom_adjec)\n",
    "- L3.7. [Locative-Adverbial](03_07_adverb_noun_um)\n",
    "- L3.8. [Terminativ-Adverbial](03_08_adverb_noun_ish)\n",
    "- L3.9. [Exercises](03_09_exercises)\n",
    "- L3.10. [Vocabulary & Signs](03_10_vocab-signs)\n",
    "- L3.11. [Assignment](03_11_assignment)\n"
   ]
  }
 ],
 "metadata": {
  "kernelspec": {
   "display_name": "Python 3.10.0 64-bit",
   "language": "python",
   "name": "python3"
  },
  "language_info": {
   "codemirror_mode": {
    "name": "ipython",
    "version": 3
   },
   "file_extension": ".py",
   "mimetype": "text/x-python",
   "name": "python",
   "nbconvert_exporter": "python",
   "pygments_lexer": "ipython3",
   "version": "3.8.8"
  },
  "vscode": {
   "interpreter": {
    "hash": "5c26deda390e14352809ff5e3846854a2e41da099b7523d3f7fcda45a1663734"
   }
  }
 },
 "nbformat": 4,
 "nbformat_minor": 2
}