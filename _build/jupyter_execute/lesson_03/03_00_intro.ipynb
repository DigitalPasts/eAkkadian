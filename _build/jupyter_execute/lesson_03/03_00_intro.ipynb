{
 "cells": [
  {
   "attachments": {},
   "cell_type": "markdown",
   "metadata": {},
   "source": [
    "# L3.0: Introduction\n",
    "In this chapter we will study the pronominal suffixes when they are attached to nouns (*status constructus* part 2), verbs and prepositions. After that the denominative and demonstrative adjectives to end on the locativ and adverbiativ:\n",
    "\n",
    "- L3.1: [Pronouns](03_01_pronouns.ipynb)\n",
    "- L3.2: [Pronominal Suffixes](03_02_pron-suff.ipynb)\n",
    "- L3.3: [Pronominal suffixes on nouns](03_03_pron-suff_noun.ipynb)\n",
    "- L3.4: [Pronominal suffixes on prepositions](03_04_pron-suff_prep.ipynb)\n",
    "- L3.5: [Pronominal suffixes on verbs](03_05_pron-suff_verb.ipynb)\n",
    "- L3.6: [Annotations](03_06_annotations.ipynb)\n",
    "- L3.7: [Exercises](03_07_exercises.ipynb)\n",
    "- L3.8: [Vocabulary & Signs](03_08_vocab-signs.ipynb)\n",
    "- L3.9: [Assignment](03_09_assignment.ipynb)\n"
   ]
  }
 ],
 "metadata": {
  "kernelspec": {
   "display_name": "Python 3.10.0 64-bit",
   "language": "python",
   "name": "python3"
  },
  "language_info": {
   "codemirror_mode": {
    "name": "ipython",
    "version": 3
   },
   "file_extension": ".py",
   "mimetype": "text/x-python",
   "name": "python",
   "nbconvert_exporter": "python",
   "pygments_lexer": "ipython3",
   "version": "3.8.8"
  },
  "vscode": {
   "interpreter": {
    "hash": "5c26deda390e14352809ff5e3846854a2e41da099b7523d3f7fcda45a1663734"
   }
  }
 },
 "nbformat": 4,
 "nbformat_minor": 2
}