{
 "cells": [
  {
   "cell_type": "markdown",
   "metadata": {},
   "source": [
    "# How to interact with this book\n",
    "This book was created with [Jupiter Book](https://jupyterbook.org/en/stable/intro.html), an open-source project for designing online interactive books that contain code and other computational material.\n",
    "\n",
    "Below the interactive features of this Jupyter Book are explained in further detail. Most interactive features can be found in the toolbar at the top of the page.\n",
    "\n",
    "## <i class=\"fa fa-rocket\" aria-hidden=\"true\"></i> Open Jupyter Notebook in the Cloud\n",
    "You can open most pages from this book in the cloud and run the code live. Hover over the rocket icon  at the top of the page and click “Binder” to open a version of the same page in the cloud.\n",
    "\n",
    "[Binder](https://mybinder.org/) is a service that allows you to run Jupyter notebooks without any prior configuration or installation. It may take a few minutes for the Jupyter notebook to load, so be patient. \n",
    "\n",
    "## <i class=\"fas fa-expand\" aria-hidden=\"true\"></i> Make Full Screen\n",
    "To make any page from this book full screen, click the full screen icon at the top of the page.\n",
    "\n",
    "## <i class=\"fab fa-github\" aria-hidden=\"true\"></i> GitHub\n",
    "Github is a code repository and is the place where all the source material for this site lives.\n",
    "\n",
    "- <i class=\"fab fa-github\" aria-hidden=\"true\"></i> To see the Repository with all source files\n",
    "\n",
    "- <i class=\"fas fa-pencil-alt\"></i> If you run into any issues or would like to make a suggestion, you can open an issue on GitHub by hovering over the GitHub icon and clicking \"open issue.\" You can also email me with issues or suggestions at digpasts@gmail.com..\n",
    "\n",
    "## <i class=\"fa fa-download\" aria-hidden=\"true\"></i> Download Jupyter Notebook\n",
    "You can download any Jupyter notebook page from this book as a Jupyter notebook file (.ipynb) or as a PDF. Hover over the download icon and click “.ipynb” or “.pdf”\n",
    "\n",
    "````{attention}\n",
    "To work with this .ipynb file, you will need to have Jupyter installed and running on your own computer.\n",
    "````\n",
    "\n",
    "## **𒀀** Cuneiform Font \n",
    "In this course we will mainly use the Neo-Assyrian script. In order to visualize it, you may want to download [Assurbanipal](https://www.hethport.uni-wuerzburg.de/cuneifont/) under the link \"Neo-Assyrian Font\" and install it. Otherwise the browser will use the [default font](https://en.wikipedia.org/wiki/Cuneiform_(Unicode_block)), which actually are design according to the Old Babylonian ductus.  \n",
    "\n",
    "## **Š** **Ṣ** **Ĝ** Special Characters\n",
    "For the special characters you may install [WinCompose](http://wincompose.info/). Once installed download {download}`this list <../extra_material/.XCompose.txt>` and add it to in ```C:\\Users\\[username]```.\n",
    "The combinations for the special characters are:\n",
    "\n",
    "- [key] + ^ + g = ĝ \n",
    "- [key] + ^ + G = Ĝ\n",
    "- [key] + c + s = š\n",
    "- [key] + c + S = Š\n",
    "- [key] + ! + s = ṣ\n",
    "- [key] + ! + S = Ṣ\n",
    "- [key] + ! + t = ṭ\n",
    "- [key] + ! + T = Ṭ\n",
    "- [key] + a + - = ā (the same combination for the other vowels)\n",
    "- [key] + a + ^ = â (the same combination for the other vowels)\n",
    "\n",
    "## **𒇽** **𒈗** Typing Cuneiform\n",
    "[Robbin Leroy](https://github.com/eggrobin) has developped a cuneifornm input method called [Enmekar](https://github.com/eggrobin/Enmerkarn) for typing cuneiform. Follow the instructions there to install it. \n",
    "\n",
    "```{note}\n",
    "At the moment it only runs on Windows.\n",
    "```\n",
    "This input method can also be used for special charachters.\n",
    "\n"
   ]
  }
 ],
 "metadata": {
  "kernelspec": {
   "display_name": "Python 3.10.0 64-bit",
   "language": "python",
   "name": "python3"
  },
  "language_info": {
   "codemirror_mode": {
    "name": "ipython",
    "version": 3
   },
   "file_extension": ".py",
   "mimetype": "text/x-python",
   "name": "python",
   "nbconvert_exporter": "python",
   "pygments_lexer": "ipython3",
   "version": "3.8.8"
  },
  "vscode": {
   "interpreter": {
    "hash": "5c26deda390e14352809ff5e3846854a2e41da099b7523d3f7fcda45a1663734"
   }
  }
 },
 "nbformat": 4,
 "nbformat_minor": 2
}