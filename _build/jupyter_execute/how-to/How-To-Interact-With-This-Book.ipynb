{
 "cells": [
  {
   "cell_type": "markdown",
   "metadata": {},
   "source": [
    "# How to interact with this book\n",
    "This book was created with [Jupiter Book](https://jupyterbook.org/en/stable/intro.html), an open-source project for designing online interactive books that contain code and other computational material.\n",
    "\n",
    "Below the interactive features of this Jupyter Book are explained in further detail. Most interactive features can be found in the toolbar at the top of the page.\n",
    "\n",
    "## Open Jupyter Notebook in the Cloud\n",
    "You can open most pages from this book in the cloud and run the code live. Hover over the rocket icon  at the top of the page and click “Binder” to open a version of the same page in the cloud.\n",
    "\n",
    "[Binder](https://mybinder.org/) is a service that allows you to run Jupyter notebooks without any prior configuration or installation. It may take a few minutes for the Jupyter notebook to load, so be patient. \n",
    "\n",
    "## Download Jupyter Notebook\n",
    "You can download any Jupyter notebook page from this book as a Jupyter notebook file (.ipynb). Hover over the download icon and click “.ipynb”\n",
    "\n",
    "````{attention}\n",
    "To work with this .ipynb file, you will need to have Jupyter installed and running on your own computer.\n",
    "````\n",
    "\n",
    "## Download PDF\n",
    "You can download any Jupyter notebook page from this book as a PDF file. Hover over the download icon and click \".pdf\"\n",
    "\n",
    "## Make Full Screen\n",
    "To make any page from this book full screen, click the full screen icon at the top of the page.\n",
    "\n",
    "## Cuneiform Font 𒀀\n",
    "In this course we will mainly use the Neo-Assyrian script. In order to visualize it, you may want to download [Assurbanipal](https://www.hethport.uni-wuerzburg.de/cuneifont/) under the link \"Neo-Assyrian Font\" and install it. Otherwise the browser will use the [default font](https://en.wikipedia.org/wiki/Cuneiform_(Unicode_block)), which actually are design according to the Old Babylonian ductus.  \n",
    "\n",
    "## Open Issue on GitHub\n",
    "If you run into any issues or would like to make a suggestion, you can open an issue on GitHub by hovering over the GitHub icon and clicking \"open issue.\"\n",
    "\n",
    "You can also email me with issues or suggestions at digpasts@gmail.com. \n",
    "\n",
    "\n"
   ]
  }
 ],
 "metadata": {
  "kernelspec": {
   "display_name": "Python 3.10.0 64-bit",
   "language": "python",
   "name": "python3"
  },
  "language_info": {
   "codemirror_mode": {
    "name": "ipython",
    "version": 3
   },
   "file_extension": ".py",
   "mimetype": "text/x-python",
   "name": "python",
   "nbconvert_exporter": "python",
   "pygments_lexer": "ipython3",
   "version": "3.8.8"
  },
  "vscode": {
   "interpreter": {
    "hash": "5c26deda390e14352809ff5e3846854a2e41da099b7523d3f7fcda45a1663734"
   }
  }
 },
 "nbformat": 4,
 "nbformat_minor": 2
}