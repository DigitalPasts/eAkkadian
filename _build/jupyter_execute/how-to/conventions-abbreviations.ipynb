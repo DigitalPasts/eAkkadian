{
 "cells": [
  {
   "cell_type": "markdown",
   "metadata": {},
   "source": [
    "# Conventions & Abbreviations\n",
    "These conventions and abbreviations will be used in the course.\n",
    "\n",
    "## Conventions for Akkadian\n",
    "\n",
    "- Akkadian : *italics*\n",
    "- Sumerian: normal\n",
    "- Logograms: CAPITAL\n",
    "- Determinativ: <sup>superscript</sup>\n",
    "\n",
    "## Abbreviations for Grammars\n",
    "- **GAG**\n",
    "  \n",
    "  Wolfram von Soden. *Grundriss der akkadischen Grammatik*. Number 33 in Analecta Orientalia. Pontificium Institutum Biblicum, Roma, 3 edition, {cite:year}`GAG`.\n",
    "- **GoA**\n",
    "\n",
    "  John Huehnergard. *A Grammar of Akkadian*. Number 45 in Harvard Semitic Studies. Eisenbrauns, Winona Lake, 3., rev. ed. edition, {cite:year}`GoA`.\n",
    "\n",
    "- **ABG**\n",
    "\n",
    "  Michael P. Streck. *Altbabylonisches Lehrbuch*. Number 23 in Porta Linguarum Orientalium. Harrassowitz Verlag, Wiesbaden, vierte, überarbeitete auflage, revidierte ausgabe edition, {cite:year}`ABG`.\n",
    "\n",
    "## Abbreviations for Dicctionaries\n",
    "- **AHw**  \n",
    "  \n",
    "  Wolfram von Soden. Akkadisches Handwörterbuch. Unter Benutzung des lexikalischen Nachlasses von Bruno Meissner \\(1868–1947\\). Harrassowitz, Wiesbaden, {cite:year}`AHw`.\n",
    "  \n",
    "- **CAD**  \n",
    "  \n",
    "  A. Leo Oppenheim, Erica Reiner, and Martha T. Roth, editors. The Assyrian Dictionary of the Oriental Institute of the University of Chicago. The Oriental Institute of the University of Chicago, Glückstadt-Chicago, {cite:year}`CAD`.\n",
    "\n",
    "- **CDA**  \n",
    "  \n",
    "  Jeremy Black, Andrew George, and Nicholas Postgate, editors. A concise dictionary of Akkadian. Number 5 in SANTAG. Harrassowitz, Wiesbaden, 2., corr. printing edition, {cite:year}`CDA`.\n",
    "\n",
    "## Abreviations for sign lists\n",
    "- **Labat**\n",
    "  \n",
    "  René Labat. *Manuel d'épigraphie akkadienne*. Geuthner, Paris, nouv. éd., rev. et corr., 5. ed. edition, 1976.ABAT {cite:year}`labat`.  \n",
    "\n",
    "- **MZL**\n",
    "  \n",
    "  Rykle Borger. *Mesopotamisches Zeichenlexikon*. Number 305 in Alter Orient und Altes Testament. Ugarit-Verlag, Münster, 2., revidierte und aktualisierte auflage edition, {cite:year}`MZL`.\n",
    "\n",
    "## Other Abbreviations\n",
    "\n",
    "**abs.** absolute; **acc.** accusative; **adj.** adjective, adjectival; **adv.** adverb, adverbial; **Akk.** Akkadian; App. Appendix; **bnd.** bound (form); **c** common (gender); **C** (any) consonant; **ca.** circa (about); **cf.** compare; **conj.** conjunction; **dat.** dative; **denom.** denominative; **det.** determinative; **DN** divine name; **du.** dual; **Dur.** Durative; **esp.** especially; **ext.** extispicy; **f.**, **fem.** feminine; **fp** feminine plural; **fs** feminine singular; **gen.** genitive; **GN** geographical name; **Im(p)v.** Imperative; **indef.** indefinite; **Inf(in).** Infinitive; **interrog.** interrogative; **intr.** intransitive; **LB** Late Babylonian; **lex.** lexical; **log.** logogram, logographic; **lw.** loanword; **m** masculine; **MA** Middle Assyrian; **masc.** masculine; **MB** Middle Babylonian; **MN** month name; **mp** masculine plural; **ms** masculine singular; **n.** noun; **NA** Neo-Assyrian; **NB** Neo-Babylonian; **neg.** negation, negative; **nom.** nominative; **OA** Old Assyrian; **OAkk** Old Akkadian; **OB** Old Babylonian; **obl.** oblique (case); **obv.** obverse; **p.** page, plural; **Parad.** Paradigm; **pass.** passive; **Perf.** Perfect; **pl.** plural; **PN** personal name; **Prec.** Precative; **Prep.** preposition; **Pret.** Preterite; **Prohib.** Prohibitive; **pron.** pronoun; **Ptcpl.** Participle; **r.** reverse; **rel.** relative (pron., adj.); **rev.** reverse; **RN** royal name; **s.** singular; **SB** Standard Babylonian; **sf.** suffix(al); **sg.** singular; **so.** someone; **sth.** something; **suff.**. suffix(al); **Sum.** Sumerian; **syl.** syllable, syllabic; **tr.** transitive; **V** (any) vowel; **v., vbl.** verb; **Vent.** Ventive; **Vet.** Vetitive; ***x*** illegible sign; **1** first person; **2** second person; **3** third person; **>** becomes, goes to; **<** develops, comes from; **\\*** reconstructed/unattested form; **\\*\\*** ungrammatical form.\n",
    "\n",
    "\n"
   ]
  }
 ],
 "metadata": {
  "kernelspec": {
   "display_name": "Python 3.10.0 64-bit",
   "language": "python",
   "name": "python3"
  },
  "language_info": {
   "codemirror_mode": {
    "name": "ipython",
    "version": 3
   },
   "file_extension": ".py",
   "mimetype": "text/x-python",
   "name": "python",
   "nbconvert_exporter": "python",
   "pygments_lexer": "ipython3",
   "version": "3.8.8"
  },
  "vscode": {
   "interpreter": {
    "hash": "5c26deda390e14352809ff5e3846854a2e41da099b7523d3f7fcda45a1663734"
   }
  }
 },
 "nbformat": 4,
 "nbformat_minor": 2
}