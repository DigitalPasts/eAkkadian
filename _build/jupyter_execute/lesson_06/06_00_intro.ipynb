{
 "cells": [
  {
   "attachments": {},
   "cell_type": "markdown",
   "metadata": {},
   "source": [
    "# L6.0: Introduction\n",
    "In this chapter we will finish the finite verbal forms with the [Imperative](06_02_imperative). Afterward we will learn about the [Stative](06_01_stative). We will finish this chapter with the modals verbals forms [Precative](06_03_precative), [Vetitive](06_04_vetitive) and [Prohibitive](06_05_prohibitive).\n",
    "\n",
    "- L6.1. [Stative](06_01_stative)\n",
    "- L6.2: [Imperative](06_02_imperative) \n",
    "- L6.3. [Precative](06_03_precative)\n",
    "- L6.4. [Vetitive](06_04_vetitive)\n",
    "- L6.5. [Prohibitive](06_05_prohibitive)\n",
    "- L6.6. [Exercises](06_06_exercises)\n",
    "- L6.7. [Vocabulary](06_07_vocabulary)\n",
    "- L6.8. [Assignment](06_08_assignment)"
   ]
  }
 ],
 "metadata": {
  "kernelspec": {
   "display_name": "Python 3.10.0 64-bit",
   "language": "python",
   "name": "python3"
  },
  "language_info": {
   "codemirror_mode": {
    "name": "ipython",
    "version": 3
   },
   "file_extension": ".py",
   "mimetype": "text/x-python",
   "name": "python",
   "nbconvert_exporter": "python",
   "pygments_lexer": "ipython3",
   "version": "3.8.8"
  },
  "vscode": {
   "interpreter": {
    "hash": "5c26deda390e14352809ff5e3846854a2e41da099b7523d3f7fcda45a1663734"
   }
  }
 },
 "nbformat": 4,
 "nbformat_minor": 2
}