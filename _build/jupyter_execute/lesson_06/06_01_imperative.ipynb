{
 "cells": [
  {
   "attachments": {},
   "cell_type": "markdown",
   "metadata": {},
   "source": [
    "```{margin}\n",
    "GoA 16.1\n",
    "```\n",
    "\n",
    "# L6.1: Imperative\n",
    "The imperative is the form for commands. \n",
    "\n",
    "- It occurs only in the second person. \n",
    "- The form of the imperative is essentially the preterite without a prefix. \n",
    "- Thus the theme vowel is always that of the preterite:\n",
    "\n",
    "```{admonition} Example\n",
    "- Preterite: *iprus* \"he divided\"\n",
    "- Imperative: *purus* \"divide!\"\n",
    "```\n",
    "\n",
    "- The ending for the feminine singular is *-ī*.\n",
    "- The ending for the plural communis *-ā*.\n",
    "- When endings are added, the unstressed vowel of the second syllable is elided;\n",
    "\n",
    "```{admonition} Example\n",
    "- 2. masc. sing.: *purus* \"divide!\"\n",
    "- 2. fem. sing.: *pursī* \"divide!\"\n",
    "- pl. com.: *pursā* \"divide!\"\n",
    "```\n",
    "\n",
    "- The only exception to this rule are the following five verbs of the *a*-class verbs:\n",
    "\n",
    "```{admonition} Exceptions\n",
    "- *lamādum* \"to learn\" → *limad*\n",
    "- *palāhum* \"to fear, worship\" → *pilah*\n",
    "- *pašāhum* \"to refresh oneself\" → *pisah*\n",
    "- *rakābum* \"to ride, mount* → *rikab*\n",
    "- *takālum* \"to trust\" → *tikal*\n",
    "```\n",
    "\n",
    "## Conjugation of the Imperative\n",
    "|         | 2ms      | 2fs      | pl\\.com\\. |\n",
    "| -----   | -------  | -------- | ------- |\n",
    "| G *a-u* | *purus*  | *pursī*  | *pursā* | \n",
    "| G *i*   | *širiq*  | *širqī*  | *širqā* |\n",
    "| G *a*   | *ṣabat*  | *ṣabtī*  | *ṣabtā*\n",
    "| G *u*   | *muqut*  | *muqtī*  | *muqtā*\n",
    "\n",
    "\n",
    "\n"
   ]
  }
 ],
 "metadata": {
  "kernelspec": {
   "display_name": "Python 3.10.0 64-bit",
   "language": "python",
   "name": "python3"
  },
  "language_info": {
   "codemirror_mode": {
    "name": "ipython",
    "version": 3
   },
   "file_extension": ".py",
   "mimetype": "text/x-python",
   "name": "python",
   "nbconvert_exporter": "python",
   "pygments_lexer": "ipython3",
   "version": "3.8.8"
  },
  "vscode": {
   "interpreter": {
    "hash": "5c26deda390e14352809ff5e3846854a2e41da099b7523d3f7fcda45a1663734"
   }
  }
 },
 "nbformat": 4,
 "nbformat_minor": 2
}