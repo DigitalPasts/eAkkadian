{
 "cells": [
  {
   "attachments": {},
   "cell_type": "markdown",
   "metadata": {},
   "source": [
    "# L6.7: Vocabulary\n",
    "\n",
    "## Verbs\n",
    "| Verbs          | Dur., Pret. Root         |  Translation |\n",
    "| ------------   | ----------------         | ------------ |\n",
    "| *mahārum* (a/u)| *imahhar*, *imhur*, **mhr* | empfangen, entgegentreten\n",
    "| *sahārum* (u)  | *isahhur*, *ishur*, **shr* | to go around, turn; search; tarry\n",
    "\n",
    "## Nouns\n",
    "| Nouns          | Status Constructus | Translation |\n",
    "| ------------   | ------------------ | ----------- |\n",
    "| *Adad*         |                    | ᵈIŠKUR \"weather god\" \n",
    "| *Ellil*        |                    | ᵈEN.LIL₂ \"lord of the gods\"\n",
    "| *manûm*        |                    | mina (weight measure, ca. 1 pound)\n",
    "| *Marduk*       |                    | ᵈAMAR.UTU  Babylons' city god, from the end of the 2nd millennium he is the highest god\n",
    "| *mišlum*       |                    | half; middle, centre\n",
    "| *puhrum*       |                    | assembly\n",
    "| *qinnāz alpim* |                    | bull pizzle\n",
    "| *sattukkum*    |                    | [<sum.  sa₂-du₁₁.g] regular delivery, regular offering\n",
    "| *Šamaš*        |                    | ᵈUTU \"sun god\"\n",
    "| *šīmum*        |                    | purchase (price); goods for commerce\n",
    "| *šūši*         |                    | 60\n",
    "| *urrum*        |                    | daytime, day\n",
    "| *mūšam u urram*                     | day and night, continuously (accusative of time)\n",
    "\n",
    "## Others\n",
    "| Word           | Translation |\n",
    "| ------------   | ----------- |\n",
    "| *mala*         | Prep. \"as much as, equivalent to\"\n",
    "| *mimmû* [< **mimmāʾū*] | all, anything (of)\" possessions; \"all things\" (+ gen. / pron.suff.)\n",
    "\n",
    "\n",
    "\n",
    "\n",
    "\n",
    "\n",
    "\n",
    "\n"
   ]
  }
 ],
 "metadata": {
  "kernelspec": {
   "display_name": "Python 3.10.0 64-bit",
   "language": "python",
   "name": "python3"
  },
  "language_info": {
   "codemirror_mode": {
    "name": "ipython",
    "version": 3
   },
   "file_extension": ".py",
   "mimetype": "text/x-python",
   "name": "python",
   "nbconvert_exporter": "python",
   "pygments_lexer": "ipython3",
   "version": "3.8.8"
  },
  "vscode": {
   "interpreter": {
    "hash": "5c26deda390e14352809ff5e3846854a2e41da099b7523d3f7fcda45a1663734"
   }
  }
 },
 "nbformat": 4,
 "nbformat_minor": 2
}