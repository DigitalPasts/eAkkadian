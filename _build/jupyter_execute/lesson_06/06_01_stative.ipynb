{
 "cells": [
  {
   "attachments": {},
   "cell_type": "markdown",
   "metadata": {},
   "source": [
    "```{margin}\n",
    "GoA 33.2\n",
    "```\n",
    "\n",
    "# L6.1: Stative\n",
    "It is still a matter of discussion if the stative is a verbal or a nominal form. It seems to have developped from a nominal sentence but at the same time it possesses personal endings and can have objects like a verb. Thus in this coursebook it will be treated as a category on its own between verbs and nouns. \n",
    "\n",
    "- The stative is used to describe timeless states in constrast to the tenses, that reproduce dynamic actions, events, processes, etc.\n",
    "\n",
    "```{admonition} Example\n",
    "Stative: *ṭāb* \"it is good\"\n",
    "Preterite: *iṭīb* \"he became good\"\n",
    "```\n",
    "\n",
    "## Endings of the Stative\n",
    "|         | Independent Pronouns   | Stative without *e*-Coloration    | Stative without *e*-Coloration |\n",
    "|-------- | ----------------------- |---------------------------------  | ------------------------------ | \n",
    "| 3m      | *šū*                    | -ø                                | -ø \n",
    "| 3f      | *šī*                    | *-at*                             | *-et*                             \n",
    "| 2m      | *attā*                  | *-āta*                            | *-ēta*                           \n",
    "| 2f      | *atti*                  | *-āti*                            | *-ēti*                            \n",
    "| 1c      | *anāku*                 | *-āku*                            | *-ēku*                              \n",
    "| 3m      | *šunu*                  | *-ū*                              | *-ū*                               \n",
    "| 3f      | *šina*                  | *-ā*                              | *-ā*                              \n",
    "| 2m      | *attunu*                | *-ātunu*                          | *-ētunu*                          \n",
    "| 2f      | *attina*                | *-ātina*                          | *-ētina*                          \n",
    "| 1c      | *nīnu*                  | *-ānu*                            | *-ēnu*                          \n",
    "\n",
    "## Stative forms\n",
    "The stative can be build from a verbal adjective and nouns:\n",
    "\n",
    "### Stative from a Verb\n",
    "The ending of the stative are added to the verbal adjective:\n",
    "\n",
    "|         | Verbaladjective | Ending    | Stative   | Translation   |\n",
    "|-------- | --------------- |---------  | -------   | -----------   |\n",
    "| 3m      | *paris*         | -ø        | *damiq*   | He is good    |\n",
    "| 3f      | *paris*         | *-at*     | *damqat*  | She is good   |                            \n",
    "| 2m      | *paris*         | *-āta*    | *damqāta* | You (masc.) are good  |                           \n",
    "| 2f      | *paris*         | *-āti*    | *damqāti* | You (fem.) are good   |                           \n",
    "| 1c      | *paris*         | *-āku*    | *damqāku* | I am good     |                              \n",
    "| 3m      | *paris*         | *-ū*      | *damqū*   | They (masc.) are good |                               \n",
    "| 3f      | *paris*         | *-ā*      | *damqā*   | They (fem.) are good  |                              \n",
    "| 2m      | *paris*         | *-ātunu*  | *damqātunu* | You (masc.) are good |                          \n",
    "| 2f      | *paris*         | *-ātina*  | *damqātina* | You (fem.) are good |                          \n",
    "| 1c      | *paris*         | *-ānu*    | *damqānu* | We are good   |     \n",
    "\n",
    "### Meaning\n",
    "The meaning This applies for state verbal roots as well as for fientic ones. In the latter the stative describes a states that result from the verb's action:  \n",
    "\n",
    "```{admonition} Example\n",
    "Infinitive: *parāsu* \"to divide\"\n",
    "Stative: *paris* \"it is divided\"\n",
    "```\n"
   ]
  }
 ],
 "metadata": {
  "kernelspec": {
   "display_name": "Python 3.10.0 64-bit",
   "language": "python",
   "name": "python3"
  },
  "language_info": {
   "codemirror_mode": {
    "name": "ipython",
    "version": 3
   },
   "file_extension": ".py",
   "mimetype": "text/x-python",
   "name": "python",
   "nbconvert_exporter": "python",
   "pygments_lexer": "ipython3",
   "version": "3.8.8"
  },
  "vscode": {
   "interpreter": {
    "hash": "5c26deda390e14352809ff5e3846854a2e41da099b7523d3f7fcda45a1663734"
   }
  }
 },
 "nbformat": 4,
 "nbformat_minor": 2
}