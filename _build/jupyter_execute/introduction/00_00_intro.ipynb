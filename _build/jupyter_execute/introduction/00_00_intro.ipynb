{
 "cells": [
  {
   "cell_type": "markdown",
   "metadata": {},
   "source": [
    "# Introduction\n",
    "This section introduces the Akkadian language, its history and phoneme inventory. It describes as well the cuneiform script, that is intrinsically attached to Akkadian. Lastly it shows the word class classification that we will follow in this course.\n",
    "\n",
    "**What is Akkadian?**\n",
    "Akkadian is due to his geographical and chronological distrbution one of most important languages in the Ancient Near East. Its written tradition is very long as well. \n",
    "\n",
    "- Mesopotamia - definition\n",
    "- Akkadian - where the names comes from\n",
    "- Assyrian Babylonians\n",
    "- Arameans, Hebrews, Greeks\n",
    "- Great epic: Gilgamesh, Enuma elish\n",
    "- Great monuments: Ninive \n",
    "- Old Babylonian with neoassyirian script\n",
    "\n",
    "- L0.1: [Akkadian as Semitic Language](akk-sem)\n",
    "- L0.2: [History and Periodisation](hist-per)\n",
    "- L0.3: [Akkadische Phoneme](akk-phon)\n",
    "- L0.4: [Cuneiform Script](cuneif)\n",
    "- L0.5: [Word Class](word-class)\n"
   ]
  }
 ],
 "metadata": {
  "kernelspec": {
   "display_name": "Python 3.10.0 64-bit",
   "language": "python",
   "name": "python3"
  },
  "language_info": {
   "codemirror_mode": {
    "name": "ipython",
    "version": 3
   },
   "file_extension": ".py",
   "mimetype": "text/x-python",
   "name": "python",
   "nbconvert_exporter": "python",
   "pygments_lexer": "ipython3",
   "version": "3.8.8"
  },
  "vscode": {
   "interpreter": {
    "hash": "5c26deda390e14352809ff5e3846854a2e41da099b7523d3f7fcda45a1663734"
   }
  }
 },
 "nbformat": 4,
 "nbformat_minor": 2
}