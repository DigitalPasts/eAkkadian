{
 "cells": [
  {
   "cell_type": "markdown",
   "metadata": {},
   "source": [
    "(hist-per)=\n",
    "```{margin} Grammar references\n",
    "GoA xxiii-xxv\n",
    "```\n",
    "# L0.2: History and Periodisation\n",
    "The earliest attestations consist of personal names in Sumerian documents from ca. 2600 BCE. The firsts documents written in Akkadian  dates from ca. 2350 BCE and the last from 75 CE (Kouwenberg {cite:year}`kouwenberg_akkadian_2010`, 10). Probably around the middle of the first millenium it was already extinct as a spoken language.\n",
    "\n",
    "The native designation of the language was *akkadû* i.e. *akkadītu* “Akkadian”. It is also used to refer to its dialect like \"Babylonian\" or \"Assyrian\". The name derives from the city of the empire's capital [Akkad](https://en.wikipedia.org/wiki/Akkad_(city)) (2400-2200 BCE), which is situated near to [Samarra](https://goo.gl/maps/6Acv17T7a1Mb2qF69) (Sommerfeld {cite:year}`sommerfeld_old_2021`, 514). \n",
    "\n",
    "`````{admonition} Did you know? 🤓 \n",
    ":class: tip\n",
    "In the begining of the Assyriology it was assumed that the language was Assyrian. That is why this discipline is until today known as \"Assyriology.\"\n",
    "`````\n",
    "\n",
    "The Akkadian language has three dialects: Old Akkadian, Babylonian, Assyrian and the so called **Standard Babylonian**. The conventional periodisation for the Akkadian dilaects is as follows (Hasselbach-Andee {cite:year}`hasselbach-andee_classification_2021`, 137):\n",
    "\n",
    "| Period              | Old Akkdian  | Babylonian        | Assyrian |\n",
    "| --------            | --------     | --------          |--------  |\n",
    "| ca. 2600-2112 BCE   | Old Akkadian |                   |          |\n",
    "|2112 – ca. 2000 BCE  |              | Early Babylonian  |\n",
    "| ca. 2000–1500 BCE   |              | Old Babylonian    | Old Assyrian |\n",
    "| ca. 1500–1000 BCE   |              | Middle Babylonian | Middle Assyrian |\n",
    "| ca. 1000–600 BCE    |              | Neo-Babylonian    | Neo-Assyrian |\n",
    "| ca. 600 BCE–100 BCE |              | Late Babylonian   |\n",
    "\n",
    "The **Old Akkadian** is the name for the cuneiform documents written in the East Semitic dialects from the time the cuneiform script was invented until the second millenium. These documents are more limited in comparison to the amount of documents written in the following millennia.\n",
    "\n",
    "The **Babylonian** dialect is named after the city of Babylon. It was spoken in the south of Mesopotamia, but attestations of its use are be found in northern Mesopotamia, Elam, Syria, Israel, etc. It is the best attested dialect regarding the number of texts. The Old Babylonian stage is normally used as reference language in introductory textbooks (the same in this online coursebook) and comparative semitic studies.\n",
    "\n",
    "The **Assyrian** dialect is named after the city of Assur. Is was spoken in the North of Mesopotamia and the western bank of the Tigris. This dialect is also well attested.\n",
    "\n",
    "The **Standard Babylonian** is a scientific and literary variety that appears after the Old Babylonian period and tries to emulate it. It was widely used in and outside Mesopotamia.\n",
    "\n",
    "```{note} \n",
    "Although the name \"Standard Babylonian\" is stablished, its use is still a matter of debate. In the German literature it is known as \"jungbabylonisch\". See Kouwenberg {cite:year}`kouwenberg_akkadian_2010`, 16 and Hess {cite:year}`hess_standard_2020`.\n",
    "``` \n",
    "\n",
    "\n"
   ]
  }
 ],
 "metadata": {
  "kernelspec": {
   "display_name": "Python 3.10.0 64-bit",
   "language": "python",
   "name": "python3"
  },
  "language_info": {
   "codemirror_mode": {
    "name": "ipython",
    "version": 3
   },
   "file_extension": ".py",
   "mimetype": "text/x-python",
   "name": "python",
   "nbconvert_exporter": "python",
   "pygments_lexer": "ipython3",
   "version": "3.8.8"
  },
  "vscode": {
   "interpreter": {
    "hash": "5c26deda390e14352809ff5e3846854a2e41da099b7523d3f7fcda45a1663734"
   }
  }
 },
 "nbformat": 4,
 "nbformat_minor": 2
}