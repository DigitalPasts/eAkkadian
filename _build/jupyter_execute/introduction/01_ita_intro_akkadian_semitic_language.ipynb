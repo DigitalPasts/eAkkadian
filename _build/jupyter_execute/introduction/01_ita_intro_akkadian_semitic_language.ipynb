{
 "cells": [
  {
   "cell_type": "markdown",
   "metadata": {},
   "source": [
    "# Akkadian as a Semitic Language\n",
    "Akkadian is the oldest known Semitic language and only after Sumerian the second oldest language in the Ancient Near East. It belongs to the east branch together with Eblaite. By contrast the west brach has three main subgroups central semitic, South Arabian and Ehtiopian, in which modern Arabic, Aramaic and Hebrew are located.\n",
    "\n",
    "![Fig. 1 Genetic classification of the Semitic languages. Rebecca Hasselbach-Andee (2021), p. 135](https://i.imgur.com/UrBXdwX.png)\n",
    "\n",
    "It is still a matter of debate if Eblaite has to be considered as a language on its own or a dialect of an East Semitic laguage that comprises also Akkadian. See AG xxi-xxiii; ABG §1."
   ]
  }
 ],
 "metadata": {
  "kernelspec": {
   "display_name": "Python 3",
   "language": "python",
   "name": "python3"
  },
  "language_info": {
   "codemirror_mode": {
    "name": "ipython",
    "version": 3
   },
   "file_extension": ".py",
   "mimetype": "text/x-python",
   "name": "python",
   "nbconvert_exporter": "python",
   "pygments_lexer": "ipython3",
   "version": "3.8.8"
  },
  "vscode": {
   "interpreter": {
    "hash": "5c26deda390e14352809ff5e3846854a2e41da099b7523d3f7fcda45a1663734"
   }
  }
 },
 "nbformat": 4,
 "nbformat_minor": 2
}