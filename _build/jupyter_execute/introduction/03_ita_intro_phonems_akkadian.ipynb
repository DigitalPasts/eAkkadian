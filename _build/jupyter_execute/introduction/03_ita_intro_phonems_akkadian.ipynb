{
 "cells": [
  {
   "cell_type": "markdown",
   "metadata": {},
   "source": [
    "# Phonems in Akkadian\n",
    "Akkadian is a reconstructed language, so it is impossible to determine how phonemes were pronounced exactly. In this sense, pronunciation is a scholar’s convention derived from other Semitic languages, cuneiform orthographie and transliteration of Akkadian into other writing systems.\n",
    "\n",
    "## Vowels\n",
    "The vowels in Akkadian are: \n",
    "\n",
    "| Short Vowels| Long Vowels |\n",
    "| -------- | -------- |\n",
    "| a        | ā/â |\n",
    "| e        | ē/ê |\n",
    "| i        | ī/î |\n",
    "| u        | ū/û |\n",
    "\n",
    "It is possible that the vowel \"o\" existed but it was not represented in the script. Vowels can be short or long. The *macron* designates a structural lenght or lenght that originates from the [monophthongization](https://en.wikipedia.org/wiki/Monophthongization) of the diphthongs \\*/aw/ and \\*/ay/. Long vowels with the circumphlex *â* originate from the contraction of two neighbouring vowels.\n",
    "\n",
    "## Consonants\n",
    "The consonants in Akkadian are:\n",
    "\n",
    "| Phonem   | [[IPA]](https://en.wikipedia.org/wiki/IPA_number) reconstructed articulation | Hebrew equivalent |\n",
    "| -------- | ------------------------- | ------------- |\n",
    "| /*ʾ*/    | [ʔ] [Glottal stop](https://en.wikipedia.org/wiki/Glottal_stop) | א\n",
    "| /*b*/    | [b] [Voiced bilabial plosive](https://en.wikipedia.org/wiki/Voiced_bilabial_plosive) | ב\n",
    "| /*g*/    | [g] [Voiced velar plosive](https://en.wikipedia.org/wiki/Voiced_velar_plosive) | ג\n",
    "| /*d*/    | [d] [Voiced dental plosive](https://en.wikipedia.org/wiki/Voiced_dental_and_alveolar_plosives) | ד\n",
    "| /*w*/    | [β̞ ] [Voiced bilabial fricative](https://en.wikipedia.org/wiki/Voiced_bilabial_fricative) | ו \n",
    "| /*z*/    | [ð] [Voiced dental fricative](https://en.wikipedia.org/wiki/Voiced_dental_fricative) | ז   \n",
    "| /*ḫ*/    | [x] [Voiceless velar fricative](https://en.wikipedia.org/wiki/Voiceless_velar_fricative) | ח\n",
    "| /*ṭ*/    | [tʼ] [dental ejective stops](https://en.wikipedia.org/wiki/Dental_and_alveolar_ejective_stops) | ט\n",
    "| /*j*/ or /*y*/ | [j] [Voiced palatal approximant](https://en.wikipedia.org/wiki/Voiced_palatal_approximant) | י  \n",
    "| /*k*/    | [k] [Voiceless velar plosive](https://en.wikipedia.org/wiki/Voiceless_velar_plosive) | כ\n",
    "| /*l*/    | [l] [voiced alveolar lateral](https://en.wikipedia.org/wiki/Voiced_dental,_alveolar_and_postalveolar_lateral_approximants) | ל\n",
    "| /*m*/    | [m] [Voiced bilabial nasal](https://en.wikipedia.org/wiki/Voiced_bilabial_nasal) | מ \n",
    "| /*n*/    | [n] [voiced dental nasal](https://en.wikipedia.org/wiki/Voiced_dental,_alveolar_and_postalveolar_nasals) |נ\n",
    "| /*s*/    | [s] [voiceless alveolar fricatives](https://en.wikipedia.org/wiki/Voiceless_alveolar_fricative) | ס\n",
    "| /*p*/    | [p] [Voiceless bilabial plosive](https://en.wikipedia.org/wiki/Voiceless_bilabial_plosive) |פ  \n",
    "| /*ṣ*/    | [θʼ] [Dental ejective fricative](https://en.wikipedia.org/wiki/Dental_ejective_fricative) | צ\n",
    "| /*q*/    | [Velar ejective stop](https://en.wikipedia.org/wiki/Velar_ejective_stop) | ק\n",
    "| /*r*/    | [r] [Voiced alveolar trill](https://en.wikipedia.org/wiki/Voiced_dental,_alveolar_and_postalveolar_trills) | ר\n",
    "| /*š*/    | [ʃ] [voiceless palato-alveolar fricative](https://en.wikipedia.org/wiki/Voiceless_postalveolar_fricative) |ש\n",
    "| /*t*/    | [t] [Voiceless dental plosives](https://en.wikipedia.org/wiki/Voiceless_dental_and_alveolar_plosives) |ת\n",
    "\n",
    "The length in consonants is written with [gemination](https://en.wikipedia.org/wiki/Gemination), e.g.: *ša-ar-rum* for *šarrum* \"king\"."
   ]
  }
 ],
 "metadata": {
  "kernelspec": {
   "display_name": "Python 3.10.0 64-bit",
   "language": "python",
   "name": "python3"
  },
  "language_info": {
   "codemirror_mode": {
    "name": "ipython",
    "version": 3
   },
   "file_extension": ".py",
   "mimetype": "text/x-python",
   "name": "python",
   "nbconvert_exporter": "python",
   "pygments_lexer": "ipython3",
   "version": "3.8.8"
  },
  "vscode": {
   "interpreter": {
    "hash": "5c26deda390e14352809ff5e3846854a2e41da099b7523d3f7fcda45a1663734"
   }
  }
 },
 "nbformat": 4,
 "nbformat_minor": 2
}