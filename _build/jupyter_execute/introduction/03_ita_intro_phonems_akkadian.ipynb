{
 "cells": [
  {
   "cell_type": "markdown",
   "metadata": {},
   "source": [
    "# Phonems in Akkadian\n",
    "Akkadian is a reconstructed language as such it is imposible to determine exactly how the phonems were pronounced. Thus pronunciation is a scholars' convention based on other semitic languages.\n",
    "\n",
    "## Vowels\n",
    "There are four vowels. Each one of them can be short or long:\n",
    "\n",
    "| Short Vowels| Long Vowels |\n",
    "| -------- | -------- |\n",
    "| a        | ā/â |\n",
    "| e        | ē/ê |\n",
    "| i        | ī/î |\n",
    "| u        | ū/û |\n",
    "\n",
    "The differencen between ā and â is the origin. While the long vowels with *macron* ā have many orignis, the long vowels with the cimcumplex â originate from the contraction of two vowels.\n",
    "\n",
    "> it is possible that the vowel \"o\" existed but in the script it was the same as \"u\".\n",
    "\n",
    "## Consonants\n",
    "| Consonants|\n",
    "| -------- |\n",
    "| ʾ\n",
    "| b       \n",
    "| d       \n",
    "| g        \n",
    "| ḫ          \n",
    "| j/y     \n",
    "| k\n",
    "| l\n",
    "|m\n",
    "|n\n",
    "|p\n",
    "|q\n",
    "|r\n",
    "|s\n",
    "|ṣ\n",
    "|š\n",
    "|t\n",
    "|ṭ\n",
    "|w\n",
    "|z\n",
    "\n",
    "The length in consonants is written als double consonant."
   ]
  }
 ],
 "metadata": {
  "kernelspec": {
   "display_name": "Python 3.10.0 64-bit",
   "language": "python",
   "name": "python3"
  },
  "language_info": {
   "codemirror_mode": {
    "name": "ipython",
    "version": 3
   },
   "file_extension": ".py",
   "mimetype": "text/x-python",
   "name": "python",
   "nbconvert_exporter": "python",
   "pygments_lexer": "ipython3",
   "version": "3.8.8"
  },
  "vscode": {
   "interpreter": {
    "hash": "5c26deda390e14352809ff5e3846854a2e41da099b7523d3f7fcda45a1663734"
   }
  }
 },
 "nbformat": 4,
 "nbformat_minor": 2
}