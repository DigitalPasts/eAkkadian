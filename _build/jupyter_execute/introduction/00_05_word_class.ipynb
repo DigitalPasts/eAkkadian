{
 "cells": [
  {
   "cell_type": "markdown",
   "metadata": {},
   "source": [
    "# L0.5: Word Class (Parts of Speech) \n",
    "We will follow the classical classification according to [part of speech](https://en.wikipedia.org/wiki/Part_of_speech) (word classes) as modern scholars in Assyriology follow this classification as well. In Akkadian we classify the following word classes:\n",
    "\n",
    "- **Pronouns** \n",
    "  - Part 1: ↑[L1.6](C:\\Users\\luiss\\introduction_to_akkadian\\lesson_01\\01_06_pronouns_01.ipynb)\n",
    "  - Part 2: ↑\n",
    "  - Part 3: ↑\n",
    "- **Nouns** \n",
    "  - Status ↑[L1.1](noun-gender)\n",
    "    - *Status Rectus*: ↑[L1.1](st-rt)\n",
    "    - *Status Constructus*: ↑[L1.1](st-ct)\n",
    "    - *Status Absolutus*: ↑[L1.1](st-ab)\n",
    "  - Grammatical Gender ↑[L1.2](noun-gender)\n",
    "  - Grammatical Case: ↑[L1.3](casus)\n",
    "  - Grammatical Number: ↑[L1.4](numerus)\n",
    "- **Adjectives**\n",
    "  - Grammatical Gender ↑[L1.2](adj-gender)\n",
    "  - Grammatical Case: ↑[L1.3](casus)\n",
    "  - Grammatical Number: ↑[L1.4](numerus)\n",
    "- **Numerals**\n",
    "- **Verbs** \n",
    "- **Adverbs** \n",
    "- **Prepositions**\n",
    "- **Conjunction**\n",
    "- **Subjunctions**\n",
    "- **Negation**\n",
    "- **Particles**\n",
    "- **Interjections**\n",
    "\n",
    "```{note} \n",
    "In Akkadian there is no definite article. The definiteness is determined according to the context.\n",
    "``` "
   ]
  }
 ],
 "metadata": {
  "kernelspec": {
   "display_name": "Python 3.10.0 64-bit",
   "language": "python",
   "name": "python3"
  },
  "language_info": {
   "codemirror_mode": {
    "name": "ipython",
    "version": 3
   },
   "file_extension": ".py",
   "mimetype": "text/x-python",
   "name": "python",
   "nbconvert_exporter": "python",
   "pygments_lexer": "ipython3",
   "version": "3.8.8"
  },
  "vscode": {
   "interpreter": {
    "hash": "5c26deda390e14352809ff5e3846854a2e41da099b7523d3f7fcda45a1663734"
   }
  }
 },
 "nbformat": 4,
 "nbformat_minor": 2
}