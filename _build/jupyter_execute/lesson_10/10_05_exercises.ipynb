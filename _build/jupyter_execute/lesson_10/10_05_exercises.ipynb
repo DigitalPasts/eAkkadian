{
 "cells": [
  {
   "attachments": {},
   "cell_type": "markdown",
   "metadata": {},
   "source": [
    "# L5.6: Exercises\n",
    "\n",
    "## A. Normalize and Translate the following letter:\n",
    "1. *a-na* ᵈAMAR.UTU\n",
    "2. *be-li-im ra-bi-im*\n",
    "3. *na-di-in* HE₂.GAL₂\n",
    "4. *a-na i₃-li₂*\n",
    "5.* be-el* E₂.SAG.IL₂\n",
    "6. *u₃* E₂.ZI.DA\n",
    "7. *be-li-šu*\n",
    "8. *ha-am-mu-ra-bi*\n",
    "9. *na-bi-u₃* AN-*nim*\n",
    "10. [*še*]*-mu* ᵈEN.LIL₂\n",
    "11. [*mi*]*-gi₄-ir*\n",
    "12. ᵈUTU\n",
    "13. SIPA *na-ra-am*\n",
    "14. ᵈAMAR.UTU\n",
    "15. LUGAL *da-num₂*\n",
    "16. LUGAL KALAM *šu-me-ri-im*\n",
    "17. *u₃ ak-ka-dim*\n",
    "18. LUGAL *ki-ib-ra-tim*\n",
    "19. *ar-ba-tim*\n",
    "20. *i₃-nu* ᵈEN.LIL₂\n",
    "21. KALAM *u₃ ni-ši₃*\n",
    "22. *a-na be-li-im*\n",
    "23. *id-di-nu-šum*\n",
    "24. *ṣe-er-ra-si₂-na*\n",
    "25. *a-na qa₂-ti-šu*\n",
    "26. *u-ma-al-li-u₃*\n",
    "27. *a-na* ᵈAMAR.UTU\n",
    "28. DINGIR *ba-ni-šu*\n",
    "29. *in Bar-si₂-pa*<sup>ki</sup>\n",
    "30. URU *na-ra-mi-šu*\n",
    "31. E₂.ZI.DA\n",
    "32. BARAG-*šu* *el-lam*\n",
    "33. *ib-ni-šum*\n",
    "\n",
    "## B. Transliterate, Normalize and Translate the following letter:\n",
    "1. <font size=\"11\">𒀀𒈾𒁁𒉌𒅀</font>\n",
    "2. <font size=\"11\">𒆠𒉈𒈠</font>\n",
    "3. <font size=\"11\">𒌝𒈠𒆠𒅁𒊑𒀭𒁕𒃶</font>\n",
    "4. <font size=\"11\">𒀴𒅗𒀀𒈠</font>\n",
    "5. <font size=\"11\">𒀭𒁕𒃶𒅇𒅀𒀝𒊒𒌒𒂖</font>\n",
    "6. <font size=\"11\">𒊭𒀠𒈬</font>\n",
    "7. <font size=\"11\">𒀀𒈝𒌁𒋡𒆠</font>\n",
    "8. <font size=\"11\">𒅇𒄩𒀠𒍮𒌝𒊭𒅆</font>\n",
    "9. <font size=\"11\">𒊭𒉌𒌓𒀸𒋳𒅀𒀊𒁉𒀭𒁕𒃶</font>\n",
    "10. <font size=\"11\">𒊭𒁁𒉌𒅖𒁍𒊏𒄠</font>\n",
    "11. <font size=\"11\">𒌓𒌝𒁾𒁉𒁁𒉌𒅀</font>\n",
    "12. <font size=\"11\">𒅅𒋗𒁮</font>\n",
    "13. <font size=\"11\">𒋡𒌓𒀀𒈾𒋡𒁴𒌉𒊭𒀀𒌅</font>\n",
    "14. <font size=\"11\">𒀜𒄭𒅈𒁮</font>\n",
    "\n",
    " "
   ]
  }
 ],
 "metadata": {
  "kernelspec": {
   "display_name": "Python 3.10.0 64-bit",
   "language": "python",
   "name": "python3"
  },
  "language_info": {
   "codemirror_mode": {
    "name": "ipython",
    "version": 3
   },
   "file_extension": ".py",
   "mimetype": "text/x-python",
   "name": "python",
   "nbconvert_exporter": "python",
   "pygments_lexer": "ipython3",
   "version": "3.8.8"
  },
  "vscode": {
   "interpreter": {
    "hash": "5c26deda390e14352809ff5e3846854a2e41da099b7523d3f7fcda45a1663734"
   }
  }
 },
 "nbformat": 4,
 "nbformat_minor": 2
}