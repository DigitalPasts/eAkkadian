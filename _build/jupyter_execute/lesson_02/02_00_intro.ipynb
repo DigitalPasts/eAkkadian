{
 "cells": [
  {
   "cell_type": "markdown",
   "metadata": {},
   "source": [
    "# L2.0: Introduction\n",
    "In this chapter we will study the semantic root, the verbal system, finite and non-finite forms, tenses and stems.\n",
    "\n",
    "- L2.1: [The Semantic Root](02_01_semantic-root)\n",
    "- L2.2. [The Verbal System](02_02_verbal-system)\n",
    "- L2.3. [The G-stem](02_03_G-stem)\n",
    "  - Non-Finite Forms\n",
    "    - [Infinitve](G_infin)\n",
    "    - [Participle](G_part)\n",
    "    - [Verbal Adjective](G_verb-adj)\n",
    "- L2.4. [The G Preterite](02_04_G-preterite)\n",
    "- L2.5. [The G Durative](02_05_G-durative)\n",
    "- L2.6. [The G Perfect](02_06_G-perfect)\n",
    "- L2.7. [Exercises](02_07_exercises)\n",
    "- L2.8. [Vocabulary & Signs](02_08_vocab-signs)\n",
    "- L2.9. [Assignment](02_09_assignment)"
   ]
  }
 ],
 "metadata": {
  "kernelspec": {
   "display_name": "Python 3.10.0 64-bit",
   "language": "python",
   "name": "python3"
  },
  "language_info": {
   "codemirror_mode": {
    "name": "ipython",
    "version": 3
   },
   "file_extension": ".py",
   "mimetype": "text/x-python",
   "name": "python",
   "nbconvert_exporter": "python",
   "pygments_lexer": "ipython3",
   "version": "3.8.8"
  },
  "vscode": {
   "interpreter": {
    "hash": "5c26deda390e14352809ff5e3846854a2e41da099b7523d3f7fcda45a1663734"
   }
  }
 },
 "nbformat": 4,
 "nbformat_minor": 2
}