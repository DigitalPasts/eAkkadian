{
 "cells": [
  {
   "attachments": {},
   "cell_type": "markdown",
   "metadata": {},
   "source": [
    "# L2.0: Introduction\n",
    "In this chapter we will study the semantic root, the verbal system, finite and non-finite forms, tenses and stems.\n",
    "\n",
    "- L2.1: [The Verbal System](02_01_verbal-system.ipynb)\n",
    "- L2.2: [The G-stem](02_02_G-stem.ipynb)\n",
    "- L2.3: [The G Preterite](02_03_G-preterite.ipynb)\n",
    "- L2.4: [The G Durative](02_04_G-durative.ipynb)\n",
    "- L2.5: [The G Perfect](02_05_G-perfect.ipynb)\n",
    "- L2.6: [Peculiarities of the Strong Verbs](02_06_peculiarities-strong-verbs.ipynb)\n",
    "- L2.7: [Geminated Verbs](02_07_geminated-verbs.ipynb)\n",
    "- L2.8: [The Simple Sentence](02_08_verbless_sentences.ipynb)\n",
    "- L2.9: [Regular Expressions](02_09_regex.ipynb)\n",
    "- L2.10: [Exercises](02_10_exercises.ipynb)\n",
    "- L2.11: [Vocabulary & Signs](02_11_vocab-signs.ipynb)\n",
    "- L2.12: [Assignment](02_12_assignment.ipynb)"
   ]
  }
 ],
 "metadata": {
  "kernelspec": {
   "display_name": "Python 3.10.0 64-bit",
   "language": "python",
   "name": "python3"
  },
  "language_info": {
   "codemirror_mode": {
    "name": "ipython",
    "version": 3
   },
   "file_extension": ".py",
   "mimetype": "text/x-python",
   "name": "python",
   "nbconvert_exporter": "python",
   "pygments_lexer": "ipython3",
   "version": "3.8.8"
  },
  "vscode": {
   "interpreter": {
    "hash": "5c26deda390e14352809ff5e3846854a2e41da099b7523d3f7fcda45a1663734"
   }
  }
 },
 "nbformat": 4,
 "nbformat_minor": 2
}