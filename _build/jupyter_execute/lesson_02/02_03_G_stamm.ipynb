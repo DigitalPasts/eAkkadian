{
 "cells": [
  {
   "cell_type": "markdown",
   "metadata": {},
   "source": [
    "# G-Stamm\n",
    "The G-Stamm is the base stem.  It has no formative element.\n",
    "\n",
    "```{admonition} Good-to-know\n",
    "The letter **G** comes from the German **G**rundstamm, which means \"base root\"\n",
    "```\n",
    "\n",
    "## Non-finite forms\n",
    "\n",
    "- **Infinitive**. The pattern is *parāsu*. This is the citation form of a verb. That means that all other stems are subsumed after the G-stem\n",
    "  ```{note}\n",
    "  ![Detail of the dictionary in GaO with the entry *labāšu*](../images/GaO_Dictionary_labacum.png)\n",
    "  \n",
    "  In this picture you can see that the other stems are within the entry *labāšu*, which is in the G-Stem.\n",
    "  ```"
   ]
  }
 ],
 "metadata": {
  "kernelspec": {
   "display_name": "Python 3.10.0 64-bit",
   "language": "python",
   "name": "python3"
  },
  "language_info": {
   "codemirror_mode": {
    "name": "ipython",
    "version": 3
   },
   "file_extension": ".py",
   "mimetype": "text/x-python",
   "name": "python",
   "nbconvert_exporter": "python",
   "pygments_lexer": "ipython3",
   "version": "3.8.8"
  },
  "vscode": {
   "interpreter": {
    "hash": "5c26deda390e14352809ff5e3846854a2e41da099b7523d3f7fcda45a1663734"
   }
  }
 },
 "nbformat": 4,
 "nbformat_minor": 2
}