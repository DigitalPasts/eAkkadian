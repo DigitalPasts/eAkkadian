{
 "cells": [
  {
   "cell_type": "markdown",
   "metadata": {},
   "source": [
    "# L2.1: Stems\n",
    "In the Akkadian language, as in all Semitic languages, most words consist of a **root** also called **stem**. A root is a sequence of consonants in which a patter of internal vowels are used to modify it, additionally affixes, consonant doubling can also be employed to modify it, for example:\n",
    "\n",
    "| Verbless Sentence          | Translation           |\n",
    "| -------------------------- | --------------------- |\n",
    "| *Hammurapi šar Babilim*    | Hammurapi is the king of Babilon |\n",
    "| *šarrum gitmālum anāku*    | I am the perfect king |\n",
    "\n",
    ", most of them three consonants. They have an internal vowel pattern \n",
    "- Stems\n",
    "- G-Stem\n",
    "    - Present\n",
    "    - Preterite\n",
    "    - Imperative\n",
    "    - nominal Forms\n",
    "- Adverbs\n",
    "- Conjunctions"
   ]
  }
 ],
 "metadata": {
  "kernelspec": {
   "display_name": "Python 3.10.0 64-bit",
   "language": "python",
   "name": "python3"
  },
  "language_info": {
   "codemirror_mode": {
    "name": "ipython",
    "version": 3
   },
   "file_extension": ".py",
   "mimetype": "text/x-python",
   "name": "python",
   "nbconvert_exporter": "python",
   "pygments_lexer": "ipython3",
   "version": "3.8.8"
  },
  "vscode": {
   "interpreter": {
    "hash": "5c26deda390e14352809ff5e3846854a2e41da099b7523d3f7fcda45a1663734"
   }
  }
 },
 "nbformat": 4,
 "nbformat_minor": 2
}