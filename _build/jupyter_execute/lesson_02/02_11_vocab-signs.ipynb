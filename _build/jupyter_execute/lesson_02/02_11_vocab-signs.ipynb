{
 "cells": [
  {
   "cell_type": "markdown",
   "metadata": {},
   "source": [
    "# L2.11: Vocabulary & Signs\n",
    "\n",
    "## Vocabulary - Verbs\n",
    "| Verbs          | Translation |\n",
    "| ------------   | ----------- |\n",
    "| *balāṭu* (u)  | to live |\n",
    "| *damāqum* (i)  | to be/become good, improve, prosper |\n",
    "| *danānum* (i)  | to be/become strong |\n",
    "| *halāqum* (i)  | to dissappear, go missing, get lost |\n",
    "| *kašādum* (a-u) | to arrive (at a place *ana* or acc.), to reach, achieve, to conquer |\n",
    "| *mahāṣum* (a)  | to strike, to hit, smite |\n",
    "| *maqātum* (a-u) | to fall, fall down, collapse |\n",
    "| *marāṣum* (a)  | to be/become sick, fall ill |\n",
    "| *nakāsu*  (i)  | to cut, fell             |\n",
    "| *paqādum* (i)  | to entrust, care for with *ana*\n",
    "| *ragāmum* (a-u)  | to shout, to prosecute, raise claim |\n",
    "| *rapāšum* (i)  | to be/to become wide, broad |\n",
    "| *ṣabātum* (a)  | to seize, take hold of, arrest |\n",
    "| *šakānum* (a-u) | to place, set, put: to establish, install |\n",
    "| *šarāqum* (i)  | to steal |\n",
    "\n",
    "## Vocabulary - Nouns\n",
    "| Nouns          | Translation |\n",
    "| ------------   | ----------- |\n",
    "| *Akkadûm*      | land of Akkad  |\n",
    "| *ahum*, *ahhū* | brother     |\n",
    "| *aplum*        | heir, son |\n",
    "| *arnum*        | guilt, fault, penalty, sin    |\n",
    "| *ašlum*        | rush, rope  |\n",
    "| *ašrum*        | place, site  |\n",
    "| *awātum*       | word, matter |\n",
    "| *Bēl*          | \"Lord\", byname of the god Marduk |\n",
    "| *dajjānum*     | judge        |\n",
    "| *īnum*         | eye         |\n",
    "| *Marduk*       | Name of the god of Babylon |\n",
    "| *purussûm*     | decision    |\n",
    "| *qātum*        | hand        |\n",
    "| *Sîn*          | name of the moon god  |\n",
    "| *šarrāqum*     | thief       |\n",
    "| *Šumerum*      | land of Sumeria  |\n",
    "| *šumum*        | name        |\n",
    "| *ṭabtum*       | salz        |\n",
    "\n",
    "## Vocabulary - Adjectives\n",
    "| Adjectives     | Translation |\n",
    "| ------------   | ----------- |\n",
    "| *arkum*, fem. *ariktum* | brother  |\n",
    "| *dannum*, fem. *dannatum* | mighty  |\n",
    "| *ṭabtum*, fem. *ṭābtum* | good     |\n",
    "| *kabtum*, fem. *kabittum* | heavy, important |\n",
    "| *ṣehrum*, fem. *sehertum* | small, young     |\n",
    "| *ṣīrum*, fem. *ṣirtum* | exalted, supreme, splendid |\n",
    "\n",
    "\n",
    "## Vocabulary - Prepositions\n",
    "| Prepostitions  | Translation |\n",
    "| ------------   | ----------- |\n",
    "| *aššum*        | because (of) |\n",
    "| *eli*          | on, over, above |\n",
    "\n",
    "## Signs \n",
    "| Sign                      | Sign's Nmae | Phonetic Value |  Logogram |\n",
    "| ------------------------- | ----------- | -------------- | --------- |\n",
    "| <font size=\"11\">𒍢</font>  | ZI₂       |   *ṣi, zi₂*     | \n",
    "| <font size=\"11\">𒅀</font> | IA         |   *ia*          |\n",
    "| <font size=\"11\">𒄿</font>  | I         |    *i*          |\n",
    "| <font size=\"11\">𒁲</font>  | DI        | *di, ṭi*        | SILIM = *šulmum* \"well-being\"\n",
    "| <font size=\"11\">𒆠</font>  | KI        | *ki, qí*        | KI = *ašrum* \"place\"; <sup>ki</sup> = determinative before place names\n",
    "| <font size=\"11\">𒁀</font>  | BA        | *ba*            | \n",
    "| <font size=\"11\">𒍪</font>  | ZU        | *zu, su₂, ṣu₂*  |\n",
    "| <font size=\"11\">𒋢</font>  | SU        | *su*            | KUŠ = *maskum* \"skin\", <sup>kuš</sup> = determinative before leather obejcts.\n",
    "| <font size=\"11\">𒁴</font>  | DIM       | *dim, tim*      |\n",
    "| <font size=\"11\">𒂗</font>  | EN        | *en*,            | EN = *bēlu*; *Bēl* = Name of the god Marduk, written <sup>d</sup>EN\n"
   ]
  }
 ],
 "metadata": {
  "kernelspec": {
   "display_name": "Python 3.10.0 64-bit",
   "language": "python",
   "name": "python3"
  },
  "language_info": {
   "codemirror_mode": {
    "name": "ipython",
    "version": 3
   },
   "file_extension": ".py",
   "mimetype": "text/x-python",
   "name": "python",
   "nbconvert_exporter": "python",
   "pygments_lexer": "ipython3",
   "version": "3.8.8"
  },
  "vscode": {
   "interpreter": {
    "hash": "5c26deda390e14352809ff5e3846854a2e41da099b7523d3f7fcda45a1663734"
   }
  }
 },
 "nbformat": 4,
 "nbformat_minor": 2
}