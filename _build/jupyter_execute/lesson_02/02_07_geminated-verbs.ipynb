{
 "cells": [
  {
   "cell_type": "markdown",
   "metadata": {},
   "source": [
    "# L4.4: Geminated Verbs\n",
    "These verbs have a reduplicated second radical, geminated, and become a triconsonantical root. The Akkadian language has absorved these verbs into the triconsoantical system, so that they behave like strong verbs. \n",
    "\n",
    "```{admonition} Good-to-Know 🤓\n",
    ":class: tip \n",
    "The term *geminated* comes from the latin *geminatio* which means doubling. Remeber the name of the constellation *gemini* \"twins\". These verbs are also known as *mediae geminatae*. \n",
    "```\n",
    "However it is relevant to note that the geminated fientic verbs build a semantic class. They have a durative connotation, they describe actions and processes that consist on a series small similar actions or processes:\n",
    "\n",
    "```{admonition} example \n",
    "- *šakāku* \"pile up\"\n",
    "- *šakāku* \"to line up\"\n",
    "- *zanānu* \"rain\" \n",
    "```"
   ]
  }
 ],
 "metadata": {
  "kernelspec": {
   "display_name": "Python 3.10.0 64-bit",
   "language": "python",
   "name": "python3"
  },
  "language_info": {
   "codemirror_mode": {
    "name": "ipython",
    "version": 3
   },
   "file_extension": ".py",
   "mimetype": "text/x-python",
   "name": "python",
   "nbconvert_exporter": "python",
   "pygments_lexer": "ipython3",
   "version": "3.8.8"
  },
  "vscode": {
   "interpreter": {
    "hash": "5c26deda390e14352809ff5e3846854a2e41da099b7523d3f7fcda45a1663734"
   }
  }
 },
 "nbformat": 4,
 "nbformat_minor": 2
}