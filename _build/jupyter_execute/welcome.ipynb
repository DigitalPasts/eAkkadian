{
 "cells": [
  {
   "cell_type": "markdown",
   "metadata": {},
   "source": [
    "# Introduction to Akkadian\n",
    "**Design by the [Digital Pasts Lab](https://digitalpasts.github.io/)** // **Powered by [Jupiter Book](https://jupyterbook.org/en/stable/intro.html)**\n",
    "\n",
    "This website hosts an online course book, *Introduction to Akkadian*, which offers a short introduction to the \n",
    "\n",
    "**What is Akkadian?**\n",
    "Akkadian is due to his geographical and chronological distrbution one of most important languages in the Ancient Near East. Its written tradition is very long as well. \n",
    "\n",
    "- Mesopotamia - definition\n",
    "- Akkadian - where the names comes from\n",
    "- Assyrian Babylonians\n",
    "- Arameans, Hebrews, Greeks\n",
    "- Great epic: Gilgamesh, Enuma elish\n",
    "- Great monuments: Ninive \n",
    "\n",
    "\n",
    "**Why in Jupyter Notebooks?**\n",
    "This is the forst attempt to write an online course\n",
    "flexible\n",
    "interactiv\n",
    "\n",
    "**Acknowledgements**\n",
    "The newly published volume *History of Akkadian Language*"
   ]
  }
 ],
 "metadata": {
  "kernelspec": {
   "display_name": "Python 3.10.0 64-bit",
   "language": "python",
   "name": "python3"
  },
  "language_info": {
   "codemirror_mode": {
    "name": "ipython",
    "version": 3
   },
   "file_extension": ".py",
   "mimetype": "text/x-python",
   "name": "python",
   "nbconvert_exporter": "python",
   "pygments_lexer": "ipython3",
   "version": "3.8.8"
  },
  "vscode": {
   "interpreter": {
    "hash": "5c26deda390e14352809ff5e3846854a2e41da099b7523d3f7fcda45a1663734"
   }
  }
 },
 "nbformat": 4,
 "nbformat_minor": 2
}