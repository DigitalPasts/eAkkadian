{
 "cells": [
  {
   "attachments": {},
   "cell_type": "markdown",
   "metadata": {},
   "source": [
    "# L8.0: Introduction\n",
    "\n",
    "- L8.1: [N-Stem](08_01_n-stem.ipynb)\n",
    "- L8.2: [tan-Stems](08_02_tan-stem.ipynb) \n",
    "- L8.3: [ta-Stem](08_03_ta-stem.ipynb)\n",
    "- L8.4: [ŠD-Stem](08_04_ShD-stem.ipynb)\n",
    "- L8.5: [Interrogation](08_05_interrogation.ipynb)\n",
    "- L8.6: [Exercises](08_06_exercises.ipynb)\n",
    "- L8.7: [Vocabulary](08_07_vocabulary.ipynb)\n",
    "- L8.8: [Assignment](08_08_assignment.ipynb)"
   ]
  }
 ],
 "metadata": {
  "kernelspec": {
   "display_name": "Python 3.10.0 64-bit",
   "language": "python",
   "name": "python3"
  },
  "language_info": {
   "name": "python",
   "version": "3.10.0"
  },
  "orig_nbformat": 4,
  "vscode": {
   "interpreter": {
    "hash": "5c26deda390e14352809ff5e3846854a2e41da099b7523d3f7fcda45a1663734"
   }
  }
 },
 "nbformat": 4,
 "nbformat_minor": 2
}
