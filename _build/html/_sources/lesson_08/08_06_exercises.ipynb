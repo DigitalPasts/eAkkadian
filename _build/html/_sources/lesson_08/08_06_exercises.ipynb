{
 "cells": [
  {
   "attachments": {},
   "cell_type": "markdown",
   "metadata": {},
   "source": [
    "# L8.5: Exercises\n",
    "\n",
    "## Gt-Stem\n",
    "\n",
    "Analyse and translate the following forms:\n",
    "1. *ina mithurim*\n",
    "2. *imtahrū*\n",
    "3. *imtahaṣ*\n",
    "4. *nimtagar*\n",
    "5. *tiṣbutā*\n",
    "\n",
    "Translate\n",
    "1. *ṣubātam damqam litbašī*\n",
    "2. *ittīša ittatīl*\n",
    "3. *ina bītīki tētellî*\n",
    "4. *ammīnim tamtahhaṣā*\n",
    "5. *šaman piššuš abīja*"
   ]
  }
 ],
 "metadata": {
  "kernelspec": {
   "display_name": "Python 3.10.0 64-bit",
   "language": "python",
   "name": "python3"
  },
  "language_info": {
   "name": "python",
   "version": "3.10.0"
  },
  "orig_nbformat": 4,
  "vscode": {
   "interpreter": {
    "hash": "5c26deda390e14352809ff5e3846854a2e41da099b7523d3f7fcda45a1663734"
   }
  }
 },
 "nbformat": 4,
 "nbformat_minor": 2
}
