{
 "cells": [
  {
   "cell_type": "markdown",
   "metadata": {},
   "source": [
    "# eAkkadian: An online Coursebook\n",
    "**Design by the [Digital Pasts Lab](https://digitalpasts.github.io/) // Powered by [Jupyter Book](https://jupyterbook.org/)**\n",
    "\n",
    "````{margin} \n",
    "```{note} There are three main sources for the Sennacherib's third military campaign: [Taylor Prism](https://cdli.ucla.edu/search/search_results.php?SearchMode=Text&ObjectID=P421809) in the British Museum. The [Chicago Prism](https://cdli.ucla.edu/search/search_results.php?SearchMode=Text&ObjectID=P313081) in the Oriental Institute, University of Chicago, and the [Jerusalem Prism](https://cdli.ucla.edu/search/search_results.php?SearchMode=Text&ObjectID=P430082) in the Israel Museum, Jerusalem\n",
    "```\n",
    "````\n",
    "\n",
    "On the year 701 BCE the Assyrian King Sennacherib led his troops against rebellious kingdoms in the Levant. This was his third military campaign. In his annals, written in Akkadian on clay prisms, the narration begins as follows:   \n",
    "\n",
    "```{figure} C:/Users/luiss/introduction_to_akkadian/images/taylor-prism-3-campaign_detail.png\n",
    "---\n",
    "name: detail-taylor-prism-3-campaign.png\n",
    "---\n",
    "Details from the [Taylor Prism](https://www.britishmuseum.org/collection/object/W_1855-1003-1) of the third campaign.\n",
    "```\n",
    "\n",
    "| Transliteration | Translation |\n",
    "| --------------- | ----------- | \n",
    "| (ii 37) *i-na šal-ši ger-ri-ia a-na* <sup>kur</sup>*ḫa-at-ti lu al-lik* (ii 37) <sup>m</sup>*lu-li-i* LUGAL <sup>uru</sup>*ṣi-du-un-ni pul-ḫi me-lam-me* (ii 39) *be-lu-ti-ia is-ḫu-pu-šu-ma a-na ru-uq-qí* (ii 40) *qa-bal tam-tim in-na-bit-ma šad-da-šú e-mid* (ii 41) <sup>uru</sup>*ṣi-du-un-nu* GAL*-ú* <sup>uru</sup>*ṣi-du-un-nu ṣe-eḫ-ru* (ii 42) <sup>uru</sup>É-*zi-it-te* <sup>uru</sup>*ṣa-ri-ip-tu* <sup>uru</sup>*ma-ḫal-li-ba* (ii 43) <sup>uru</sup>*ú-šu-ú* <sup>uru</sup>*ak-zi-ba* <sup>uru</sup>*ak-ku-ú* (ii 44) URU.MEŠ-*šú dan-nu-ti* É BÀD.MEŠ-*ni a-šar ri-i-ti* (ii 45) *ù maš-qí-ti* É *tuk-la-ti-šú ra-šub-bat* GIŠ.TUKUL <sup>d</sup>*aš-šur* (ii 46) EN-*ia is-ḫu-pu-šú-nu-ti-ma ik-nu-šú* (ii 47) *še-pu-ú-a* | On my third campaign, I marched to the land Ḫatti. Fear of my lordly brilliance overwhelmed Lulî, the king of the city Sidon, and he fled afar into the midst of the sea. The awesome terror of the weapon of the god Aššur, my lord, overwhelmed the cities Great Sidon, Lesser Sidon, Bīt-Zitti, Ṣarepta, Maḫalliba, Ušû, Akzibu, (and) Acco, his fortified cities (and) fortresses, an area of pasture(s) and water-place(s), resources upon which he relied, and they bowed down at my feet.|\n",
    "\n",
    "He marches all the way south until the gates of Jerusalem punishing those who rebelled and showing mercy to those who were loyal. With all his military power Sennacherib conquers one judean city after another including the fortification of Lachish and siege Jerusalem. Hezekiah, king of Juda, was among the rebellious kings. The narration continues:  \n",
    "\n",
    "| Transliteration | Translation |\n",
    "| --------------- | ----------- | \n",
    "| (iii 19) *ša la ik-nu-šú a-na ni-ri-ia* 46 URU.MEŠ-*šú* *dan-nu-ti* (iii 20) É BÀD.MEŠ *ù* URU.MEŠ TUR.MEŠ *ša li-me-ti-šú-nu* (iii 21) *ša ni-ba la i-šu-ú i-na šuk-bu-us a-ram-me* (iii 22) *ù qit-ru-ub šu-pi-i mit-ḫu-uṣ zu-uk* GÌR.II (iii 23) *pil-ši nik-si ù kal-ban-na-te al-me* KUR-*ud* (iii 24) 2 ME LIM 1 ME 50 UN.MEŠ TUR GAL NITA ù MUNUS (iii 25) ANŠE.KUR.RA.MEŠ ANŠE.KUNGA.MEŠ ANŠE.MEŠ ANŠE.GAM.MAL.MEŠ (iii 26) GU₄.MEŠ *ù ṣe-e-ni ša la ni-bi ul-tu qer-bi-šú-un* (iii 27) *ú-še-ṣa-am-ma šal-la-tiš am-nu šá-a-šú* GIM MUŠEN *qu-up-pi* (iii 28) *qé-reb* URU.*ur-sa-li-im-mu* URU LUGAL-*ti-šú* (iii 29) *e-sír-šú* URU.ḪAL.ṢU.MEŠ UGU-*šú ú-rak-kis-ma* (iii 30) *a-ṣe-e* KÁ.GAL URU-*šú ú-ter-ra ik-ki-bu-uš* URU.MEŠ-*šú* (iii 31) *ša áš-lu-la ul-tu qé-reb* KUR-*šú ab-tuq-ma* (iii 32) *a-na* <sup>m</sup>*mi-ti-in-ti* LUGAL <sup>uru</sup>*as-du-di* (iii 33) <sup>m</sup>*pa-di-i* LUGAL <sup>uru</sup>*am-qar-ru-na ù* <sup>m</sup>GISSU-EN (iii 34) LUGAL <sup>uru</sup>*ḫa-zi-ti ad-din-ma ú-ṣa-aḫ-ḫir* KUR-*su* (iii 35) *e-li* GUN *maḫ-ri-ti na-dan šat-ti-šú-un** (iii 36) *man-da-at-tu kàd-re-e be-lu-ti-ia ú-rad-di-ma* (iii 37) *ú-kin ṣe-ru-uš-šú šu-ú* [...] | Moreover, (as for) Hezekiah of the land Judah, who had not submitted to my yoke, I surrounded (and) conquered forty-six of his fortified cities, (iii 20) fortresses, and small(er) settlements in their environs, which were without number, by having ramps trodden down and battering rams brought up, the assault of foot soldiers, sapping, breaching, and siege engines. I brought out of them 200,150 people, young (and) old, male and female, (iii 25) horses, mules, donkeys, camels, oxen, and sheep and goats, which were without number, and I counted (them) as booty. (iii 27b) **As for him (Hezekiah), I confined him inside the city Jerusalem, his royal city, like a bird in a cage.** I set up blockades against him and (iii 30) made him dread exiting his city gate. I detached from his land the cities of his that I had plundered and I gave (them) to Mitinti, the king of the city Ashdod, Padî, the king of the city Ekron, and Ṣilli-Bēl, the king of the city Gaza, and (thereby) made his land smaller. (iii 35) To the former tribute, their annual giving, I added the payment (of) gifts (in recognition) of my overlordship and imposed (it) upon them (text: “him”).|\n",
    "\n",
    "However for some reasons Sennacherib spared the life of Hiskia and did not take the city in exchange of tributes as is narrated in the Old Testament: \n",
    "\n",
    "```{admonition} 2 Kings 18: 14\n",
    "| BHS | KJV |\n",
    "| ---------------: | ----------- | \n",
    "|וַיִּשְׁלַח חִזְקִיָּה מֶלֶךְ־יְהוּדָה אֶל־מֶלֶךְ־אַשּׁוּר לָכִישָׁה לֵאמֹר חָטָאתִי שׁוּב מֵעָלַי אֵת אֲשֶׁר־תִּתֵּן עָלַי אֶשָּׂא וַיָּשֶׂם מֶלֶךְ־אַשּׁוּר עַל־חִזְקִיָּה מֶלֶךְ־יְהוּדָה שְׁלֹשׁ מֵאֹות כִּכַּר־כֶּסֶף וּשְׁלֹשִׁים כִּכַּר זָהָב׃ | And Hezekiah king of Judah sent to the king of Assyria to Lachish, saying, I have offended; return from me: that which thou puttest on me will I bear. And the king of Assyria appointed unto Hezekiah king of Judah three hundred talents of silver and thirty talents of gold.|\n",
    "```\n",
    "As well as in the prism:\n",
    "\n",
    "| Transliteration | Translation |\n",
    "| --------------- | ----------- | \n",
    "| (iii 37b) <sup>m</sup>*ḫa-za-qi-a-ú* (iii 38) *pul-ḫi me-lam-me be-lu-ti-ia is-ḫu-pu-šu-ma* (iii 39) LÚ.*úr-bi ù* LÚ.ERIM.MEŠ-*šú* SIG₅.MEŠ *ša a-na dun-nun* (iii 40) URU.*ur-sa-li-im-mu* URU LUGAL*-ti-šú ú-še-ri-bu-ma* (iii 41) *ir-šu-ú til-la-a-ti it-ti* 30 GUN KÙ.GI (iii 42) 8 ME GUN KÙ.BABBAR *ni-siq-ti gu-uḫ-li* (iii 43) *ták-kàs-si* NA₄.AN.ZA.GUL.ME GAL.MEŠ GIŠ.NÁ.MEŠ ZÚ (iii 44) GIŠ.GU.ZA.MEŠ *né-me-di* ZÚ KUŠ AM.SI ZÚ AM.SI (iii 45) GIŠ.ESI GIŠ.TÚG *mim-ma šum-šú ni-ṣir-tu ka-bit-tu* (iii 46) *ù* DUMU.MUNUS.MEŠ-*šú* MUNUS.UN.MEŠ É.GAL-*šú* LÚ.NAR.MEŠ (iii 47) MUNUS.NAR.MEŠ (a-na qé-reb) NINA.KI URU *be-lu-ti-ia* (iii 48) EGIR-*ia ú-še-bi-lam-ma a-na na-dan man-da-at-te* (iii 49) *ù e-peš* ARAD-*ú-ti iš-pu-ra rak-bu-šú* | (iii 37b) As for him, Hezekiah, fear of my lordly brilliance overwhelmed him and, after my (departure), he had the auxiliary forces and his elite troops whom (iii 40) he had brought inside to strengthen the city Jerusalem, his royal city, thereby gaining reinforcements, along with 30 talents of gold, 800 talents of silver, choice antimony, large blocks of ..., ivory beds, armchairs of ivory, elephant hide(s), elephant ivory, (iii 45) ebony, boxwood, every kind of valuable treasure, as well as his daughters, his palace women, male singers, (and) female singers brought into Nineveh, my capital city, and he sent a mounted messenger of his to me to deliver (this) payment and to do obeisance.|\n",
    "\n",
    "This is one of the most famous assyrian prisms and Akkadian texts.\n",
    "\n",
    "## What is Akkadian? 👅\n",
    "But what is Akkadian? This prism is written in Akkadian, more especifically in the Standard Babylonian dialect of Akkadian, the official language of the Assyrian kings. Akkadian is due to his geographical and chronological distrbution one of most important languages in the Ancient Near East. Its written tradition is likewise only comparable to latin (Streck {cite:year}). This language was in antiquity the *lingua franca* in the Ancient Near East. It was written with the so-called [cuneiform](cuneif) script on wet clay, stones, metall, etc. Its decipherment was an accomplishment of many generations of scholars and its understanding brought light into the culture, science, literature, magic and history of the Ancient Near East and therefore of the Old Testament as well.  \n",
    "\n",
    "## What is this online course? 🧑‍💻\n",
    "This website hosts an online course book, *eAkkadian*, which offers a short introduction to the Akkadian language. By the end of this course the reading the prism presented above will be as easy as reading a tabloid.\n",
    "\n",
    "## Why a [Jupiter Book](https://jupyterbook.org/en/stable/intro.html)? 🚀\n",
    "Jupyter Notebooks offer a very powerful platform for dynamic content. So this book aim not just to be a regular textbook but rather an interactive *vademecum* for the Akkadian language and culture."
   ]
  },
  {
   "cell_type": "markdown",
   "metadata": {},
   "source": []
  }
 ],
 "metadata": {
  "kernelspec": {
   "display_name": "Python 3.10.0 64-bit",
   "language": "python",
   "name": "python3"
  },
  "language_info": {
   "codemirror_mode": {
    "name": "ipython",
    "version": 3
   },
   "file_extension": ".py",
   "mimetype": "text/x-python",
   "name": "python",
   "nbconvert_exporter": "python",
   "pygments_lexer": "ipython3",
   "version": "3.10.0"
  },
  "orig_nbformat": 4,
  "vscode": {
   "interpreter": {
    "hash": "5c26deda390e14352809ff5e3846854a2e41da099b7523d3f7fcda45a1663734"
   }
  }
 },
 "nbformat": 4,
 "nbformat_minor": 2
}
