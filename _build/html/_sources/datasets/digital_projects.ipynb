{
 "cells": [
  {
   "cell_type": "markdown",
   "metadata": {},
   "source": [
    "# Datasets\n",
    "This is a repository\n",
    "\n",
    "## Literature\n",
    "\n",
    "## Audio Files\n",
    "\n",
    "https://soundcloud.com/soas-university-of-london/sets/babylonian-and-assyrian-poetry\n",
    "\n",
    "## Films\n",
    "\n",
    "https://www.soas.ac.uk/research/epic-gilgamesh-ancient-poem-modern-inspiration\n",
    "\n",
    "https://www.youtube.com/watch?v=CcLwoa19kLw\n",
    "\n",
    "https://www.youtube.com/watch?v=XFT7Nr7DUHM\n"
   ]
  }
 ],
 "metadata": {
  "kernelspec": {
   "display_name": "Python 3.10.0 64-bit",
   "language": "python",
   "name": "python3"
  },
  "language_info": {
   "name": "python",
   "version": "3.10.0"
  },
  "orig_nbformat": 4,
  "vscode": {
   "interpreter": {
    "hash": "5c26deda390e14352809ff5e3846854a2e41da099b7523d3f7fcda45a1663734"
   }
  }
 },
 "nbformat": 4,
 "nbformat_minor": 2
}
