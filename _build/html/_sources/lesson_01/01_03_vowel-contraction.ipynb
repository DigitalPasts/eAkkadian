{
 "cells": [
  {
   "cell_type": "markdown",
   "metadata": {},
   "source": [
    "(vowel-contraction)=\n",
    "# L1.5: Vowel Contractions \n",
    "When two vowels appear consecutively, they are usually contracted. Generally the second one dominates. This contraction length is shown by circumflex:\n",
    "\n",
    "| First vowel + second vowel | contracted long vowel |\n",
    "| -------------------------- | --------------------- |\n",
    "| *a* + *a*                  | *â*                   |\n",
    "| *a* + *i*                  | *ê*                   |\n",
    "| *a* + *u*                  | *û*                   |\n",
    "|||\n",
    "| *i* + *a*                  | *ia* (*â*)            |\n",
    "| *i* + *i*                  | *î*                   |\n",
    "| *i* + *u*                  | *û*                   |\n",
    "|||\n",
    "| *u* + *a*                  | *â*                   |\n",
    "| *u* + *i*                  | *î*                   |\n",
    "| *u* + *u*                  | *û*                   |"
   ]
  },
  {
   "cell_type": "code",
   "execution_count": null,
   "metadata": {},
   "outputs": [],
   "source": []
  }
 ],
 "metadata": {
  "kernelspec": {
   "display_name": "Python 3.10.0 64-bit",
   "language": "python",
   "name": "python3"
  },
  "language_info": {
   "name": "python",
   "version": "3.10.0"
  },
  "orig_nbformat": 4,
  "vscode": {
   "interpreter": {
    "hash": "5c26deda390e14352809ff5e3846854a2e41da099b7523d3f7fcda45a1663734"
   }
  }
 },
 "nbformat": 4,
 "nbformat_minor": 2
}
