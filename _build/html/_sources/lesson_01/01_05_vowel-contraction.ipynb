{
 "cells": [
  {
   "cell_type": "markdown",
   "metadata": {},
   "source": [
    "(vowel-contraction)=\n",
    "# L1.5: Vowel Contractions \n",
    "When two vowels appear consecutively, they are usually contracted. Generally the second one dominates. This contraction length is shown by circumflex:\n",
    "\n",
    "\n",
    "| First vowel + second vowel | contracted long vowel | Example                  | Translations |\n",
    "| -------------------------- | :-------------------: | :-----:                  | -----------: |\n",
    "| *a* + *u*                  | *û*                   | *rubûm* (<*ruba*-*um*) | prince\n",
    "| *a* + *i*                  | *ê*                   | *rubêm* (<*ruba*-*im*) |\n",
    "| *a* + *a*                  | *â*                   | *rubâm* (<*ruba*-*am*) |\n",
    "\n",
    "| First vowel + second vowel | contracted long vowel | Example                  | Translations |\n",
    "| -------------------------- | :-------------------: | :-----:                  | -----------: |\n",
    "| *i* + *u*                  | *û*                   | *šanûm* (<*šani*-*um*) | second\n",
    "| *i* + *i*                  | *î*                   | *šanîm* (<*šani*-*im*) |\n",
    "| *i* + *a*                  | *ia* (*â*)            | *šanâm* (<*šani*-*am*) |\n",
    "\n",
    "\n",
    "| First vowel + second vowel | contracted long vowel | Example              | Translations |\n",
    "| -------------------------- | :-------------------: | :-----:              | -----------: |\n",
    "| *u* + *u*                  | *û*                   | *šadûm* (<*šadu-um*) | mountain\n",
    "| *u* + *i*                  | *î*                   | *šadîm* (<*šadu-im*) |\n",
    "| *u* + *a*                  | *â*                   | *šadâm* (<*šadu-am*) | "
   ]
  },
  {
   "cell_type": "code",
   "execution_count": null,
   "metadata": {},
   "outputs": [],
   "source": []
  }
 ],
 "metadata": {
  "kernelspec": {
   "display_name": "Python 3.10.0 64-bit",
   "language": "python",
   "name": "python3"
  },
  "language_info": {
   "name": "python",
   "version": "3.10.0"
  },
  "orig_nbformat": 4,
  "vscode": {
   "interpreter": {
    "hash": "5c26deda390e14352809ff5e3846854a2e41da099b7523d3f7fcda45a1663734"
   }
  }
 },
 "nbformat": 4,
 "nbformat_minor": 2
}
