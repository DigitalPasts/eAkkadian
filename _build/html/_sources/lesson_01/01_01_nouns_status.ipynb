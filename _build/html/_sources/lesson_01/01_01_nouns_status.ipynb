{
 "cells": [
  {
   "cell_type": "markdown",
   "metadata": {},
   "source": [
    "# Lesson 1: Status\n",
    "In Akkadian there are three status:\n",
    "\n",
    "**Status rectus** is the inflected (nominative, genitive, accusative) form of the noun without genitive. \n",
    "\n",
    "| *Status rectus* | Translation |\n",
    "|---------------- | ----------- |\n",
    "| *šarrum* (nom.) | king        |\n",
    "| *ilam* (acc.)   | god         |\n",
    "| *ālim*  (gen.)  | city        |\n",
    "| *bēlum* (nom.)  | lord        |\n",
    "\n",
    "The endings in the *status rectus* contains the elemen *-m* and is called [*mimmation*](https://en.wikipedia.org/wiki/Mimation) (there is also an ending with *-n* called [*nunnation*](https://en.wikipedia.org/wiki/Nunation)). It begins to desappear already in the old Babylonian period, later on completely. For more details see \n",
    "\n",
    "**Status constructus** is the form of a noun before another one in genitiv and before a possessive suffix. This is found in all semitic languages. For more details see \n",
    "\n",
    "| Status rectus | *Status constructus* | Genitiv | Translation       |     | Possessive suffix  | Translation |\n",
    "| ------------- | -------------------- | ------- | ----------------- | --- | ------------------ | ----------- |\n",
    "| *bēlum*       | *bēl*                | *ālim*  | lors of the city  |     | *bēl-ī*              | my lord     |\n",
    "\n",
    "\n",
    "**Status absolutus** is the form without ending. It occurs rarely and it is used for the vocative, numerals, measures of length , weight, etc. and in some frozen idiomatic expressions. This is found only in Akkadian and Aramaic.\n",
    "\n",
    "| Status absolutus | status rectus | Translation |\n",
    "|----------------- | ------------- | ----------- |\n",
    "| zikar[^\\*]           | zikarum       | viril       |\n",
    "| šarrat           | šarratum      | queen       |\n",
    "| šinniš[^\\*]          | šinništum     | woman       |\n",
    "\n",
    "[^\\*]: they are often used in the idiomatic expressions *zikar u šinniš* \"male and female\".\n",
    "\n",
    "## Declension\n"
   ]
  }
 ],
 "metadata": {
  "kernelspec": {
   "display_name": "Python 3.10.0 64-bit",
   "language": "python",
   "name": "python3"
  },
  "language_info": {
   "name": "python",
   "version": "3.10.0"
  },
  "orig_nbformat": 4,
  "vscode": {
   "interpreter": {
    "hash": "5c26deda390e14352809ff5e3846854a2e41da099b7523d3f7fcda45a1663734"
   }
  }
 },
 "nbformat": 4,
 "nbformat_minor": 2
}
