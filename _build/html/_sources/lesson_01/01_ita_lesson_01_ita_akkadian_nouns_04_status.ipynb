{
 "cells": [
  {
   "cell_type": "markdown",
   "metadata": {},
   "source": [
    "# Akkadian Nouns - Status\n",
    "There are three status:\n",
    "\n",
    "- **Status rectus** is the inflected form of the noun without genitive. Example: *šarrum* King.\n",
    "\n",
    "- **Status constructus:** is the form of a noun before another one in genitiv and before a possessive suffix.\n",
    "\n",
    "- **Status absolutus** is the form without ending. It is used for the vocative, numbers and in some idiomatic expressions.\n",
    "\n"
   ]
  }
 ],
 "metadata": {
  "kernelspec": {
   "display_name": "Python 3.10.0 64-bit",
   "language": "python",
   "name": "python3"
  },
  "language_info": {
   "name": "python",
   "version": "3.10.0"
  },
  "orig_nbformat": 4,
  "vscode": {
   "interpreter": {
    "hash": "5c26deda390e14352809ff5e3846854a2e41da099b7523d3f7fcda45a1663734"
   }
  }
 },
 "nbformat": 4,
 "nbformat_minor": 2
}
