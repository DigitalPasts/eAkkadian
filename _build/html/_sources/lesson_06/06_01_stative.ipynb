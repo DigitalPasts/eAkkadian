{
 "cells": [
  {
   "attachments": {},
   "cell_type": "markdown",
   "metadata": {},
   "source": [
    "```{margin}\n",
    "GoA 33.2\n",
    "```\n",
    "\n",
    "# L6.1: Stative\n",
    "It is still a matter of discussion if the stative is a verbal or a nominal form. It seems to have developped from a nominal sentence but at the same time it possesses personal endings like a verb. Thus in this coursebook it will be treated as a category on its own between verbs and nouns. The stative is used to describe states in constrast to the tenses, that reproduce dynamic actions, events, processes, etc.\n",
    "\n",
    "```{admonition} Example\n",
    "Stative: *ṭāb* \"it is good\"\n",
    "Preterite: *iṭīb* \"he became good\"\n",
    "```\n",
    "\n",
    "## Endings of the Stative\n",
    "|         | Independent Pronouns   | Stative without *e*-Coloration    | Stative without *e*-Coloration |\n",
    "|-------- | ----------------------- |---------------------------------  | ------------------------------ | \n",
    "| 3m      | *šū*                    | -ø                                | -ø \n",
    "| 3f      | *šī*                    | *-at*                             | *-et*                             \n",
    "| 2m      | *attā*                  | *-āta*                            | *-ēta*                           \n",
    "| 2f      | *atti*                  | *-āti*                            | *-ēti*                            \n",
    "| 1c      | *anāku*                 | *-āku*                            | *-ēku*                              \n",
    "| 3m      | *šunu*                  | *-ū*                              | *-ū*                               \n",
    "| 3f      | *šina*                  | *-ā*                              | *-ā*                              \n",
    "| 2m      | *attunu*                | *-ātunu*                          | *-ētunu*                          \n",
    "| 2f      | *attina*                | *-ātina*                          | *-ētina*                          \n",
    "| 1c      | *nīnu*                  | *-ānu*                            | *-ēnu*                          \n",
    "\n",
    "The stative can be build from an adjective or a nonun:\n",
    "\n",
    "## Stative from an Adjective\n",
    "\n"
   ]
  }
 ],
 "metadata": {
  "kernelspec": {
   "display_name": "Python 3.10.0 64-bit",
   "language": "python",
   "name": "python3"
  },
  "language_info": {
   "name": "python",
   "version": "3.10.0 (tags/v3.10.0:b494f59, Oct  4 2021, 19:00:18) [MSC v.1929 64 bit (AMD64)]"
  },
  "orig_nbformat": 4,
  "vscode": {
   "interpreter": {
    "hash": "5c26deda390e14352809ff5e3846854a2e41da099b7523d3f7fcda45a1663734"
   }
  }
 },
 "nbformat": 4,
 "nbformat_minor": 2
}
