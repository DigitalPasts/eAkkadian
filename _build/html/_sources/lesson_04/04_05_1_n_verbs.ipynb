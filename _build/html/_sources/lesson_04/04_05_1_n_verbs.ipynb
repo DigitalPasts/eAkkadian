{
 "cells": [
  {
   "cell_type": "markdown",
   "metadata": {},
   "source": [
    "# L4.5: I-*n* Verbs\n",
    "These verbs follow the conjugation of the strong verb. The root augment *n(a)* of these verbs expresses a direction:\n",
    "\n",
    "```{admonition} Example\n",
    "*nadānum* \"to give\"\n",
    "```\n",
    "\n",
    "Other verbs are onomatopoetic:\n",
    "\n",
    "```{admonition} Example\n",
    "*nabāhum* \"to bark\"\n",
    "```\n",
    "The *n* assimilates to the following consonant:\n",
    "```{admonition} Example\n",
    "- *iddin* \"he gave\" < \\**indin*.\n",
    "- *aqqur* \"I tore\" < \\**anqur*.\n",
    "```\n",
    "\n",
    "## Conjugation of the verbs I-*n*\n",
    "|         | Durative        | Perfect    | Preterite    |\n",
    "| ------- | --------------  | --------   | ---------    |\n",
    "| 3s.c.   | *inaqqar*       | *ittaqar*  | *iqqur*      | \n",
    "| 2s.m.   | *tanaqqar*      | *tattaqar* | *taqqur*     |\n",
    "| 2s.f.   | *tanaqqarī*     | *tattaqarī* | *taqqurī*\n",
    "| 1s.c.   | *anaqqar*       | *attaqar*  | *aqqur*\n",
    "| 3pl.m.  | *inaqqarū*      | *ittaqarū* | *iqqurū*\n",
    "| 3pl.f.  | *inaqqarā*      | *ittaqarā* | *iqqurā*\n",
    "| 2pl.c.  | *tanaqqarā*     | *tattaqarā* | *taqqurā*\n",
    "| 1pl.c.  | *ninaqqar*      | *nittaqar*  | *niqqur*\n",
    "\n",
    "## Paradigm of the verbs I-*n*\n",
    "|               | Durative        | Perfect    | Preterite    | Participle    | Infinitve | Verbal Adjective |\n",
    "| -------       | --------------  | --------   | ---------    | ------------  | --------  | ---------------  | \n",
    "| G *a/u*-class | *inaqqar*       | *ittaqar*  | *iqqur*      | *nāqirum*     | *naqārum* | *naqrum*         |\n",
    "| G *i*-class   | *inakkis*       | *ittakis*  | *ikkis*      | *nākisum*     | *nakāsum* | *naksum*         |\n",
    "| G *u*-class   | *inabbuh*       | *ittabuh*  | *ibbuh*      | *nābihum*     | *nabāhum* | --               | "
   ]
  }
 ],
 "metadata": {
  "kernelspec": {
   "display_name": "Python 3.10.0 64-bit",
   "language": "python",
   "name": "python3"
  },
  "language_info": {
   "name": "python",
   "version": "3.10.0"
  },
  "orig_nbformat": 4,
  "vscode": {
   "interpreter": {
    "hash": "5c26deda390e14352809ff5e3846854a2e41da099b7523d3f7fcda45a1663734"
   }
  }
 },
 "nbformat": 4,
 "nbformat_minor": 2
}
