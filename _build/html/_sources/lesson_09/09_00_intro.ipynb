{
 "cells": [
  {
   "attachments": {},
   "cell_type": "markdown",
   "metadata": {},
   "source": [
    "# L9.0: Introduction\n",
    "\n",
    "- L9.1: [Weak Verbs](09_01_weak_verbs.ipynb)\n",
    "- L9.2: [Verbs I-n](09_02_1_n_verbs.ipynb) \n",
    "- L9.3: [Verbs I-w](09_03_1_w_verbs.ipynb)\n",
    "- L9.4: [DH-Topic](09_04_dh-topic.ipynb)\n",
    "- L9.5: [Exercises](09_05_exercises.ipynb)\n",
    "- L9.6: [Vocabulary](09_06_vocabulary.ipynb)\n",
    "- L9.7: [Assignment](09_07_assignment.ipynb)"
   ]
  }
 ],
 "metadata": {
  "kernelspec": {
   "display_name": "Python 3.10.0 64-bit",
   "language": "python",
   "name": "python3"
  },
  "language_info": {
   "name": "python",
   "version": "3.10.0"
  },
  "orig_nbformat": 4,
  "vscode": {
   "interpreter": {
    "hash": "5c26deda390e14352809ff5e3846854a2e41da099b7523d3f7fcda45a1663734"
   }
  }
 },
 "nbformat": 4,
 "nbformat_minor": 2
}
