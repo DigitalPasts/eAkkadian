{
 "cells": [
  {
   "cell_type": "markdown",
   "metadata": {},
   "source": [
    "# Introduction\n",
    "This section introduces the Akkadian language, its history and phoneme inventory. It describes as well the cuneiform script, that is intrinsically attached to Akkadian. Lastly it shows the word class classification that we will follow in this course.\n",
    "\n",
    "- L0.1: [Akkadian as Semitic Language](akk-sem)\n",
    "- L0.2: [History and Periodisation](hist-per)\n",
    "- L0.3: [Akkadische Phoneme](akk-phon)\n",
    "- L0.4: [Syllabification](syllab)\n",
    "- L0.5: [Cuneiform Script](cuneif)\n",
    "- L0.6: [Vocabulary and Signs](voc-sig)\n",
    "- L0.7: [Excercises: Reading and Writing](ex-intro)\n"
   ]
  }
 ],
 "metadata": {
  "kernelspec": {
   "display_name": "Python 3.10.0 64-bit",
   "language": "python",
   "name": "python3"
  },
  "language_info": {
   "name": "python",
   "version": "3.10.0"
  },
  "orig_nbformat": 4,
  "vscode": {
   "interpreter": {
    "hash": "5c26deda390e14352809ff5e3846854a2e41da099b7523d3f7fcda45a1663734"
   }
  }
 },
 "nbformat": 4,
 "nbformat_minor": 2
}
