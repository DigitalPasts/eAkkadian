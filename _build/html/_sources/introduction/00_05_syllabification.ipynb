{
 "cells": [
  {
   "cell_type": "markdown",
   "metadata": {},
   "source": [
    "(syllab)=\n",
    "# L0.5: Syllabification, Orthography and Transliteration\n",
    "\n",
    "## Transliteration vs Transkription\n",
    "For practical reasons, cuneiform writing is often translated into the alphabet writing. We distinguish between **transliteration** and **transcription**. \n",
    "\n",
    "- The **transliteration** reproduces all the signs of a word and connects them with a hyphen.\n",
    "- The **transcription** is the reconstruction of the word.\n",
    "\n",
    "| Akkadian word | Transliteration | Transkription | Translation |\n",
    "| -------- | :--------: | :---------: | :----------: |\n",
    "| <font size=\"11\">𒀀𒇻𒌝</font> | *a-lu-um* | *ālum* | city |\n",
    "| <font size=\"11\">𒂗</font> | EN | *bēlum* | lord | \n",
    "  \n",
    "\n",
    "## Orthography\n",
    "Words can be written logographic as well as syllabic:\n",
    "\n",
    "| Logogram | Cuneiform | Syllabic writing | Cuneiform |\n",
    "| -------- | :--------: | :---------: | :----------: |\n",
    "| E₂ | <font size=\"11\">𒂍</font> | <font size=\"11\">𒁉𒌅𒌝</font> | *bi-tu-um* |\n",
    "| EN | <font size=\"11\">𒂗</font> | <font size=\"11\">𒁁𒇻𒌝</font> | *be-lu-um* |\n",
    "| GAL | <font size=\"11\">𒃲</font> | <font size=\"11\">𒊏𒁍𒌝</font> | *ra-bu-um* |\n",
    "\n"
   ]
  }
 ],
 "metadata": {
  "kernelspec": {
   "display_name": "Python 3.10.0 64-bit",
   "language": "python",
   "name": "python3"
  },
  "language_info": {
   "name": "python",
   "version": "3.10.0"
  },
  "orig_nbformat": 4,
  "vscode": {
   "interpreter": {
    "hash": "5c26deda390e14352809ff5e3846854a2e41da099b7523d3f7fcda45a1663734"
   }
  }
 },
 "nbformat": 4,
 "nbformat_minor": 2
}
