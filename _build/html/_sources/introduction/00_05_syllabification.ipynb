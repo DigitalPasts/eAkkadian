{
 "cells": [
  {
   "cell_type": "markdown",
   "metadata": {},
   "source": [
    "(syllab)=\n",
    "````{margin} Grammar reference\n",
    "GoA 1.2\n",
    "````\n",
    "\n",
    "# L0.5: Syllabification\n",
    "In order to transliterate correctly from cuneiform it is important to determine the syllables that make up a Akkadian word. There are three rules:\n",
    "\n",
    "- A syllable can only have one vowel.\n",
    "- A syllable may not begin or end with two consonants.\n",
    "\n",
    "  | Akkadian word    | Transliteration      | Translation   |\n",
    "  | --------         | :--------:           | :----------:  |\n",
    "  | *balāṭum*        | *ba-la-ṭu-um*        | to live       |\n",
    "  | *narkabtum*      | *nar-kab-tum*        | chariot       |\n",
    "\n",
    "- A syllable may not begin with a vowel:\n",
    "  - Exception 1: At the beginning of a word 👉*elûm*.\n",
    "  - Exception 2: Two succesive vowels 👉*kīam*.\n",
    "    | Akkadian word    | Transliteration      | Translation   |\n",
    "    | --------         | :--------:           | :----------:  |\n",
    "    | *elûm*           | *e-lum*              | upper         |\n",
    "    | *kīam* or *kiʾam* | *ki-am* or *ki-ʾam*  | so, thus      |\n",
    "    \n",
    "  \n",
    "  "
   ]
  }
 ],
 "metadata": {
  "kernelspec": {
   "display_name": "Python 3.10.0 64-bit",
   "language": "python",
   "name": "python3"
  },
  "language_info": {
   "name": "python",
   "version": "3.10.0"
  },
  "orig_nbformat": 4,
  "vscode": {
   "interpreter": {
    "hash": "5c26deda390e14352809ff5e3846854a2e41da099b7523d3f7fcda45a1663734"
   }
  }
 },
 "nbformat": 4,
 "nbformat_minor": 2
}
