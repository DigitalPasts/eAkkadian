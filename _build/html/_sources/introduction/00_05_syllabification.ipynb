{
 "cells": [
  {
   "cell_type": "markdown",
   "metadata": {},
   "source": [
    "(syllab)=\n",
    "# L0.5: Transliteration, Transcription, Syllabification and Orthography\n",
    "\n",
    "## Transliteration vs Transkription\n",
    "For practical reasons, cuneiform writing is often translated into the alphabet writing. We distinguish between **transliteration** and **transcription**. \n",
    "\n",
    "- The **transliteration** reproduces all the signs of a word and connects them with a hyphen.\n",
    "- The **transcription** is the reconstruction of the word.\n",
    "\n",
    "| Akkadian word | Transliteration | Transkription | Translation |\n",
    "| -------- | :--------: | :---------: | :----------: |\n",
    "| <font size=\"11\">𒀀𒇻𒌝</font> | *a-lu-um* | *ālum* | city |\n",
    "| <font size=\"11\">𒁁𒈝</font> | be-lum | *bēlum* | lord | \n",
    "\n",
    "## Syllabification\n",
    "In order to transliterate correctly from cuneiform it is important to determine the syllables that make up a Akkadian word. There are three rules:\n",
    "\n",
    "- A syllable can only have one vowel\n",
    "- A syllable may not begin or end with two consonants.\n",
    "- A syllable may not begin with a vowel:\n",
    "  - Exception 1: At the beginning of a word →*elûm*\n",
    "  - Exception 2: Two succesive vowels →*kīam*\n",
    "  \n",
    "  | Akkadian word | Transliteration | Transkription | Translation |\n",
    "  | --------      | :--------:      | :---------:   | :----------: |\n",
    "  | <font size=\"11\">𒀀𒇻𒌝</font> | *ba-la-ṭu-um* | *balāṭum* | to live |\n",
    "  | <font size=\"11\">𒈜𒆏𒌈</font> | *nar-kab-tum* | *narkabtum* | chariot |\n",
    "  | <font size=\"11\">𒂊𒈝</font> | *e-lum* | *elûm* | upper |\n",
    "  | <font size=\"11\">𒆠𒄠</font> | *ki-am* or *ki-ʾam* | *kīam* or *kiʾam* | so, thus |\n",
    "\n",
    "## Orthography\n",
    "Words can be written logographic as well as syllabic:\n",
    "\n",
    "| Logogram | Cuneiform | Syllabic writing | Cuneiform |\n",
    "| -------- | :--------: | :---------: | :----------: |\n",
    "| E₂ | <font size=\"11\">𒂍</font> | <font size=\"11\">𒁉𒌅𒌝</font> | *bi-tu-um* |\n",
    "| EN | <font size=\"11\">𒂗</font> | <font size=\"11\">𒁁𒇻𒌝</font> | *be-lu-um* |\n",
    "| GAL | <font size=\"11\">𒃲</font> | <font size=\"11\">𒊏𒁍𒌝</font> | *ra-bu-um* |\n",
    "\n",
    "The CVC syllables can be written with a CVC sig or with the combination of a CV and a VC sign:\n",
    "\n",
    "| Akkadian word | Transliteration |  Translation |\n",
    "| --------      | :--------:      |  :----------: |\n",
    "| <font size=\"11\">𒈜𒆏𒌈</font> | *nar-kab-tum* | chariot |\n",
    "| <font size=\"11\">𒈾𒅈𒅗𒀊𒌅𒌝</font> | *na-ar-ka-ab-tu-um* | chariot |\n"
   ]
  }
 ],
 "metadata": {
  "kernelspec": {
   "display_name": "Python 3.10.0 64-bit",
   "language": "python",
   "name": "python3"
  },
  "language_info": {
   "name": "python",
   "version": "3.10.0"
  },
  "orig_nbformat": 4,
  "vscode": {
   "interpreter": {
    "hash": "5c26deda390e14352809ff5e3846854a2e41da099b7523d3f7fcda45a1663734"
   }
  }
 },
 "nbformat": 4,
 "nbformat_minor": 2
}
