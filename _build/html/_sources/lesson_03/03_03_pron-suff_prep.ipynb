{
 "cells": [
  {
   "cell_type": "markdown",
   "metadata": {},
   "source": [
    "```{margin} \n",
    "GoA 10.3\n",
    "```\n",
    "# L3.3: Pronominal Suffixes on Preposition\n",
    "When a personal suffix is attached to a preposition, only the [genitive forms](pron-suff_gen) are used. If the preposition ends with a vowel, it has to be length.\n",
    "\n",
    "\n",
    "|               | Preposition *eli* | Translation  | \n",
    "|--------       | --------------    |--------      |  \n",
    "| 1 sing. com.  | *elīja*           | on me\n",
    "| 2 sing. masc. | *elīka*           | on you            \n",
    "| 2 sing. fem.  | *elīki*           | on you            \n",
    "| 3 sing. masc. | *elīšu*           | on his             \n",
    "| 3 sing. fem.  | *elīša*           | on her            \n",
    "| 1 plu. com.   | *elīni*           | on us\n",
    "| 2 plu. masc.  | *elīkunu*         | on you \n",
    "| 2 plu. fem.   | *elīkina*         | on you\n",
    "| 3 plu. masc.  | *elīšunu*         | on them \n",
    "| 3 plu. fem.   | *elīšina*         | on them\n",
    "\n",
    "\n",
    "```{note} \n",
    "There are prepositions that are used with independent personal pronouns in dative or genitive, like *ina* + genitive or *ina* + dative.\n",
    "```"
   ]
  }
 ],
 "metadata": {
  "kernelspec": {
   "display_name": "Python 3.10.0 64-bit",
   "language": "python",
   "name": "python3"
  },
  "language_info": {
   "name": "python",
   "version": "3.10.0"
  },
  "orig_nbformat": 4,
  "vscode": {
   "interpreter": {
    "hash": "5c26deda390e14352809ff5e3846854a2e41da099b7523d3f7fcda45a1663734"
   }
  }
 },
 "nbformat": 4,
 "nbformat_minor": 2
}
