{
 "cells": [
  {
   "cell_type": "markdown",
   "metadata": {},
   "source": [
    "# L3.10: Vocabulary & Signs\n",
    "\n",
    "## Signs\n",
    "| Sign                      | Sign's Nmae | Phonetic Value |  \n",
    "| ------------------------- | ----------- | -------------- | \n",
    "| <font size=\"11\">𒋗</font>  | ŠU₂       |   *šu*     | \n",
    "| <font size=\"11\">𒄥</font> | GUR        |   *gur*          | \n",
    "| <font size=\"11\">𒋛</font>  | SI         |    *si, se*          |\n",
    "| <font size=\"11\">𒊒</font>  | RU        | *ru*        | \n",
    "| <font size=\"11\">𒌒</font>  | UB        | *ub, up*        | \n",
    "| <font size=\"11\">𒊓</font>  | SA        | *sa*            | \n",
    "| <font size=\"11\">𒌝</font>  | UM        | *um*  |\n",
    "| <font size=\"11\">𒀜</font>  | SU        | *ad, at, aṭ*            |\n",
    "| <font size=\"11\">𒀊</font>  | AB       | *ab, ap*      |\n",
    "| <font size=\"11\">𒍢</font>  | ZE₂        | *ṣi, ṣe, zi₂, ze₂*,    |"
   ]
  }
 ],
 "metadata": {
  "kernelspec": {
   "display_name": "Python 3.10.0 64-bit",
   "language": "python",
   "name": "python3"
  },
  "language_info": {
   "name": "python",
   "version": "3.10.0"
  },
  "orig_nbformat": 4,
  "vscode": {
   "interpreter": {
    "hash": "5c26deda390e14352809ff5e3846854a2e41da099b7523d3f7fcda45a1663734"
   }
  }
 },
 "nbformat": 4,
 "nbformat_minor": 2
}
